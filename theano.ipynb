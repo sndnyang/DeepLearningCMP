{
 "cells": [
  {
   "cell_type": "code",
   "execution_count": 1,
   "metadata": {},
   "outputs": [],
   "source": [
    "from __future__ import absolute_import\n",
    "import os\n",
    "import sys\n",
    "import traceback\n",
    "\n",
    "import numpy\n",
    "import theano\n",
    "\n",
    "os.environ['THEANO_FLAGS'] = \"device=cuda%s,floatX=float32\" % \"5\"\n",
    "\n",
    "import theano.tensor as t_func\n",
    "from theano.tensor.shared_randomstreams import RandomStreams\n",
    "\n",
    "try:\n",
    "    import cPickle as pickle\n",
    "except ImportError:\n",
    "    import pickle as pickle\n",
    "\n",
    "\n",
    "from ExpUtils import *\n",
    "from theano_func.CostFunc import get_cost_type_semi\n",
    "from theano_func.source import optimizers\n",
    "from theano_func.source import costs\n",
    "from theano_func.models.fnn_mnist_semisup import FNN_MNIST\n",
    "from collections import OrderedDict\n",
    "from theano_func import load_data\n",
    "%load_ext autoreload\n",
    "%autoreload 2"
   ]
  },
  {
   "cell_type": "code",
   "execution_count": 5,
   "metadata": {},
   "outputs": [],
   "source": [
    "from tensorboardX import SummaryWriter\n",
    "dir_path = os.path.join(os.environ['HOME'], 'project/runs', 'VAT-theano-semi/mnist/b')\n",
    "writer = SummaryWriter(log_dir=dir_path)\n",
    "debug = True"
   ]
  },
  {
   "cell_type": "code",
   "execution_count": 26,
   "metadata": {},
   "outputs": [],
   "source": [
    "from theano_func.models.fnn import FNN\n",
    "from theano_func.source import layers as L\n",
    "\n",
    "def init_linear(shape):\n",
    "    print(shape[::-1])\n",
    "    fan_in = shape[0]\n",
    "    s = 1.0 * np.sqrt(6.0 / fan_in)\n",
    "    w = np.random.uniform(-s, s, shape[::-1])# .astype(\"float32\")\n",
    "    w = w.T\n",
    "    if debug:\n",
    "        print(shape, w.sum())\n",
    "    return w\n",
    "\n",
    "class FNN_MNIST(FNN):\n",
    "    def __init__(self, layer_sizes):\n",
    "        self.linear_layers = []\n",
    "        self.bn_layers = []\n",
    "        self.act_layers = []\n",
    "        self.params = []\n",
    "        layers = zip(layer_sizes[:-1], layer_sizes[1:])\n",
    "        for i, (m, n) in enumerate(layers):\n",
    "            l = L.Linear(size=(m, n), initial_W=init_linear((m, n)))\n",
    "            bn = L.BatchNormalization(size=(n))\n",
    "            self.linear_layers.append(l)\n",
    "            self.bn_layers.append(bn)\n",
    "            self.params += l.params + bn.params\n",
    "        for i in range(len(self.linear_layers) - 1):\n",
    "            self.act_layers.append(L.relu)\n",
    "        self.act_layers.append(L.softmax)\n",
    "\n",
    "    def forward_for_finetuning_batch_stat(self, input):\n",
    "        return self.forward(input, finetune=True)\n",
    "\n",
    "    def forward_no_update_batch_stat(self, input, train=True):\n",
    "        return self.forward(input, train, False)\n",
    "\n",
    "    def forward(self, input, train=True, update_batch_stat=True, finetune=False):\n",
    "        h = input\n",
    "        for l, bn, act in zip(self.linear_layers, self.bn_layers, self.act_layers):\n",
    "            h = l(h)\n",
    "            if bn is not None:\n",
    "                h = bn(h, train=train, update_batch_stat=update_batch_stat, finetune=finetune)\n",
    "            h = act(h)\n",
    "        return h"
   ]
  },
  {
   "cell_type": "code",
   "execution_count": 25,
   "metadata": {},
   "outputs": [
    {
     "name": "stdout",
     "output_type": "stream",
     "text": [
      "((784, 1200), -13.070688810470633)\n",
      "((1200, 1200), -44.62377855519668)\n",
      "((1200, 10), -3.5299364412835765)\n"
     ]
    }
   ],
   "source": [
    "np.random.seed(1)\n",
    "m = FNN_MNIST([784, 1200, 1200, 10])"
   ]
  },
  {
   "cell_type": "code",
   "execution_count": 27,
   "metadata": {},
   "outputs": [],
   "source": [
    "def train(args):\n",
    "\n",
    "    numpy.random.seed(int(args['seed']))\n",
    "\n",
    "    dataset = load_data.load_mnist_for_semi_sup(n_l=int(args['size']),\n",
    "                                                n_v=int(args['num_validation_samples']))\n",
    "\n",
    "    x_train, t_train, ul_x_train = dataset[0]\n",
    "    \n",
    "    x_test, t_test = dataset[2]\n",
    "\n",
    "    numpy.random.seed(int(args['seed']))\n",
    "    layer_sizes = [int(layer_size) for layer_size in args['layer_sizes'].split('-')]\n",
    "    model = FNN_MNIST(layer_sizes=layer_sizes)\n",
    "\n",
    "    x = t_func.matrix()\n",
    "    ul_x = t_func.matrix()\n",
    "    t = t_func.ivector()\n",
    "\n",
    "    cost_semi, sup, unsup, err = get_cost_type_semi(model, x, t, ul_x, args)\n",
    "    nll = costs.cross_entropy_loss(x=x, t=t, forward_func=model.forward_test)\n",
    "    error = costs.error(x=x, t=t, forward_func=model.forward_test)\n",
    "\n",
    "    optimizer = optimizers.ADAM(cost=cost_semi, params=model.params, alpha=float(args['lr']))\n",
    "\n",
    "    index = t_func.iscalar()\n",
    "    ul_index = t_func.iscalar()\n",
    "    batch_size = int(args['batch_size'])\n",
    "    ul_batch_size = int(args['ul_batch_size'])\n",
    "\n",
    "    f_train = theano.function(inputs=[index, ul_index], \n",
    "                              outputs=[cost_semi, sup, unsup, err, x, ul_x], updates=optimizer.updates,\n",
    "                              givens={\n",
    "                                  x: x_train[batch_size * index:batch_size * (index + 1)],\n",
    "                                  t: t_train[batch_size * index:batch_size * (index + 1)],\n",
    "                                  ul_x: ul_x_train[ul_batch_size * ul_index:ul_batch_size * (ul_index + 1)]},\n",
    "                              on_unused_input='ignore')\n",
    "    f_nll_train = theano.function(inputs=[index], outputs=nll,\n",
    "                                  givens={\n",
    "                                      x: x_train[batch_size * index:batch_size * (index + 1)],\n",
    "                                      t: t_train[batch_size * index:batch_size * (index + 1)]})\n",
    "    f_nll_test = theano.function(inputs=[index], outputs=nll,\n",
    "                                 givens={\n",
    "                                     x: x_test[batch_size * index:batch_size * (index + 1)],\n",
    "                                     t: t_test[batch_size * index:batch_size * (index + 1)]})\n",
    "\n",
    "    f_error_train = theano.function(inputs=[index], outputs=error,\n",
    "                                    givens={\n",
    "                                        x: x_train[batch_size * index:batch_size * (index + 1)],\n",
    "                                        t: t_train[batch_size * index:batch_size * (index + 1)]})\n",
    "    f_error_test = theano.function(inputs=[index], outputs=error,\n",
    "                                   givens={\n",
    "                                       x: x_test[batch_size * index:batch_size * (index + 1)],\n",
    "                                       t: t_test[batch_size * index:batch_size * (index + 1)]})\n",
    "\n",
    "    f_lr_decay = theano.function(inputs=[], outputs=optimizer.alpha,\n",
    "                                 updates={optimizer.alpha: theano.shared(\n",
    "                                     numpy.array(args['lr_decay']).astype(\n",
    "                                         theano.config.floatX)) * optimizer.alpha})\n",
    "\n",
    "    # Shuffle training set\n",
    "    randix = RandomStreams(seed=numpy.random.randint(1234)).permutation(n=x_train.shape[0])\n",
    "    update_permutation = OrderedDict()\n",
    "    update_permutation[x_train] = x_train[randix]\n",
    "    update_permutation[t_train] = t_train[randix]\n",
    "    f_permute_train_set = theano.function(inputs=[], outputs=x_train, updates=update_permutation)\n",
    "\n",
    "    # Shuffle unlabeled training set\n",
    "    ul_randix = RandomStreams(seed=numpy.random.randint(1234)).permutation(n=ul_x_train.shape[0])\n",
    "    update_ul_permutation = OrderedDict()\n",
    "    update_ul_permutation[ul_x_train] = ul_x_train[ul_randix]\n",
    "    f_permute_ul_train_set = theano.function(inputs=[], outputs=ul_x_train, updates=update_ul_permutation)\n",
    "\n",
    "    statuses = {'nll_train': [], 'error_train': [], 'nll_test': [], 'error_test': []}\n",
    "\n",
    "    n_train = x_train.get_value().shape[0]\n",
    "    n_test = x_test.get_value().shape[0]\n",
    "    n_ul_train = ul_x_train.get_value().shape[0]\n",
    "\n",
    "    l_i = 0\n",
    "    ul_i = 0\n",
    "    for epoch in range(int(args['epochs'])):\n",
    "\n",
    "        f_permute_train_set()\n",
    "        f_permute_ul_train_set()\n",
    "        for it in range(int(args['iterations'])):\n",
    "            loss, sup, unsup, pert_err, x, ul_x = f_train(l_i, ul_i)\n",
    "            os.path.join(os.environ['HOME'], 'project/runs')\n",
    "            l_i = 0 if l_i >= n_train / batch_size - 1 else l_i + 1\n",
    "            ul_i = 0 if ul_i >= n_ul_train / ul_batch_size - 1 else ul_i + 1\n",
    "            if it % 100 == 0:\n",
    "                print(\"loss\", loss)\n",
    "                print(\"sup\", sup)\n",
    "                print(\"unsup\", unsup)\n",
    "                print(\"pert err\", pert_err)\n",
    "                print(\"x\", x.sum())\n",
    "                print(ul_x.shape)\n",
    "                print(\"unl x\", ul_x.sum())\n",
    "                writer.add_scalar(\"Train/TotalLoss\", loss, epoch * int(args['iterations']) + it)\n",
    "\n",
    "        sum_nll_train = numpy.sum(numpy.array([f_nll_train(i) for i in range(n_train // batch_size)])) * batch_size\n",
    "        sum_error_train = numpy.sum(numpy.array([f_error_train(i) for i in range(n_train // batch_size)]))\n",
    "        sum_nll_test = numpy.sum(numpy.array([f_nll_test(i) for i in range(n_test // batch_size)])) * batch_size\n",
    "        sum_error_test = numpy.sum(numpy.array([f_error_test(i) for i in range(n_test // batch_size)]))\n",
    "        statuses['nll_train'].append(sum_nll_train / n_train)\n",
    "        statuses['error_train'].append(sum_error_train)\n",
    "        statuses['nll_test'].append(sum_nll_test / n_test)\n",
    "        statuses['error_test'].append(sum_error_test)\n",
    "        wlog(\"[Epoch] %d\" % epoch)\n",
    "        acc = 1 - 1.0*statuses['error_test'][-1]/n_test\n",
    "        wlog(\"nll_train: %f error_train : %d nll_test : %f error_test : %d accuracy:%f\" % (\n",
    "            statuses['nll_train'][-1], statuses['error_train'][-1], statuses['nll_test'][-1],\n",
    "            statuses['error_test'][-1], acc))\n",
    "        if args[\"vis\"]:\n",
    "            writer.add_scalar(\"Train/Loss\", statuses['nll_train'][-1], epoch * int(args['iterations']))\n",
    "            writer.add_scalar(\"Train/Error\", statuses['error_train'][-1], epoch * int(args['iterations']))\n",
    "            writer.add_scalar(\"Test/Loss\", statuses['nll_test'][-1], epoch * int(args['iterations']))\n",
    "            writer.add_scalar(\"Test/Acc\", acc, epoch * int(args['iterations']))\n",
    "        f_lr_decay()\n",
    "    # fine_tune batch stat\n",
    "    f_fine_tune = theano.function(inputs=[ul_index], outputs=model.forward_for_finetuning_batch_stat(x),\n",
    "                                  givens={x: ul_x_train[ul_batch_size * ul_index:ul_batch_size * (ul_index + 1)]})\n",
    "    [f_fine_tune(i) for i in range(n_ul_train // ul_batch_size)]\n",
    "\n",
    "    sum_nll_train = numpy.sum(numpy.array([f_nll_train(i) for i in range(n_train // batch_size)])) * batch_size\n",
    "    sum_error_train = numpy.sum(numpy.array([f_error_train(i) for i in range(n_train // batch_size)]))\n",
    "    sum_nll_test = numpy.sum(numpy.array([f_nll_test(i) for i in range(n_test // batch_size)])) * batch_size\n",
    "    sum_error_test = numpy.sum(numpy.array([f_error_test(i) for i in range(n_test // batch_size)]))\n",
    "    statuses['nll_train'].append(sum_nll_train / n_train)\n",
    "    statuses['error_train'].append(sum_error_train)\n",
    "    statuses['nll_test'].append(sum_nll_test / n_test)\n",
    "    statuses['error_test'].append(sum_error_test)\n",
    "    wlog(\"final nll_train: %f error_train: %d nll_test: %f error_test: %d accuracy:%f\" % (\n",
    "        statuses['nll_train'][-1], statuses['error_train'][-1], statuses['nll_test'][-1],\n",
    "        statuses['error_test'][-1], 1 - 1.0*statuses['error_test'][-1]/n_test))\n",
    "\n",
    "    error_test = numpy.array(statuses['error_test'])\n"
   ]
  },
  {
   "cell_type": "code",
   "execution_count": 28,
   "metadata": {},
   "outputs": [
    {
     "name": "stdout",
     "output_type": "stream",
     "text": [
      "(1200, 784)\n",
      "((784, 1200), -13.070688810470633)\n",
      "(1200, 1200)\n",
      "((1200, 1200), -44.62377855519668)\n",
      "(10, 1200)\n",
      "((1200, 10), -3.5299364412835765)\n",
      "('loss', array(4.6505536))\n",
      "('sup', array(2.52342667))\n",
      "('unsup', array(2.12712693))\n",
      "('pert err', array(138))\n",
      "('x', 10491.24609375)\n",
      "(250, 784)\n",
      "('unl x', 25638.88671875)\n"
     ]
    },
    {
     "ename": "KeyboardInterrupt",
     "evalue": "",
     "output_type": "error",
     "traceback": [
      "\u001b[0;31m---------------------------------------------------------------------------\u001b[0m",
      "\u001b[0;31mKeyboardInterrupt\u001b[0m                         Traceback (most recent call last)",
      "\u001b[0;32m<ipython-input-28-9e079ec412b1>\u001b[0m in \u001b[0;36m<module>\u001b[0;34m()\u001b[0m\n\u001b[1;32m     18\u001b[0m        \u001b[0;34m'lr'\u001b[0m\u001b[0;34m:\u001b[0m \u001b[0;36m0.002\u001b[0m\u001b[0;34m\u001b[0m\u001b[0m\n\u001b[1;32m     19\u001b[0m       }\n\u001b[0;32m---> 20\u001b[0;31m \u001b[0mtrain\u001b[0m\u001b[0;34m(\u001b[0m\u001b[0marg\u001b[0m\u001b[0;34m)\u001b[0m\u001b[0;34m\u001b[0m\u001b[0m\n\u001b[0m",
      "\u001b[0;32m<ipython-input-27-6e74e03c8f0a>\u001b[0m in \u001b[0;36mtrain\u001b[0;34m(args)\u001b[0m\n\u001b[1;32m    101\u001b[0m         \u001b[0msum_nll_train\u001b[0m \u001b[0;34m=\u001b[0m \u001b[0mnumpy\u001b[0m\u001b[0;34m.\u001b[0m\u001b[0msum\u001b[0m\u001b[0;34m(\u001b[0m\u001b[0mnumpy\u001b[0m\u001b[0;34m.\u001b[0m\u001b[0marray\u001b[0m\u001b[0;34m(\u001b[0m\u001b[0;34m[\u001b[0m\u001b[0mf_nll_train\u001b[0m\u001b[0;34m(\u001b[0m\u001b[0mi\u001b[0m\u001b[0;34m)\u001b[0m \u001b[0;32mfor\u001b[0m \u001b[0mi\u001b[0m \u001b[0;32min\u001b[0m \u001b[0mrange\u001b[0m\u001b[0;34m(\u001b[0m\u001b[0mn_train\u001b[0m \u001b[0;34m//\u001b[0m \u001b[0mbatch_size\u001b[0m\u001b[0;34m)\u001b[0m\u001b[0;34m]\u001b[0m\u001b[0;34m)\u001b[0m\u001b[0;34m)\u001b[0m \u001b[0;34m*\u001b[0m \u001b[0mbatch_size\u001b[0m\u001b[0;34m\u001b[0m\u001b[0m\n\u001b[1;32m    102\u001b[0m         \u001b[0msum_error_train\u001b[0m \u001b[0;34m=\u001b[0m \u001b[0mnumpy\u001b[0m\u001b[0;34m.\u001b[0m\u001b[0msum\u001b[0m\u001b[0;34m(\u001b[0m\u001b[0mnumpy\u001b[0m\u001b[0;34m.\u001b[0m\u001b[0marray\u001b[0m\u001b[0;34m(\u001b[0m\u001b[0;34m[\u001b[0m\u001b[0mf_error_train\u001b[0m\u001b[0;34m(\u001b[0m\u001b[0mi\u001b[0m\u001b[0;34m)\u001b[0m \u001b[0;32mfor\u001b[0m \u001b[0mi\u001b[0m \u001b[0;32min\u001b[0m \u001b[0mrange\u001b[0m\u001b[0;34m(\u001b[0m\u001b[0mn_train\u001b[0m \u001b[0;34m//\u001b[0m \u001b[0mbatch_size\u001b[0m\u001b[0;34m)\u001b[0m\u001b[0;34m]\u001b[0m\u001b[0;34m)\u001b[0m\u001b[0;34m)\u001b[0m\u001b[0;34m\u001b[0m\u001b[0m\n\u001b[0;32m--> 103\u001b[0;31m         \u001b[0msum_nll_test\u001b[0m \u001b[0;34m=\u001b[0m \u001b[0mnumpy\u001b[0m\u001b[0;34m.\u001b[0m\u001b[0msum\u001b[0m\u001b[0;34m(\u001b[0m\u001b[0mnumpy\u001b[0m\u001b[0;34m.\u001b[0m\u001b[0marray\u001b[0m\u001b[0;34m(\u001b[0m\u001b[0;34m[\u001b[0m\u001b[0mf_nll_test\u001b[0m\u001b[0;34m(\u001b[0m\u001b[0mi\u001b[0m\u001b[0;34m)\u001b[0m \u001b[0;32mfor\u001b[0m \u001b[0mi\u001b[0m \u001b[0;32min\u001b[0m \u001b[0mrange\u001b[0m\u001b[0;34m(\u001b[0m\u001b[0mn_test\u001b[0m \u001b[0;34m//\u001b[0m \u001b[0mbatch_size\u001b[0m\u001b[0;34m)\u001b[0m\u001b[0;34m]\u001b[0m\u001b[0;34m)\u001b[0m\u001b[0;34m)\u001b[0m \u001b[0;34m*\u001b[0m \u001b[0mbatch_size\u001b[0m\u001b[0;34m\u001b[0m\u001b[0m\n\u001b[0m\u001b[1;32m    104\u001b[0m         \u001b[0msum_error_test\u001b[0m \u001b[0;34m=\u001b[0m \u001b[0mnumpy\u001b[0m\u001b[0;34m.\u001b[0m\u001b[0msum\u001b[0m\u001b[0;34m(\u001b[0m\u001b[0mnumpy\u001b[0m\u001b[0;34m.\u001b[0m\u001b[0marray\u001b[0m\u001b[0;34m(\u001b[0m\u001b[0;34m[\u001b[0m\u001b[0mf_error_test\u001b[0m\u001b[0;34m(\u001b[0m\u001b[0mi\u001b[0m\u001b[0;34m)\u001b[0m \u001b[0;32mfor\u001b[0m \u001b[0mi\u001b[0m \u001b[0;32min\u001b[0m \u001b[0mrange\u001b[0m\u001b[0;34m(\u001b[0m\u001b[0mn_test\u001b[0m \u001b[0;34m//\u001b[0m \u001b[0mbatch_size\u001b[0m\u001b[0;34m)\u001b[0m\u001b[0;34m]\u001b[0m\u001b[0;34m)\u001b[0m\u001b[0;34m)\u001b[0m\u001b[0;34m\u001b[0m\u001b[0m\n\u001b[1;32m    105\u001b[0m         \u001b[0mstatuses\u001b[0m\u001b[0;34m[\u001b[0m\u001b[0;34m'nll_train'\u001b[0m\u001b[0;34m]\u001b[0m\u001b[0;34m.\u001b[0m\u001b[0mappend\u001b[0m\u001b[0;34m(\u001b[0m\u001b[0msum_nll_train\u001b[0m \u001b[0;34m/\u001b[0m \u001b[0mn_train\u001b[0m\u001b[0;34m)\u001b[0m\u001b[0;34m\u001b[0m\u001b[0m\n",
      "\u001b[0;32m/home/xyang2/software/miniconda3/envs/theano27/lib/python2.7/site-packages/theano/compile/function_module.pyc\u001b[0m in \u001b[0;36m__call__\u001b[0;34m(self, *args, **kwargs)\u001b[0m\n\u001b[1;32m    901\u001b[0m         \u001b[0;32mtry\u001b[0m\u001b[0;34m:\u001b[0m\u001b[0;34m\u001b[0m\u001b[0m\n\u001b[1;32m    902\u001b[0m             \u001b[0moutputs\u001b[0m \u001b[0;34m=\u001b[0m\u001b[0;31m\\\u001b[0m\u001b[0;34m\u001b[0m\u001b[0m\n\u001b[0;32m--> 903\u001b[0;31m                 \u001b[0mself\u001b[0m\u001b[0;34m.\u001b[0m\u001b[0mfn\u001b[0m\u001b[0;34m(\u001b[0m\u001b[0;34m)\u001b[0m \u001b[0;32mif\u001b[0m \u001b[0moutput_subset\u001b[0m \u001b[0;32mis\u001b[0m \u001b[0mNone\u001b[0m \u001b[0;32melse\u001b[0m\u001b[0;31m\\\u001b[0m\u001b[0;34m\u001b[0m\u001b[0m\n\u001b[0m\u001b[1;32m    904\u001b[0m                 \u001b[0mself\u001b[0m\u001b[0;34m.\u001b[0m\u001b[0mfn\u001b[0m\u001b[0;34m(\u001b[0m\u001b[0moutput_subset\u001b[0m\u001b[0;34m=\u001b[0m\u001b[0moutput_subset\u001b[0m\u001b[0;34m)\u001b[0m\u001b[0;34m\u001b[0m\u001b[0m\n\u001b[1;32m    905\u001b[0m         \u001b[0;32mexcept\u001b[0m \u001b[0mException\u001b[0m\u001b[0;34m:\u001b[0m\u001b[0;34m\u001b[0m\u001b[0m\n",
      "\u001b[0;31mKeyboardInterrupt\u001b[0m: "
     ]
    }
   ],
   "source": [
    "\n",
    "arg = {'seed': 1,\n",
    "       'size': 100,\n",
    "       'vis': False,\n",
    "       'epochs': 10,\n",
    "       'iterations': 1,\n",
    "       'lr_decay': 0.95,\n",
    "       'batch_size': 100,\n",
    "       'ul_batch_size': 250,\n",
    "       'num_validation_samples': 1000,\n",
    "       'layer_sizes': '784-1200-1200-10',\n",
    "       'dataset': 'mnist',\n",
    "       'epsilon': 0.3,\n",
    "       'cost_type': 'VAT_f',\n",
    "       'norm_constraint': 'L2',\n",
    "       'num_power_iter': 1,\n",
    "       'lamb': 1,\n",
    "       'lr': 0.002\n",
    "      }\n",
    "train(arg)"
   ]
  },
  {
   "cell_type": "code",
   "execution_count": 5,
   "metadata": {},
   "outputs": [
    {
     "name": "stdout",
     "output_type": "stream",
     "text": [
      "2.880021582795081\n",
      "(250, 784)\n",
      "25141.703125\n"
     ]
    },
    {
     "name": "stderr",
     "output_type": "stream",
     "text": [
      "2019-04-06 01:50:09,985 - <ipython-input-4-4b8d37f5ef7f>[line:101]: [Epoch] 0\n",
      "2019-04-06 01:50:09,986 - <ipython-input-4-4b8d37f5ef7f>[line:105]: nll_train: 1.788823 error_train : 25 nll_test : 1.971886 error_test : 5213 accuracy:0.478700\n"
     ]
    },
    {
     "name": "stdout",
     "output_type": "stream",
     "text": [
      "0.6267069340277571\n",
      "(250, 784)\n",
      "25494.30859375\n"
     ]
    },
    {
     "name": "stderr",
     "output_type": "stream",
     "text": [
      "2019-04-06 01:50:17,351 - <ipython-input-4-4b8d37f5ef7f>[line:101]: [Epoch] 1\n",
      "2019-04-06 01:50:17,352 - <ipython-input-4-4b8d37f5ef7f>[line:105]: nll_train: 1.501638 error_train : 9 nll_test : 1.807326 error_test : 3998 accuracy:0.600200\n"
     ]
    },
    {
     "name": "stdout",
     "output_type": "stream",
     "text": [
      "0.4610604825121197\n",
      "(250, 784)\n",
      "24649.28515625\n"
     ]
    },
    {
     "name": "stderr",
     "output_type": "stream",
     "text": [
      "2019-04-06 01:50:22,143 - <ipython-input-4-4b8d37f5ef7f>[line:101]: [Epoch] 2\n",
      "2019-04-06 01:50:22,144 - <ipython-input-4-4b8d37f5ef7f>[line:105]: nll_train: 1.363042 error_train : 4 nll_test : 1.735865 error_test : 3478 accuracy:0.652200\n"
     ]
    },
    {
     "name": "stdout",
     "output_type": "stream",
     "text": [
      "0.4025362039541908\n",
      "(250, 784)\n",
      "26335.45703125\n"
     ]
    },
    {
     "name": "stderr",
     "output_type": "stream",
     "text": [
      "2019-04-06 01:50:27,043 - <ipython-input-4-4b8d37f5ef7f>[line:101]: [Epoch] 3\n",
      "2019-04-06 01:50:27,044 - <ipython-input-4-4b8d37f5ef7f>[line:105]: nll_train: 1.287941 error_train : 1 nll_test : 1.703039 error_test : 3177 accuracy:0.682300\n"
     ]
    },
    {
     "name": "stdout",
     "output_type": "stream",
     "text": [
      "0.3705247582778381\n",
      "(250, 784)\n",
      "25059.3828125\n"
     ]
    },
    {
     "name": "stderr",
     "output_type": "stream",
     "text": [
      "2019-04-06 01:50:31,982 - <ipython-input-4-4b8d37f5ef7f>[line:101]: [Epoch] 4\n",
      "2019-04-06 01:50:31,983 - <ipython-input-4-4b8d37f5ef7f>[line:105]: nll_train: 1.238105 error_train : 0 nll_test : 1.684090 error_test : 2981 accuracy:0.701900\n"
     ]
    },
    {
     "name": "stdout",
     "output_type": "stream",
     "text": [
      "0.3501365191643726\n",
      "(250, 784)\n",
      "25085.875\n"
     ]
    },
    {
     "name": "stderr",
     "output_type": "stream",
     "text": [
      "2019-04-06 01:50:37,055 - <ipython-input-4-4b8d37f5ef7f>[line:101]: [Epoch] 5\n",
      "2019-04-06 01:50:37,057 - <ipython-input-4-4b8d37f5ef7f>[line:105]: nll_train: 1.197793 error_train : 0 nll_test : 1.669503 error_test : 2856 accuracy:0.714400\n"
     ]
    },
    {
     "name": "stdout",
     "output_type": "stream",
     "text": [
      "0.3361454988129954\n",
      "(250, 784)\n",
      "25140.5625\n"
     ]
    },
    {
     "name": "stderr",
     "output_type": "stream",
     "text": [
      "2019-04-06 01:50:42,036 - <ipython-input-4-4b8d37f5ef7f>[line:101]: [Epoch] 6\n",
      "2019-04-06 01:50:42,037 - <ipython-input-4-4b8d37f5ef7f>[line:105]: nll_train: 1.160212 error_train : 0 nll_test : 1.655654 error_test : 2790 accuracy:0.721000\n"
     ]
    },
    {
     "name": "stdout",
     "output_type": "stream",
     "text": [
      "0.32598287982541174\n",
      "(250, 784)\n",
      "25654.15625\n"
     ]
    },
    {
     "name": "stderr",
     "output_type": "stream",
     "text": [
      "2019-04-06 01:50:47,357 - <ipython-input-4-4b8d37f5ef7f>[line:101]: [Epoch] 7\n",
      "2019-04-06 01:50:47,358 - <ipython-input-4-4b8d37f5ef7f>[line:105]: nll_train: 1.122913 error_train : 0 nll_test : 1.641309 error_test : 2735 accuracy:0.726500\n"
     ]
    },
    {
     "name": "stdout",
     "output_type": "stream",
     "text": [
      "0.31824767375035\n",
      "(250, 784)\n",
      "25690.57421875\n"
     ]
    },
    {
     "name": "stderr",
     "output_type": "stream",
     "text": [
      "2019-04-06 01:50:52,674 - <ipython-input-4-4b8d37f5ef7f>[line:101]: [Epoch] 8\n",
      "2019-04-06 01:50:52,675 - <ipython-input-4-4b8d37f5ef7f>[line:105]: nll_train: 1.085036 error_train : 0 nll_test : 1.626095 error_test : 2686 accuracy:0.731400\n"
     ]
    },
    {
     "name": "stdout",
     "output_type": "stream",
     "text": [
      "0.31215699318598084\n",
      "(250, 784)\n",
      "25213.171875\n"
     ]
    },
    {
     "name": "stderr",
     "output_type": "stream",
     "text": [
      "2019-04-06 01:50:57,860 - <ipython-input-4-4b8d37f5ef7f>[line:101]: [Epoch] 9\n",
      "2019-04-06 01:50:57,861 - <ipython-input-4-4b8d37f5ef7f>[line:105]: nll_train: 1.046537 error_train : 0 nll_test : 1.609999 error_test : 2651 accuracy:0.734900\n"
     ]
    },
    {
     "name": "stdout",
     "output_type": "stream",
     "text": [
      "0.30720201949737286\n",
      "(250, 784)\n",
      "26062.62890625\n"
     ]
    },
    {
     "name": "stderr",
     "output_type": "stream",
     "text": [
      "2019-04-06 01:51:03,162 - <ipython-input-4-4b8d37f5ef7f>[line:101]: [Epoch] 10\n",
      "2019-04-06 01:51:03,162 - <ipython-input-4-4b8d37f5ef7f>[line:105]: nll_train: 1.007713 error_train : 0 nll_test : 1.593119 error_test : 2615 accuracy:0.738500\n"
     ]
    },
    {
     "name": "stdout",
     "output_type": "stream",
     "text": [
      "0.3030400518395032\n",
      "(250, 784)\n",
      "25203.890625\n"
     ]
    },
    {
     "name": "stderr",
     "output_type": "stream",
     "text": [
      "2019-04-06 01:51:08,162 - <ipython-input-4-4b8d37f5ef7f>[line:101]: [Epoch] 11\n",
      "2019-04-06 01:51:08,163 - <ipython-input-4-4b8d37f5ef7f>[line:105]: nll_train: 0.968747 error_train : 0 nll_test : 1.575593 error_test : 2600 accuracy:0.740000\n"
     ]
    },
    {
     "name": "stdout",
     "output_type": "stream",
     "text": [
      "0.2994744991821003\n",
      "(250, 784)\n",
      "26695.15625\n"
     ]
    },
    {
     "name": "stderr",
     "output_type": "stream",
     "text": [
      "2019-04-06 01:51:13,203 - <ipython-input-4-4b8d37f5ef7f>[line:101]: [Epoch] 12\n",
      "2019-04-06 01:51:13,205 - <ipython-input-4-4b8d37f5ef7f>[line:105]: nll_train: 0.929881 error_train : 0 nll_test : 1.557601 error_test : 2576 accuracy:0.742400\n"
     ]
    },
    {
     "name": "stdout",
     "output_type": "stream",
     "text": [
      "0.29638035213390146\n",
      "(250, 784)\n",
      "25914.2109375\n"
     ]
    },
    {
     "name": "stderr",
     "output_type": "stream",
     "text": [
      "2019-04-06 01:51:18,164 - <ipython-input-4-4b8d37f5ef7f>[line:101]: [Epoch] 13\n",
      "2019-04-06 01:51:18,165 - <ipython-input-4-4b8d37f5ef7f>[line:105]: nll_train: 0.891210 error_train : 0 nll_test : 1.539285 error_test : 2566 accuracy:0.743400\n"
     ]
    },
    {
     "name": "stdout",
     "output_type": "stream",
     "text": [
      "0.2936801493709596\n",
      "(250, 784)\n",
      "25451.44921875\n"
     ]
    },
    {
     "name": "stderr",
     "output_type": "stream",
     "text": [
      "2019-04-06 01:51:23,065 - <ipython-input-4-4b8d37f5ef7f>[line:101]: [Epoch] 14\n",
      "2019-04-06 01:51:23,066 - <ipython-input-4-4b8d37f5ef7f>[line:105]: nll_train: 0.853112 error_train : 0 nll_test : 1.520806 error_test : 2557 accuracy:0.744300\n"
     ]
    },
    {
     "name": "stdout",
     "output_type": "stream",
     "text": [
      "0.29131347050965734\n",
      "(250, 784)\n",
      "25128.34765625\n"
     ]
    },
    {
     "name": "stderr",
     "output_type": "stream",
     "text": [
      "2019-04-06 01:51:28,358 - <ipython-input-4-4b8d37f5ef7f>[line:101]: [Epoch] 15\n",
      "2019-04-06 01:51:28,358 - <ipython-input-4-4b8d37f5ef7f>[line:105]: nll_train: 0.815865 error_train : 0 nll_test : 1.502288 error_test : 2555 accuracy:0.744500\n"
     ]
    },
    {
     "name": "stdout",
     "output_type": "stream",
     "text": [
      "0.2892327706709603\n",
      "(250, 784)\n",
      "26592.03125\n"
     ]
    },
    {
     "name": "stderr",
     "output_type": "stream",
     "text": [
      "2019-04-06 01:51:33,480 - <ipython-input-4-4b8d37f5ef7f>[line:101]: [Epoch] 16\n",
      "2019-04-06 01:51:33,481 - <ipython-input-4-4b8d37f5ef7f>[line:105]: nll_train: 0.779702 error_train : 0 nll_test : 1.483852 error_test : 2550 accuracy:0.745000\n"
     ]
    },
    {
     "name": "stdout",
     "output_type": "stream",
     "text": [
      "0.2873976525639594\n",
      "(250, 784)\n",
      "25469.640625\n"
     ]
    },
    {
     "name": "stderr",
     "output_type": "stream",
     "text": [
      "2019-04-06 01:51:38,387 - <ipython-input-4-4b8d37f5ef7f>[line:101]: [Epoch] 17\n",
      "2019-04-06 01:51:38,388 - <ipython-input-4-4b8d37f5ef7f>[line:105]: nll_train: 0.744770 error_train : 0 nll_test : 1.465608 error_test : 2549 accuracy:0.745100\n"
     ]
    },
    {
     "name": "stdout",
     "output_type": "stream",
     "text": [
      "0.2857723254232541\n",
      "(250, 784)\n",
      "25671.8515625\n"
     ]
    },
    {
     "name": "stderr",
     "output_type": "stream",
     "text": [
      "2019-04-06 01:51:43,254 - <ipython-input-4-4b8d37f5ef7f>[line:101]: [Epoch] 18\n",
      "2019-04-06 01:51:43,255 - <ipython-input-4-4b8d37f5ef7f>[line:105]: nll_train: 0.711195 error_train : 0 nll_test : 1.447676 error_test : 2548 accuracy:0.745200\n"
     ]
    },
    {
     "name": "stdout",
     "output_type": "stream",
     "text": [
      "0.2843283503351224\n",
      "(250, 784)\n",
      "25331.1796875\n"
     ]
    },
    {
     "name": "stderr",
     "output_type": "stream",
     "text": [
      "2019-04-06 01:51:48,375 - <ipython-input-4-4b8d37f5ef7f>[line:101]: [Epoch] 19\n",
      "2019-04-06 01:51:48,377 - <ipython-input-4-4b8d37f5ef7f>[line:105]: nll_train: 0.679131 error_train : 0 nll_test : 1.430140 error_test : 2550 accuracy:0.745000\n"
     ]
    },
    {
     "name": "stdout",
     "output_type": "stream",
     "text": [
      "0.28304211279673447\n",
      "(250, 784)\n",
      "25515.58984375\n"
     ]
    },
    {
     "name": "stderr",
     "output_type": "stream",
     "text": [
      "2019-04-06 01:51:53,373 - <ipython-input-4-4b8d37f5ef7f>[line:101]: [Epoch] 20\n",
      "2019-04-06 01:51:53,374 - <ipython-input-4-4b8d37f5ef7f>[line:105]: nll_train: 0.648621 error_train : 0 nll_test : 1.413073 error_test : 2534 accuracy:0.746600\n"
     ]
    },
    {
     "name": "stdout",
     "output_type": "stream",
     "text": [
      "0.28189193235160154\n",
      "(250, 784)\n",
      "25973.921875\n"
     ]
    },
    {
     "name": "stderr",
     "output_type": "stream",
     "text": [
      "2019-04-06 01:51:58,749 - <ipython-input-4-4b8d37f5ef7f>[line:101]: [Epoch] 21\n",
      "2019-04-06 01:51:58,750 - <ipython-input-4-4b8d37f5ef7f>[line:105]: nll_train: 0.619759 error_train : 0 nll_test : 1.396557 error_test : 2521 accuracy:0.747900\n"
     ]
    },
    {
     "name": "stdout",
     "output_type": "stream",
     "text": [
      "0.2808577804822226\n",
      "(250, 784)\n",
      "25180.515625\n"
     ]
    },
    {
     "name": "stderr",
     "output_type": "stream",
     "text": [
      "2019-04-06 01:52:03,714 - <ipython-input-4-4b8d37f5ef7f>[line:101]: [Epoch] 22\n",
      "2019-04-06 01:52:03,715 - <ipython-input-4-4b8d37f5ef7f>[line:105]: nll_train: 0.592565 error_train : 0 nll_test : 1.380643 error_test : 2512 accuracy:0.748800\n"
     ]
    },
    {
     "name": "stdout",
     "output_type": "stream",
     "text": [
      "0.2799243476293518\n",
      "(250, 784)\n",
      "25268.78515625\n"
     ]
    },
    {
     "name": "stderr",
     "output_type": "stream",
     "text": [
      "2019-04-06 01:52:09,045 - <ipython-input-4-4b8d37f5ef7f>[line:101]: [Epoch] 23\n",
      "2019-04-06 01:52:09,046 - <ipython-input-4-4b8d37f5ef7f>[line:105]: nll_train: 0.567049 error_train : 0 nll_test : 1.365379 error_test : 2506 accuracy:0.749400\n"
     ]
    },
    {
     "name": "stdout",
     "output_type": "stream",
     "text": [
      "0.2790803464139014\n",
      "(250, 784)\n",
      "24897.41015625\n"
     ]
    },
    {
     "name": "stderr",
     "output_type": "stream",
     "text": [
      "2019-04-06 01:52:14,197 - <ipython-input-4-4b8d37f5ef7f>[line:101]: [Epoch] 24\n",
      "2019-04-06 01:52:14,198 - <ipython-input-4-4b8d37f5ef7f>[line:105]: nll_train: 0.543150 error_train : 0 nll_test : 1.350801 error_test : 2508 accuracy:0.749200\n"
     ]
    },
    {
     "name": "stdout",
     "output_type": "stream",
     "text": [
      "0.27831562991385683\n",
      "(250, 784)\n",
      "25612.734375\n"
     ]
    },
    {
     "name": "stderr",
     "output_type": "stream",
     "text": [
      "2019-04-06 01:52:19,374 - <ipython-input-4-4b8d37f5ef7f>[line:101]: [Epoch] 25\n",
      "2019-04-06 01:52:19,375 - <ipython-input-4-4b8d37f5ef7f>[line:105]: nll_train: 0.520862 error_train : 0 nll_test : 1.336935 error_test : 2497 accuracy:0.750300\n"
     ]
    },
    {
     "name": "stdout",
     "output_type": "stream",
     "text": [
      "0.2776215483951266\n",
      "(250, 784)\n",
      "24657.74609375\n"
     ]
    },
    {
     "name": "stderr",
     "output_type": "stream",
     "text": [
      "2019-04-06 01:52:24,155 - <ipython-input-4-4b8d37f5ef7f>[line:101]: [Epoch] 26\n",
      "2019-04-06 01:52:24,156 - <ipython-input-4-4b8d37f5ef7f>[line:105]: nll_train: 0.500163 error_train : 0 nll_test : 1.323803 error_test : 2495 accuracy:0.750500\n"
     ]
    },
    {
     "name": "stdout",
     "output_type": "stream",
     "text": [
      "0.2769898480985366\n",
      "(250, 784)\n",
      "25226.140625\n"
     ]
    },
    {
     "name": "stderr",
     "output_type": "stream",
     "text": [
      "2019-04-06 01:52:28,951 - <ipython-input-4-4b8d37f5ef7f>[line:101]: [Epoch] 27\n",
      "2019-04-06 01:52:28,952 - <ipython-input-4-4b8d37f5ef7f>[line:105]: nll_train: 0.480990 error_train : 0 nll_test : 1.311410 error_test : 2497 accuracy:0.750300\n"
     ]
    },
    {
     "name": "stdout",
     "output_type": "stream",
     "text": [
      "0.2764137917397402\n",
      "(250, 784)\n",
      "26577.46875\n"
     ]
    },
    {
     "name": "stderr",
     "output_type": "stream",
     "text": [
      "2019-04-06 01:52:33,956 - <ipython-input-4-4b8d37f5ef7f>[line:101]: [Epoch] 28\n",
      "2019-04-06 01:52:33,957 - <ipython-input-4-4b8d37f5ef7f>[line:105]: nll_train: 0.463279 error_train : 0 nll_test : 1.299760 error_test : 2488 accuracy:0.751200\n"
     ]
    },
    {
     "name": "stdout",
     "output_type": "stream",
     "text": [
      "0.2758875995831\n",
      "(250, 784)\n",
      "24890.2578125\n"
     ]
    },
    {
     "name": "stderr",
     "output_type": "stream",
     "text": [
      "2019-04-06 01:52:39,011 - <ipython-input-4-4b8d37f5ef7f>[line:101]: [Epoch] 29\n",
      "2019-04-06 01:52:39,012 - <ipython-input-4-4b8d37f5ef7f>[line:105]: nll_train: 0.446962 error_train : 0 nll_test : 1.288846 error_test : 2489 accuracy:0.751100\n"
     ]
    },
    {
     "name": "stdout",
     "output_type": "stream",
     "text": [
      "0.27540584737983226\n",
      "(250, 784)\n",
      "25574.90234375\n"
     ]
    },
    {
     "name": "stderr",
     "output_type": "stream",
     "text": [
      "2019-04-06 01:52:43,956 - <ipython-input-4-4b8d37f5ef7f>[line:101]: [Epoch] 30\n",
      "2019-04-06 01:52:43,957 - <ipython-input-4-4b8d37f5ef7f>[line:105]: nll_train: 0.431949 error_train : 0 nll_test : 1.278652 error_test : 2486 accuracy:0.751400\n"
     ]
    },
    {
     "name": "stdout",
     "output_type": "stream",
     "text": [
      "0.2749640065321656\n",
      "(250, 784)\n",
      "25462.63671875\n"
     ]
    },
    {
     "name": "stderr",
     "output_type": "stream",
     "text": [
      "2019-04-06 01:52:48,762 - <ipython-input-4-4b8d37f5ef7f>[line:101]: [Epoch] 31\n",
      "2019-04-06 01:52:48,763 - <ipython-input-4-4b8d37f5ef7f>[line:105]: nll_train: 0.418175 error_train : 0 nll_test : 1.269159 error_test : 2481 accuracy:0.751900\n"
     ]
    },
    {
     "name": "stdout",
     "output_type": "stream",
     "text": [
      "0.274557895529901\n",
      "(250, 784)\n",
      "25699.75390625\n"
     ]
    },
    {
     "name": "stderr",
     "output_type": "stream",
     "text": [
      "2019-04-06 01:52:54,172 - <ipython-input-4-4b8d37f5ef7f>[line:101]: [Epoch] 32\n",
      "2019-04-06 01:52:54,173 - <ipython-input-4-4b8d37f5ef7f>[line:105]: nll_train: 0.405565 error_train : 0 nll_test : 1.260344 error_test : 2480 accuracy:0.752000\n"
     ]
    },
    {
     "name": "stdout",
     "output_type": "stream",
     "text": [
      "0.2741837531205472\n",
      "(250, 784)\n",
      "25054.55859375\n"
     ]
    },
    {
     "name": "stderr",
     "output_type": "stream",
     "text": [
      "2019-04-06 01:52:59,340 - <ipython-input-4-4b8d37f5ef7f>[line:101]: [Epoch] 33\n",
      "2019-04-06 01:52:59,341 - <ipython-input-4-4b8d37f5ef7f>[line:105]: nll_train: 0.394040 error_train : 0 nll_test : 1.252179 error_test : 2479 accuracy:0.752100\n"
     ]
    },
    {
     "name": "stdout",
     "output_type": "stream",
     "text": [
      "0.27383824787226085\n",
      "(250, 784)\n",
      "25504.42578125\n"
     ]
    },
    {
     "name": "stderr",
     "output_type": "stream",
     "text": [
      "2019-04-06 01:53:05,260 - <ipython-input-4-4b8d37f5ef7f>[line:101]: [Epoch] 34\n",
      "2019-04-06 01:53:05,261 - <ipython-input-4-4b8d37f5ef7f>[line:105]: nll_train: 0.383522 error_train : 0 nll_test : 1.244639 error_test : 2475 accuracy:0.752500\n"
     ]
    },
    {
     "name": "stdout",
     "output_type": "stream",
     "text": [
      "0.2735185314363303\n",
      "(250, 784)\n",
      "25014.7109375\n"
     ]
    },
    {
     "name": "stderr",
     "output_type": "stream",
     "text": [
      "2019-04-06 01:53:11,637 - <ipython-input-4-4b8d37f5ef7f>[line:101]: [Epoch] 35\n",
      "2019-04-06 01:53:11,638 - <ipython-input-4-4b8d37f5ef7f>[line:105]: nll_train: 0.373939 error_train : 0 nll_test : 1.237688 error_test : 2472 accuracy:0.752800\n"
     ]
    },
    {
     "name": "stdout",
     "output_type": "stream",
     "text": [
      "0.27322197279338434\n",
      "(250, 784)\n",
      "25347.140625\n"
     ]
    },
    {
     "name": "stderr",
     "output_type": "stream",
     "text": [
      "2019-04-06 01:53:17,939 - <ipython-input-4-4b8d37f5ef7f>[line:101]: [Epoch] 36\n",
      "2019-04-06 01:53:17,940 - <ipython-input-4-4b8d37f5ef7f>[line:105]: nll_train: 0.365216 error_train : 0 nll_test : 1.231295 error_test : 2467 accuracy:0.753300\n"
     ]
    },
    {
     "name": "stdout",
     "output_type": "stream",
     "text": [
      "0.27294637989492554\n",
      "(250, 784)\n",
      "26499.45703125\n"
     ]
    },
    {
     "name": "stderr",
     "output_type": "stream",
     "text": [
      "2019-04-06 01:53:23,787 - <ipython-input-4-4b8d37f5ef7f>[line:101]: [Epoch] 37\n",
      "2019-04-06 01:53:23,789 - <ipython-input-4-4b8d37f5ef7f>[line:105]: nll_train: 0.357283 error_train : 0 nll_test : 1.225427 error_test : 2467 accuracy:0.753300\n"
     ]
    },
    {
     "name": "stdout",
     "output_type": "stream",
     "text": [
      "0.2726899164464479\n",
      "(250, 784)\n",
      "25858.18359375\n"
     ]
    },
    {
     "name": "stderr",
     "output_type": "stream",
     "text": [
      "2019-04-06 01:53:30,924 - <ipython-input-4-4b8d37f5ef7f>[line:101]: [Epoch] 38\n",
      "2019-04-06 01:53:30,926 - <ipython-input-4-4b8d37f5ef7f>[line:105]: nll_train: 0.350080 error_train : 0 nll_test : 1.220049 error_test : 2467 accuracy:0.753300\n"
     ]
    },
    {
     "name": "stdout",
     "output_type": "stream",
     "text": [
      "0.272450957357738\n",
      "(250, 784)\n",
      "25344.08203125\n"
     ]
    },
    {
     "name": "stderr",
     "output_type": "stream",
     "text": [
      "2019-04-06 01:53:37,132 - <ipython-input-4-4b8d37f5ef7f>[line:101]: [Epoch] 39\n",
      "2019-04-06 01:53:37,135 - <ipython-input-4-4b8d37f5ef7f>[line:105]: nll_train: 0.343546 error_train : 0 nll_test : 1.215129 error_test : 2464 accuracy:0.753600\n"
     ]
    },
    {
     "name": "stdout",
     "output_type": "stream",
     "text": [
      "0.27222807259173926\n",
      "(250, 784)\n",
      "25073.96875\n"
     ]
    },
    {
     "name": "stderr",
     "output_type": "stream",
     "text": [
      "2019-04-06 01:53:43,488 - <ipython-input-4-4b8d37f5ef7f>[line:101]: [Epoch] 40\n",
      "2019-04-06 01:53:43,496 - <ipython-input-4-4b8d37f5ef7f>[line:105]: nll_train: 0.337622 error_train : 0 nll_test : 1.210635 error_test : 2463 accuracy:0.753700\n"
     ]
    },
    {
     "name": "stdout",
     "output_type": "stream",
     "text": [
      "0.27201985246492844\n",
      "(250, 784)\n",
      "25370.05078125\n"
     ]
    },
    {
     "name": "stderr",
     "output_type": "stream",
     "text": [
      "2019-04-06 01:53:49,934 - <ipython-input-4-4b8d37f5ef7f>[line:101]: [Epoch] 41\n",
      "2019-04-06 01:53:49,941 - <ipython-input-4-4b8d37f5ef7f>[line:105]: nll_train: 0.332249 error_train : 0 nll_test : 1.206537 error_test : 2462 accuracy:0.753800\n"
     ]
    },
    {
     "name": "stdout",
     "output_type": "stream",
     "text": [
      "0.271825038876007\n",
      "(250, 784)\n",
      "25384.51171875\n"
     ]
    },
    {
     "name": "stderr",
     "output_type": "stream",
     "text": [
      "2019-04-06 01:53:55,382 - <ipython-input-4-4b8d37f5ef7f>[line:101]: [Epoch] 42\n",
      "2019-04-06 01:53:55,383 - <ipython-input-4-4b8d37f5ef7f>[line:105]: nll_train: 0.327379 error_train : 0 nll_test : 1.202804 error_test : 2460 accuracy:0.754000\n"
     ]
    },
    {
     "name": "stdout",
     "output_type": "stream",
     "text": [
      "0.2716427281826837\n",
      "(250, 784)\n",
      "25238.73828125\n"
     ]
    },
    {
     "name": "stderr",
     "output_type": "stream",
     "text": [
      "2019-04-06 01:54:00,373 - <ipython-input-4-4b8d37f5ef7f>[line:101]: [Epoch] 43\n",
      "2019-04-06 01:54:00,374 - <ipython-input-4-4b8d37f5ef7f>[line:105]: nll_train: 0.322967 error_train : 0 nll_test : 1.199407 error_test : 2461 accuracy:0.753900\n"
     ]
    },
    {
     "name": "stdout",
     "output_type": "stream",
     "text": [
      "0.27147189452141585\n",
      "(250, 784)\n",
      "25665.6796875\n"
     ]
    },
    {
     "name": "stderr",
     "output_type": "stream",
     "text": [
      "2019-04-06 01:54:05,337 - <ipython-input-4-4b8d37f5ef7f>[line:101]: [Epoch] 44\n",
      "2019-04-06 01:54:05,338 - <ipython-input-4-4b8d37f5ef7f>[line:105]: nll_train: 0.318972 error_train : 0 nll_test : 1.196320 error_test : 2459 accuracy:0.754100\n"
     ]
    },
    {
     "name": "stdout",
     "output_type": "stream",
     "text": [
      "0.2713117177834491\n",
      "(250, 784)\n",
      "25613.046875\n"
     ]
    },
    {
     "name": "stderr",
     "output_type": "stream",
     "text": [
      "2019-04-06 01:54:10,341 - <ipython-input-4-4b8d37f5ef7f>[line:101]: [Epoch] 45\n",
      "2019-04-06 01:54:10,342 - <ipython-input-4-4b8d37f5ef7f>[line:105]: nll_train: 0.315359 error_train : 0 nll_test : 1.193516 error_test : 2458 accuracy:0.754200\n"
     ]
    },
    {
     "name": "stdout",
     "output_type": "stream",
     "text": [
      "0.27116145299221234\n",
      "(250, 784)\n",
      "26037.73828125\n"
     ]
    },
    {
     "name": "stderr",
     "output_type": "stream",
     "text": [
      "2019-04-06 01:54:15,079 - <ipython-input-4-4b8d37f5ef7f>[line:101]: [Epoch] 46\n",
      "2019-04-06 01:54:15,080 - <ipython-input-4-4b8d37f5ef7f>[line:105]: nll_train: 0.312092 error_train : 0 nll_test : 1.190971 error_test : 2458 accuracy:0.754200\n"
     ]
    },
    {
     "name": "stdout",
     "output_type": "stream",
     "text": [
      "0.2710203878843747\n",
      "(250, 784)\n",
      "26044.05078125\n"
     ]
    },
    {
     "name": "stderr",
     "output_type": "stream",
     "text": [
      "2019-04-06 01:54:20,474 - <ipython-input-4-4b8d37f5ef7f>[line:101]: [Epoch] 47\n",
      "2019-04-06 01:54:20,476 - <ipython-input-4-4b8d37f5ef7f>[line:105]: nll_train: 0.309137 error_train : 0 nll_test : 1.188664 error_test : 2458 accuracy:0.754200\n"
     ]
    },
    {
     "name": "stdout",
     "output_type": "stream",
     "text": [
      "0.27088787503475736\n",
      "(250, 784)\n",
      "25537.77734375\n"
     ]
    },
    {
     "name": "stderr",
     "output_type": "stream",
     "text": [
      "2019-04-06 01:54:25,874 - <ipython-input-4-4b8d37f5ef7f>[line:101]: [Epoch] 48\n",
      "2019-04-06 01:54:25,875 - <ipython-input-4-4b8d37f5ef7f>[line:105]: nll_train: 0.306466 error_train : 0 nll_test : 1.186573 error_test : 2460 accuracy:0.754000\n"
     ]
    },
    {
     "name": "stdout",
     "output_type": "stream",
     "text": [
      "0.27076333240862743\n",
      "(250, 784)\n",
      "25903.08203125\n"
     ]
    },
    {
     "name": "stderr",
     "output_type": "stream",
     "text": [
      "2019-04-06 01:54:30,933 - <ipython-input-4-4b8d37f5ef7f>[line:101]: [Epoch] 49\n",
      "2019-04-06 01:54:30,933 - <ipython-input-4-4b8d37f5ef7f>[line:105]: nll_train: 0.304052 error_train : 0 nll_test : 1.184680 error_test : 2459 accuracy:0.754100\n"
     ]
    },
    {
     "name": "stdout",
     "output_type": "stream",
     "text": [
      "0.27064621138715306\n",
      "(250, 784)\n",
      "24855.8984375\n"
     ]
    },
    {
     "name": "stderr",
     "output_type": "stream",
     "text": [
      "2019-04-06 01:54:36,210 - <ipython-input-4-4b8d37f5ef7f>[line:101]: [Epoch] 50\n",
      "2019-04-06 01:54:36,211 - <ipython-input-4-4b8d37f5ef7f>[line:105]: nll_train: 0.301871 error_train : 0 nll_test : 1.182966 error_test : 2458 accuracy:0.754200\n"
     ]
    },
    {
     "name": "stdout",
     "output_type": "stream",
     "text": [
      "0.2705360424381014\n",
      "(250, 784)\n",
      "25800.29296875\n"
     ]
    },
    {
     "name": "stderr",
     "output_type": "stream",
     "text": [
      "2019-04-06 01:54:41,114 - <ipython-input-4-4b8d37f5ef7f>[line:101]: [Epoch] 51\n",
      "2019-04-06 01:54:41,115 - <ipython-input-4-4b8d37f5ef7f>[line:105]: nll_train: 0.299899 error_train : 0 nll_test : 1.181415 error_test : 2459 accuracy:0.754100\n"
     ]
    },
    {
     "name": "stdout",
     "output_type": "stream",
     "text": [
      "0.2704323725923431\n",
      "(250, 784)\n",
      "25319.265625\n"
     ]
    },
    {
     "name": "stderr",
     "output_type": "stream",
     "text": [
      "2019-04-06 01:54:45,943 - <ipython-input-4-4b8d37f5ef7f>[line:101]: [Epoch] 52\n",
      "2019-04-06 01:54:45,943 - <ipython-input-4-4b8d37f5ef7f>[line:105]: nll_train: 0.298118 error_train : 0 nll_test : 1.180012 error_test : 2460 accuracy:0.754000\n"
     ]
    },
    {
     "name": "stdout",
     "output_type": "stream",
     "text": [
      "0.27033475850223665\n",
      "(250, 784)\n",
      "25070.328125\n"
     ]
    },
    {
     "name": "stderr",
     "output_type": "stream",
     "text": [
      "2019-04-06 01:54:50,792 - <ipython-input-4-4b8d37f5ef7f>[line:101]: [Epoch] 53\n",
      "2019-04-06 01:54:50,793 - <ipython-input-4-4b8d37f5ef7f>[line:105]: nll_train: 0.296507 error_train : 0 nll_test : 1.178744 error_test : 2461 accuracy:0.753900\n"
     ]
    },
    {
     "name": "stdout",
     "output_type": "stream",
     "text": [
      "0.2702428024488215\n",
      "(250, 784)\n",
      "25113.51171875\n"
     ]
    },
    {
     "name": "stderr",
     "output_type": "stream",
     "text": [
      "2019-04-06 01:54:55,719 - <ipython-input-4-4b8d37f5ef7f>[line:101]: [Epoch] 54\n",
      "2019-04-06 01:54:55,720 - <ipython-input-4-4b8d37f5ef7f>[line:105]: nll_train: 0.295051 error_train : 0 nll_test : 1.177596 error_test : 2459 accuracy:0.754100\n"
     ]
    },
    {
     "name": "stdout",
     "output_type": "stream",
     "text": [
      "0.27015615724959885\n",
      "(250, 784)\n",
      "26248.91796875\n"
     ]
    },
    {
     "name": "stderr",
     "output_type": "stream",
     "text": [
      "2019-04-06 01:55:00,932 - <ipython-input-4-4b8d37f5ef7f>[line:101]: [Epoch] 55\n",
      "2019-04-06 01:55:00,933 - <ipython-input-4-4b8d37f5ef7f>[line:105]: nll_train: 0.293734 error_train : 0 nll_test : 1.176559 error_test : 2459 accuracy:0.754100\n"
     ]
    },
    {
     "name": "stdout",
     "output_type": "stream",
     "text": [
      "0.27007447331079126\n",
      "(250, 784)\n",
      "26391.6953125\n"
     ]
    },
    {
     "name": "stderr",
     "output_type": "stream",
     "text": [
      "2019-04-06 01:55:05,935 - <ipython-input-4-4b8d37f5ef7f>[line:101]: [Epoch] 56\n",
      "2019-04-06 01:55:05,936 - <ipython-input-4-4b8d37f5ef7f>[line:105]: nll_train: 0.292544 error_train : 0 nll_test : 1.175621 error_test : 2458 accuracy:0.754200\n"
     ]
    },
    {
     "name": "stdout",
     "output_type": "stream",
     "text": [
      "0.2699974353958456\n",
      "(250, 784)\n",
      "24450.5078125\n"
     ]
    },
    {
     "name": "stderr",
     "output_type": "stream",
     "text": [
      "2019-04-06 01:55:11,099 - <ipython-input-4-4b8d37f5ef7f>[line:101]: [Epoch] 57\n",
      "2019-04-06 01:55:11,100 - <ipython-input-4-4b8d37f5ef7f>[line:105]: nll_train: 0.291467 error_train : 0 nll_test : 1.174774 error_test : 2458 accuracy:0.754200\n"
     ]
    },
    {
     "name": "stdout",
     "output_type": "stream",
     "text": [
      "0.2699247327701544\n",
      "(250, 784)\n",
      "25285.28515625\n"
     ]
    },
    {
     "name": "stderr",
     "output_type": "stream",
     "text": [
      "2019-04-06 01:55:16,113 - <ipython-input-4-4b8d37f5ef7f>[line:101]: [Epoch] 58\n",
      "2019-04-06 01:55:16,114 - <ipython-input-4-4b8d37f5ef7f>[line:105]: nll_train: 0.290492 error_train : 0 nll_test : 1.174008 error_test : 2458 accuracy:0.754200\n"
     ]
    },
    {
     "name": "stdout",
     "output_type": "stream",
     "text": [
      "0.2698561104341572\n",
      "(250, 784)\n",
      "24583.23828125\n"
     ]
    },
    {
     "name": "stderr",
     "output_type": "stream",
     "text": [
      "2019-04-06 01:55:21,137 - <ipython-input-4-4b8d37f5ef7f>[line:101]: [Epoch] 59\n",
      "2019-04-06 01:55:21,138 - <ipython-input-4-4b8d37f5ef7f>[line:105]: nll_train: 0.289610 error_train : 0 nll_test : 1.173315 error_test : 2459 accuracy:0.754100\n"
     ]
    },
    {
     "name": "stdout",
     "output_type": "stream",
     "text": [
      "0.2697913125803113\n",
      "(250, 784)\n",
      "26187.30859375\n"
     ]
    },
    {
     "name": "stderr",
     "output_type": "stream",
     "text": [
      "2019-04-06 01:55:26,071 - <ipython-input-4-4b8d37f5ef7f>[line:101]: [Epoch] 60\n",
      "2019-04-06 01:55:26,071 - <ipython-input-4-4b8d37f5ef7f>[line:105]: nll_train: 0.288812 error_train : 0 nll_test : 1.172689 error_test : 2460 accuracy:0.754000\n"
     ]
    },
    {
     "name": "stdout",
     "output_type": "stream",
     "text": [
      "0.26973010218047316\n",
      "(250, 784)\n",
      "26020.79296875\n"
     ]
    },
    {
     "name": "stderr",
     "output_type": "stream",
     "text": [
      "2019-04-06 01:55:31,062 - <ipython-input-4-4b8d37f5ef7f>[line:101]: [Epoch] 61\n",
      "2019-04-06 01:55:31,063 - <ipython-input-4-4b8d37f5ef7f>[line:105]: nll_train: 0.288089 error_train : 0 nll_test : 1.172123 error_test : 2459 accuracy:0.754100\n"
     ]
    },
    {
     "name": "stdout",
     "output_type": "stream",
     "text": [
      "0.2696722652102814\n",
      "(250, 784)\n",
      "25575.36328125\n"
     ]
    },
    {
     "name": "stderr",
     "output_type": "stream",
     "text": [
      "2019-04-06 01:55:36,116 - <ipython-input-4-4b8d37f5ef7f>[line:101]: [Epoch] 62\n",
      "2019-04-06 01:55:36,117 - <ipython-input-4-4b8d37f5ef7f>[line:105]: nll_train: 0.287434 error_train : 0 nll_test : 1.171611 error_test : 2459 accuracy:0.754100\n"
     ]
    },
    {
     "name": "stdout",
     "output_type": "stream",
     "text": [
      "0.2696175949019607\n",
      "(250, 784)\n",
      "25408.0625\n"
     ]
    },
    {
     "name": "stderr",
     "output_type": "stream",
     "text": [
      "2019-04-06 01:55:41,387 - <ipython-input-4-4b8d37f5ef7f>[line:101]: [Epoch] 63\n",
      "2019-04-06 01:55:41,388 - <ipython-input-4-4b8d37f5ef7f>[line:105]: nll_train: 0.286840 error_train : 0 nll_test : 1.171148 error_test : 2458 accuracy:0.754200\n"
     ]
    },
    {
     "name": "stdout",
     "output_type": "stream",
     "text": [
      "0.26956589458807456\n",
      "(250, 784)\n",
      "25024.71875\n"
     ]
    },
    {
     "name": "stderr",
     "output_type": "stream",
     "text": [
      "2019-04-06 01:55:46,342 - <ipython-input-4-4b8d37f5ef7f>[line:101]: [Epoch] 64\n",
      "2019-04-06 01:55:46,342 - <ipython-input-4-4b8d37f5ef7f>[line:105]: nll_train: 0.286302 error_train : 0 nll_test : 1.170729 error_test : 2458 accuracy:0.754200\n"
     ]
    },
    {
     "name": "stdout",
     "output_type": "stream",
     "text": [
      "0.2695169859570635\n",
      "(250, 784)\n",
      "26342.9140625\n"
     ]
    },
    {
     "name": "stderr",
     "output_type": "stream",
     "text": [
      "2019-04-06 01:55:51,560 - <ipython-input-4-4b8d37f5ef7f>[line:101]: [Epoch] 65\n",
      "2019-04-06 01:55:51,561 - <ipython-input-4-4b8d37f5ef7f>[line:105]: nll_train: 0.285814 error_train : 0 nll_test : 1.170350 error_test : 2458 accuracy:0.754200\n"
     ]
    },
    {
     "name": "stdout",
     "output_type": "stream",
     "text": [
      "0.26947070047039506\n",
      "(250, 784)\n",
      "25233.078125\n"
     ]
    },
    {
     "name": "stderr",
     "output_type": "stream",
     "text": [
      "2019-04-06 01:55:56,874 - <ipython-input-4-4b8d37f5ef7f>[line:101]: [Epoch] 66\n",
      "2019-04-06 01:55:56,875 - <ipython-input-4-4b8d37f5ef7f>[line:105]: nll_train: 0.285371 error_train : 0 nll_test : 1.170007 error_test : 2456 accuracy:0.754400\n"
     ]
    },
    {
     "name": "stdout",
     "output_type": "stream",
     "text": [
      "0.26942688949261995\n",
      "(250, 784)\n",
      "25709.140625\n"
     ]
    },
    {
     "name": "stderr",
     "output_type": "stream",
     "text": [
      "2019-04-06 01:56:01,792 - <ipython-input-4-4b8d37f5ef7f>[line:101]: [Epoch] 67\n",
      "2019-04-06 01:56:01,794 - <ipython-input-4-4b8d37f5ef7f>[line:105]: nll_train: 0.284969 error_train : 0 nll_test : 1.169696 error_test : 2456 accuracy:0.754400\n"
     ]
    },
    {
     "name": "stdout",
     "output_type": "stream",
     "text": [
      "0.269385411534897\n",
      "(250, 784)\n",
      "25701.7421875\n"
     ]
    },
    {
     "name": "stderr",
     "output_type": "stream",
     "text": [
      "2019-04-06 01:56:06,674 - <ipython-input-4-4b8d37f5ef7f>[line:101]: [Epoch] 68\n",
      "2019-04-06 01:56:06,676 - <ipython-input-4-4b8d37f5ef7f>[line:105]: nll_train: 0.284604 error_train : 0 nll_test : 1.169415 error_test : 2455 accuracy:0.754500\n"
     ]
    },
    {
     "name": "stdout",
     "output_type": "stream",
     "text": [
      "0.26934613135412844\n",
      "(250, 784)\n",
      "26275.1484375\n"
     ]
    },
    {
     "name": "stderr",
     "output_type": "stream",
     "text": [
      "2019-04-06 01:56:11,836 - <ipython-input-4-4b8d37f5ef7f>[line:101]: [Epoch] 69\n",
      "2019-04-06 01:56:11,837 - <ipython-input-4-4b8d37f5ef7f>[line:105]: nll_train: 0.284272 error_train : 0 nll_test : 1.169160 error_test : 2455 accuracy:0.754500\n"
     ]
    },
    {
     "name": "stdout",
     "output_type": "stream",
     "text": [
      "0.2693089185291847\n",
      "(250, 784)\n",
      "24809.83203125\n"
     ]
    },
    {
     "name": "stderr",
     "output_type": "stream",
     "text": [
      "2019-04-06 01:56:16,988 - <ipython-input-4-4b8d37f5ef7f>[line:101]: [Epoch] 70\n",
      "2019-04-06 01:56:16,989 - <ipython-input-4-4b8d37f5ef7f>[line:105]: nll_train: 0.283971 error_train : 0 nll_test : 1.168929 error_test : 2454 accuracy:0.754600\n"
     ]
    },
    {
     "name": "stdout",
     "output_type": "stream",
     "text": [
      "0.26927366223683796\n",
      "(250, 784)\n",
      "25097.3515625\n"
     ]
    },
    {
     "name": "stderr",
     "output_type": "stream",
     "text": [
      "2019-04-06 01:56:22,297 - <ipython-input-4-4b8d37f5ef7f>[line:101]: [Epoch] 71\n",
      "2019-04-06 01:56:22,298 - <ipython-input-4-4b8d37f5ef7f>[line:105]: nll_train: 0.283697 error_train : 0 nll_test : 1.168720 error_test : 2455 accuracy:0.754500\n"
     ]
    },
    {
     "name": "stdout",
     "output_type": "stream",
     "text": [
      "0.26924024747600506\n",
      "(250, 784)\n",
      "25906.18359375\n"
     ]
    },
    {
     "name": "stderr",
     "output_type": "stream",
     "text": [
      "2019-04-06 01:56:27,348 - <ipython-input-4-4b8d37f5ef7f>[line:101]: [Epoch] 72\n",
      "2019-04-06 01:56:27,349 - <ipython-input-4-4b8d37f5ef7f>[line:105]: nll_train: 0.283448 error_train : 0 nll_test : 1.168530 error_test : 2455 accuracy:0.754500\n"
     ]
    },
    {
     "name": "stdout",
     "output_type": "stream",
     "text": [
      "0.26920857186110775\n",
      "(250, 784)\n",
      "25227.6796875\n"
     ]
    },
    {
     "name": "stderr",
     "output_type": "stream",
     "text": [
      "2019-04-06 01:56:32,484 - <ipython-input-4-4b8d37f5ef7f>[line:101]: [Epoch] 73\n",
      "2019-04-06 01:56:32,485 - <ipython-input-4-4b8d37f5ef7f>[line:105]: nll_train: 0.283221 error_train : 0 nll_test : 1.168358 error_test : 2454 accuracy:0.754600\n"
     ]
    },
    {
     "name": "stdout",
     "output_type": "stream",
     "text": [
      "0.2691785404317588\n",
      "(250, 784)\n",
      "25477.5234375\n"
     ]
    },
    {
     "name": "stderr",
     "output_type": "stream",
     "text": [
      "2019-04-06 01:56:37,564 - <ipython-input-4-4b8d37f5ef7f>[line:101]: [Epoch] 74\n",
      "2019-04-06 01:56:37,564 - <ipython-input-4-4b8d37f5ef7f>[line:105]: nll_train: 0.283014 error_train : 0 nll_test : 1.168201 error_test : 2454 accuracy:0.754600\n"
     ]
    },
    {
     "name": "stdout",
     "output_type": "stream",
     "text": [
      "0.26915006067502395\n",
      "(250, 784)\n",
      "25753.0078125\n"
     ]
    },
    {
     "name": "stderr",
     "output_type": "stream",
     "text": [
      "2019-04-06 01:56:42,614 - <ipython-input-4-4b8d37f5ef7f>[line:101]: [Epoch] 75\n",
      "2019-04-06 01:56:42,615 - <ipython-input-4-4b8d37f5ef7f>[line:105]: nll_train: 0.282825 error_train : 0 nll_test : 1.168059 error_test : 2454 accuracy:0.754600\n"
     ]
    },
    {
     "name": "stdout",
     "output_type": "stream",
     "text": [
      "0.2691230471506671\n",
      "(250, 784)\n",
      "26061.48828125\n"
     ]
    },
    {
     "name": "stderr",
     "output_type": "stream",
     "text": [
      "2019-04-06 01:56:48,320 - <ipython-input-4-4b8d37f5ef7f>[line:101]: [Epoch] 76\n",
      "2019-04-06 01:56:48,321 - <ipython-input-4-4b8d37f5ef7f>[line:105]: nll_train: 0.282653 error_train : 0 nll_test : 1.167930 error_test : 2454 accuracy:0.754600\n"
     ]
    },
    {
     "name": "stdout",
     "output_type": "stream",
     "text": [
      "0.26909741952201144\n",
      "(250, 784)\n",
      "26049.31640625\n"
     ]
    },
    {
     "name": "stderr",
     "output_type": "stream",
     "text": [
      "2019-04-06 01:56:53,224 - <ipython-input-4-4b8d37f5ef7f>[line:101]: [Epoch] 77\n",
      "2019-04-06 01:56:53,225 - <ipython-input-4-4b8d37f5ef7f>[line:105]: nll_train: 0.282496 error_train : 0 nll_test : 1.167812 error_test : 2455 accuracy:0.754500\n"
     ]
    },
    {
     "name": "stdout",
     "output_type": "stream",
     "text": [
      "0.26907310426375\n",
      "(250, 784)\n",
      "25363.7265625\n"
     ]
    },
    {
     "name": "stderr",
     "output_type": "stream",
     "text": [
      "2019-04-06 01:56:58,115 - <ipython-input-4-4b8d37f5ef7f>[line:101]: [Epoch] 78\n",
      "2019-04-06 01:56:58,116 - <ipython-input-4-4b8d37f5ef7f>[line:105]: nll_train: 0.282352 error_train : 0 nll_test : 1.167705 error_test : 2455 accuracy:0.754500\n"
     ]
    },
    {
     "name": "stdout",
     "output_type": "stream",
     "text": [
      "0.2690500325686946\n",
      "(250, 784)\n",
      "26164.28515625\n"
     ]
    },
    {
     "name": "stderr",
     "output_type": "stream",
     "text": [
      "2019-04-06 01:57:03,002 - <ipython-input-4-4b8d37f5ef7f>[line:101]: [Epoch] 79\n",
      "2019-04-06 01:57:03,003 - <ipython-input-4-4b8d37f5ef7f>[line:105]: nll_train: 0.282221 error_train : 0 nll_test : 1.167608 error_test : 2455 accuracy:0.754500\n"
     ]
    },
    {
     "name": "stdout",
     "output_type": "stream",
     "text": [
      "0.2690281354214065\n",
      "(250, 784)\n",
      "25843.19140625\n"
     ]
    },
    {
     "name": "stderr",
     "output_type": "stream",
     "text": [
      "2019-04-06 01:57:07,814 - <ipython-input-4-4b8d37f5ef7f>[line:101]: [Epoch] 80\n",
      "2019-04-06 01:57:07,815 - <ipython-input-4-4b8d37f5ef7f>[line:105]: nll_train: 0.282101 error_train : 0 nll_test : 1.167519 error_test : 2455 accuracy:0.754500\n"
     ]
    },
    {
     "name": "stdout",
     "output_type": "stream",
     "text": [
      "0.26900735009393445\n",
      "(250, 784)\n",
      "25134.10546875\n"
     ]
    },
    {
     "name": "stderr",
     "output_type": "stream",
     "text": [
      "2019-04-06 01:57:12,676 - <ipython-input-4-4b8d37f5ef7f>[line:101]: [Epoch] 81\n",
      "2019-04-06 01:57:12,677 - <ipython-input-4-4b8d37f5ef7f>[line:105]: nll_train: 0.281991 error_train : 0 nll_test : 1.167438 error_test : 2455 accuracy:0.754500\n"
     ]
    },
    {
     "name": "stdout",
     "output_type": "stream",
     "text": [
      "0.26898761791376297\n",
      "(250, 784)\n",
      "25897.25\n"
     ]
    },
    {
     "name": "stderr",
     "output_type": "stream",
     "text": [
      "2019-04-06 01:57:17,721 - <ipython-input-4-4b8d37f5ef7f>[line:101]: [Epoch] 82\n",
      "2019-04-06 01:57:17,722 - <ipython-input-4-4b8d37f5ef7f>[line:105]: nll_train: 0.281891 error_train : 0 nll_test : 1.167365 error_test : 2455 accuracy:0.754500\n"
     ]
    },
    {
     "name": "stdout",
     "output_type": "stream",
     "text": [
      "0.26896888460935775\n",
      "(250, 784)\n",
      "26142.890625\n"
     ]
    },
    {
     "name": "stderr",
     "output_type": "stream",
     "text": [
      "2019-04-06 01:57:22,679 - <ipython-input-4-4b8d37f5ef7f>[line:101]: [Epoch] 83\n",
      "2019-04-06 01:57:22,680 - <ipython-input-4-4b8d37f5ef7f>[line:105]: nll_train: 0.281798 error_train : 0 nll_test : 1.167297 error_test : 2455 accuracy:0.754500\n"
     ]
    },
    {
     "name": "stdout",
     "output_type": "stream",
     "text": [
      "0.2689510967926738\n",
      "(250, 784)\n",
      "24474.4296875\n"
     ]
    },
    {
     "name": "stderr",
     "output_type": "stream",
     "text": [
      "2019-04-06 01:57:27,838 - <ipython-input-4-4b8d37f5ef7f>[line:101]: [Epoch] 84\n",
      "2019-04-06 01:57:27,839 - <ipython-input-4-4b8d37f5ef7f>[line:105]: nll_train: 0.281714 error_train : 0 nll_test : 1.167236 error_test : 2455 accuracy:0.754500\n"
     ]
    },
    {
     "name": "stdout",
     "output_type": "stream",
     "text": [
      "0.2689342053505229\n",
      "(250, 784)\n",
      "24990.65625\n"
     ]
    },
    {
     "name": "stderr",
     "output_type": "stream",
     "text": [
      "2019-04-06 01:57:32,929 - <ipython-input-4-4b8d37f5ef7f>[line:101]: [Epoch] 85\n",
      "2019-04-06 01:57:32,930 - <ipython-input-4-4b8d37f5ef7f>[line:105]: nll_train: 0.281636 error_train : 0 nll_test : 1.167180 error_test : 2455 accuracy:0.754500\n"
     ]
    },
    {
     "name": "stdout",
     "output_type": "stream",
     "text": [
      "0.2689181616026326\n",
      "(250, 784)\n",
      "25763.4140625\n"
     ]
    },
    {
     "name": "stderr",
     "output_type": "stream",
     "text": [
      "2019-04-06 01:57:38,782 - <ipython-input-4-4b8d37f5ef7f>[line:101]: [Epoch] 86\n",
      "2019-04-06 01:57:38,783 - <ipython-input-4-4b8d37f5ef7f>[line:105]: nll_train: 0.281565 error_train : 0 nll_test : 1.167128 error_test : 2456 accuracy:0.754400\n"
     ]
    },
    {
     "name": "stdout",
     "output_type": "stream",
     "text": [
      "0.2689029203379697\n",
      "(250, 784)\n",
      "25570.359375\n"
     ]
    },
    {
     "name": "stderr",
     "output_type": "stream",
     "text": [
      "2019-04-06 01:57:43,927 - <ipython-input-4-4b8d37f5ef7f>[line:101]: [Epoch] 87\n",
      "2019-04-06 01:57:43,929 - <ipython-input-4-4b8d37f5ef7f>[line:105]: nll_train: 0.281499 error_train : 0 nll_test : 1.167081 error_test : 2456 accuracy:0.754400\n"
     ]
    },
    {
     "name": "stdout",
     "output_type": "stream",
     "text": [
      "0.26888844050515115\n",
      "(250, 784)\n",
      "25442.23828125\n"
     ]
    },
    {
     "name": "stderr",
     "output_type": "stream",
     "text": [
      "2019-04-06 01:57:49,213 - <ipython-input-4-4b8d37f5ef7f>[line:101]: [Epoch] 88\n",
      "2019-04-06 01:57:49,214 - <ipython-input-4-4b8d37f5ef7f>[line:105]: nll_train: 0.281438 error_train : 0 nll_test : 1.167038 error_test : 2456 accuracy:0.754400\n"
     ]
    },
    {
     "name": "stdout",
     "output_type": "stream",
     "text": [
      "0.2688746824762462\n",
      "(250, 784)\n",
      "25346.48046875\n"
     ]
    },
    {
     "name": "stderr",
     "output_type": "stream",
     "text": [
      "2019-04-06 01:57:55,097 - <ipython-input-4-4b8d37f5ef7f>[line:101]: [Epoch] 89\n",
      "2019-04-06 01:57:55,098 - <ipython-input-4-4b8d37f5ef7f>[line:105]: nll_train: 0.281382 error_train : 0 nll_test : 1.166998 error_test : 2456 accuracy:0.754400\n"
     ]
    },
    {
     "name": "stdout",
     "output_type": "stream",
     "text": [
      "0.26886161024610167\n",
      "(250, 784)\n",
      "25353.2421875\n"
     ]
    },
    {
     "name": "stderr",
     "output_type": "stream",
     "text": [
      "2019-04-06 01:58:00,007 - <ipython-input-4-4b8d37f5ef7f>[line:101]: [Epoch] 90\n",
      "2019-04-06 01:58:00,008 - <ipython-input-4-4b8d37f5ef7f>[line:105]: nll_train: 0.281331 error_train : 0 nll_test : 1.166962 error_test : 2456 accuracy:0.754400\n"
     ]
    },
    {
     "name": "stdout",
     "output_type": "stream",
     "text": [
      "0.26884918796045243\n",
      "(250, 784)\n",
      "25318.15625\n"
     ]
    },
    {
     "name": "stderr",
     "output_type": "stream",
     "text": [
      "2019-04-06 01:58:04,885 - <ipython-input-4-4b8d37f5ef7f>[line:101]: [Epoch] 91\n",
      "2019-04-06 01:58:04,887 - <ipython-input-4-4b8d37f5ef7f>[line:105]: nll_train: 0.281283 error_train : 0 nll_test : 1.166929 error_test : 2456 accuracy:0.754400\n"
     ]
    },
    {
     "name": "stdout",
     "output_type": "stream",
     "text": [
      "0.2688373828482117\n",
      "(250, 784)\n",
      "26025.69921875\n"
     ]
    },
    {
     "name": "stderr",
     "output_type": "stream",
     "text": [
      "2019-04-06 01:58:10,227 - <ipython-input-4-4b8d37f5ef7f>[line:101]: [Epoch] 92\n",
      "2019-04-06 01:58:10,228 - <ipython-input-4-4b8d37f5ef7f>[line:105]: nll_train: 0.281240 error_train : 0 nll_test : 1.166898 error_test : 2456 accuracy:0.754400\n"
     ]
    },
    {
     "name": "stdout",
     "output_type": "stream",
     "text": [
      "0.2688261632287732\n",
      "(250, 784)\n",
      "25299.83984375\n"
     ]
    },
    {
     "name": "stderr",
     "output_type": "stream",
     "text": [
      "2019-04-06 01:58:14,889 - <ipython-input-4-4b8d37f5ef7f>[line:101]: [Epoch] 93\n",
      "2019-04-06 01:58:14,889 - <ipython-input-4-4b8d37f5ef7f>[line:105]: nll_train: 0.281199 error_train : 0 nll_test : 1.166870 error_test : 2456 accuracy:0.754400\n"
     ]
    },
    {
     "name": "stdout",
     "output_type": "stream",
     "text": [
      "0.26881550017190803\n",
      "(250, 784)\n",
      "25136.3359375\n"
     ]
    },
    {
     "name": "stderr",
     "output_type": "stream",
     "text": [
      "2019-04-06 01:58:19,760 - <ipython-input-4-4b8d37f5ef7f>[line:101]: [Epoch] 94\n",
      "2019-04-06 01:58:19,761 - <ipython-input-4-4b8d37f5ef7f>[line:105]: nll_train: 0.281162 error_train : 0 nll_test : 1.166844 error_test : 2456 accuracy:0.754400\n"
     ]
    },
    {
     "name": "stdout",
     "output_type": "stream",
     "text": [
      "0.2688053649316017\n",
      "(250, 784)\n",
      "25182.7109375\n"
     ]
    },
    {
     "name": "stderr",
     "output_type": "stream",
     "text": [
      "2019-04-06 01:58:24,595 - <ipython-input-4-4b8d37f5ef7f>[line:101]: [Epoch] 95\n",
      "2019-04-06 01:58:24,596 - <ipython-input-4-4b8d37f5ef7f>[line:105]: nll_train: 0.281127 error_train : 0 nll_test : 1.166820 error_test : 2456 accuracy:0.754400\n"
     ]
    },
    {
     "name": "stdout",
     "output_type": "stream",
     "text": [
      "0.2687957306254982\n",
      "(250, 784)\n",
      "25336.26953125\n"
     ]
    },
    {
     "name": "stderr",
     "output_type": "stream",
     "text": [
      "2019-04-06 01:58:30,306 - <ipython-input-4-4b8d37f5ef7f>[line:101]: [Epoch] 96\n",
      "2019-04-06 01:58:30,307 - <ipython-input-4-4b8d37f5ef7f>[line:105]: nll_train: 0.281095 error_train : 0 nll_test : 1.166799 error_test : 2456 accuracy:0.754400\n"
     ]
    },
    {
     "name": "stdout",
     "output_type": "stream",
     "text": [
      "0.26878657235846776\n",
      "(250, 784)\n",
      "26234.49609375\n"
     ]
    },
    {
     "name": "stderr",
     "output_type": "stream",
     "text": [
      "2019-04-06 01:58:36,003 - <ipython-input-4-4b8d37f5ef7f>[line:101]: [Epoch] 97\n",
      "2019-04-06 01:58:36,004 - <ipython-input-4-4b8d37f5ef7f>[line:105]: nll_train: 0.281065 error_train : 0 nll_test : 1.166778 error_test : 2456 accuracy:0.754400\n"
     ]
    },
    {
     "name": "stdout",
     "output_type": "stream",
     "text": [
      "0.26877786623094024\n",
      "(250, 784)\n",
      "25875.08203125\n"
     ]
    },
    {
     "name": "stderr",
     "output_type": "stream",
     "text": [
      "2019-04-06 01:58:41,701 - <ipython-input-4-4b8d37f5ef7f>[line:101]: [Epoch] 98\n",
      "2019-04-06 01:58:41,702 - <ipython-input-4-4b8d37f5ef7f>[line:105]: nll_train: 0.281037 error_train : 0 nll_test : 1.166760 error_test : 2456 accuracy:0.754400\n"
     ]
    },
    {
     "name": "stdout",
     "output_type": "stream",
     "text": [
      "0.26876958934669476\n",
      "(250, 784)\n",
      "24702.5703125\n"
     ]
    },
    {
     "name": "stderr",
     "output_type": "stream",
     "text": [
      "2019-04-06 01:58:47,286 - <ipython-input-4-4b8d37f5ef7f>[line:101]: [Epoch] 99\n",
      "2019-04-06 01:58:47,287 - <ipython-input-4-4b8d37f5ef7f>[line:105]: nll_train: 0.281011 error_train : 0 nll_test : 1.166742 error_test : 2456 accuracy:0.754400\n",
      "2019-04-06 01:59:21,950 - <ipython-input-4-4b8d37f5ef7f>[line:127]: final nll_train: 0.069420 error_train: 0 nll_test: 0.929169 error_test: 2434 accuracy:0.756600\n"
     ]
    }
   ],
   "source": [
    "\n",
    "arg = {'seed': 1,\n",
    "       'size': 100,\n",
    "       'vis': False,\n",
    "       'epochs': 100,\n",
    "       'iterations': 1,\n",
    "       'lr_decay': 0.95,\n",
    "       'batch_size': 100,\n",
    "       'ul_batch_size': 250,\n",
    "       'num_validation_samples': 1000,\n",
    "       'layer_sizes': '784-1200-1200-10',\n",
    "       'dataset': 'mnist',\n",
    "       'epsilon': 0.3,\n",
    "       'cost_type': 'MLE',\n",
    "       'norm_constraint': 'L2',\n",
    "       'num_power_iter': 1,\n",
    "       'lamb': 1,\n",
    "       'lr': 0.001\n",
    "      }\n",
    "train(arg)"
   ]
  },
  {
   "cell_type": "code",
   "execution_count": 7,
   "metadata": {},
   "outputs": [
    {
     "name": "stderr",
     "output_type": "stream",
     "text": [
      "2019-04-01 19:41:34,539 - <ipython-input-4-df82ab415009>[line:97]: [Epoch] 0\n",
      "2019-04-01 19:41:34,540 - <ipython-input-4-df82ab415009>[line:101]: nll_train: 1.788823 error_train : 25 nll_test : 1.971886 error_test : 5213 accuracy:0.478700\n",
      "2019-04-01 19:41:38,691 - <ipython-input-4-df82ab415009>[line:97]: [Epoch] 1\n",
      "2019-04-01 19:41:38,693 - <ipython-input-4-df82ab415009>[line:101]: nll_train: 1.501638 error_train : 9 nll_test : 1.807326 error_test : 3998 accuracy:0.600200\n",
      "2019-04-01 19:41:42,945 - <ipython-input-4-df82ab415009>[line:97]: [Epoch] 2\n",
      "2019-04-01 19:41:42,948 - <ipython-input-4-df82ab415009>[line:101]: nll_train: 1.363042 error_train : 4 nll_test : 1.735865 error_test : 3478 accuracy:0.652200\n",
      "2019-04-01 19:41:46,914 - <ipython-input-4-df82ab415009>[line:97]: [Epoch] 3\n",
      "2019-04-01 19:41:46,915 - <ipython-input-4-df82ab415009>[line:101]: nll_train: 1.287941 error_train : 1 nll_test : 1.703039 error_test : 3177 accuracy:0.682300\n",
      "2019-04-01 19:41:51,025 - <ipython-input-4-df82ab415009>[line:97]: [Epoch] 4\n",
      "2019-04-01 19:41:51,030 - <ipython-input-4-df82ab415009>[line:101]: nll_train: 1.238105 error_train : 0 nll_test : 1.684090 error_test : 2981 accuracy:0.701900\n",
      "2019-04-01 19:41:55,556 - <ipython-input-4-df82ab415009>[line:97]: [Epoch] 5\n",
      "2019-04-01 19:41:55,558 - <ipython-input-4-df82ab415009>[line:101]: nll_train: 1.197793 error_train : 0 nll_test : 1.669503 error_test : 2856 accuracy:0.714400\n",
      "2019-04-01 19:42:00,051 - <ipython-input-4-df82ab415009>[line:97]: [Epoch] 6\n",
      "2019-04-01 19:42:00,052 - <ipython-input-4-df82ab415009>[line:101]: nll_train: 1.160212 error_train : 0 nll_test : 1.655654 error_test : 2790 accuracy:0.721000\n",
      "2019-04-01 19:42:04,368 - <ipython-input-4-df82ab415009>[line:97]: [Epoch] 7\n",
      "2019-04-01 19:42:04,369 - <ipython-input-4-df82ab415009>[line:101]: nll_train: 1.122913 error_train : 0 nll_test : 1.641309 error_test : 2735 accuracy:0.726500\n",
      "2019-04-01 19:42:08,730 - <ipython-input-4-df82ab415009>[line:97]: [Epoch] 8\n",
      "2019-04-01 19:42:08,731 - <ipython-input-4-df82ab415009>[line:101]: nll_train: 1.085036 error_train : 0 nll_test : 1.626095 error_test : 2686 accuracy:0.731400\n",
      "2019-04-01 19:42:13,665 - <ipython-input-4-df82ab415009>[line:97]: [Epoch] 9\n",
      "2019-04-01 19:42:13,667 - <ipython-input-4-df82ab415009>[line:101]: nll_train: 1.046537 error_train : 0 nll_test : 1.609999 error_test : 2651 accuracy:0.734900\n",
      "2019-04-01 19:42:18,291 - <ipython-input-4-df82ab415009>[line:97]: [Epoch] 10\n",
      "2019-04-01 19:42:18,291 - <ipython-input-4-df82ab415009>[line:101]: nll_train: 1.007713 error_train : 0 nll_test : 1.593119 error_test : 2615 accuracy:0.738500\n",
      "2019-04-01 19:42:22,767 - <ipython-input-4-df82ab415009>[line:97]: [Epoch] 11\n",
      "2019-04-01 19:42:22,769 - <ipython-input-4-df82ab415009>[line:101]: nll_train: 0.968747 error_train : 0 nll_test : 1.575593 error_test : 2600 accuracy:0.740000\n",
      "2019-04-01 19:42:27,281 - <ipython-input-4-df82ab415009>[line:97]: [Epoch] 12\n",
      "2019-04-01 19:42:27,282 - <ipython-input-4-df82ab415009>[line:101]: nll_train: 0.929881 error_train : 0 nll_test : 1.557601 error_test : 2576 accuracy:0.742400\n",
      "2019-04-01 19:42:32,032 - <ipython-input-4-df82ab415009>[line:97]: [Epoch] 13\n",
      "2019-04-01 19:42:32,033 - <ipython-input-4-df82ab415009>[line:101]: nll_train: 0.891210 error_train : 0 nll_test : 1.539285 error_test : 2566 accuracy:0.743400\n",
      "2019-04-01 19:42:36,760 - <ipython-input-4-df82ab415009>[line:97]: [Epoch] 14\n",
      "2019-04-01 19:42:36,761 - <ipython-input-4-df82ab415009>[line:101]: nll_train: 0.853112 error_train : 0 nll_test : 1.520806 error_test : 2557 accuracy:0.744300\n",
      "2019-04-01 19:42:41,216 - <ipython-input-4-df82ab415009>[line:97]: [Epoch] 15\n",
      "2019-04-01 19:42:41,218 - <ipython-input-4-df82ab415009>[line:101]: nll_train: 0.815865 error_train : 0 nll_test : 1.502288 error_test : 2555 accuracy:0.744500\n",
      "2019-04-01 19:42:45,884 - <ipython-input-4-df82ab415009>[line:97]: [Epoch] 16\n",
      "2019-04-01 19:42:45,885 - <ipython-input-4-df82ab415009>[line:101]: nll_train: 0.779702 error_train : 0 nll_test : 1.483852 error_test : 2550 accuracy:0.745000\n",
      "2019-04-01 19:42:50,439 - <ipython-input-4-df82ab415009>[line:97]: [Epoch] 17\n",
      "2019-04-01 19:42:50,440 - <ipython-input-4-df82ab415009>[line:101]: nll_train: 0.744770 error_train : 0 nll_test : 1.465608 error_test : 2549 accuracy:0.745100\n",
      "2019-04-01 19:42:54,832 - <ipython-input-4-df82ab415009>[line:97]: [Epoch] 18\n",
      "2019-04-01 19:42:54,833 - <ipython-input-4-df82ab415009>[line:101]: nll_train: 0.711195 error_train : 0 nll_test : 1.447676 error_test : 2548 accuracy:0.745200\n",
      "2019-04-01 19:42:59,458 - <ipython-input-4-df82ab415009>[line:97]: [Epoch] 19\n",
      "2019-04-01 19:42:59,460 - <ipython-input-4-df82ab415009>[line:101]: nll_train: 0.679131 error_train : 0 nll_test : 1.430140 error_test : 2550 accuracy:0.745000\n",
      "2019-04-01 19:43:04,068 - <ipython-input-4-df82ab415009>[line:97]: [Epoch] 20\n",
      "2019-04-01 19:43:04,069 - <ipython-input-4-df82ab415009>[line:101]: nll_train: 0.648621 error_train : 0 nll_test : 1.413073 error_test : 2534 accuracy:0.746600\n",
      "2019-04-01 19:43:08,715 - <ipython-input-4-df82ab415009>[line:97]: [Epoch] 21\n",
      "2019-04-01 19:43:08,716 - <ipython-input-4-df82ab415009>[line:101]: nll_train: 0.619759 error_train : 0 nll_test : 1.396557 error_test : 2521 accuracy:0.747900\n",
      "2019-04-01 19:43:13,063 - <ipython-input-4-df82ab415009>[line:97]: [Epoch] 22\n",
      "2019-04-01 19:43:13,064 - <ipython-input-4-df82ab415009>[line:101]: nll_train: 0.592565 error_train : 0 nll_test : 1.380643 error_test : 2512 accuracy:0.748800\n",
      "2019-04-01 19:43:17,755 - <ipython-input-4-df82ab415009>[line:97]: [Epoch] 23\n",
      "2019-04-01 19:43:17,756 - <ipython-input-4-df82ab415009>[line:101]: nll_train: 0.567049 error_train : 0 nll_test : 1.365379 error_test : 2506 accuracy:0.749400\n",
      "2019-04-01 19:43:21,836 - <ipython-input-4-df82ab415009>[line:97]: [Epoch] 24\n",
      "2019-04-01 19:43:21,841 - <ipython-input-4-df82ab415009>[line:101]: nll_train: 0.543150 error_train : 0 nll_test : 1.350801 error_test : 2508 accuracy:0.749200\n",
      "2019-04-01 19:43:26,398 - <ipython-input-4-df82ab415009>[line:97]: [Epoch] 25\n",
      "2019-04-01 19:43:26,399 - <ipython-input-4-df82ab415009>[line:101]: nll_train: 0.520862 error_train : 0 nll_test : 1.336935 error_test : 2497 accuracy:0.750300\n",
      "2019-04-01 19:43:30,654 - <ipython-input-4-df82ab415009>[line:97]: [Epoch] 26\n",
      "2019-04-01 19:43:30,655 - <ipython-input-4-df82ab415009>[line:101]: nll_train: 0.500163 error_train : 0 nll_test : 1.323803 error_test : 2495 accuracy:0.750500\n",
      "2019-04-01 19:43:35,148 - <ipython-input-4-df82ab415009>[line:97]: [Epoch] 27\n",
      "2019-04-01 19:43:35,149 - <ipython-input-4-df82ab415009>[line:101]: nll_train: 0.480990 error_train : 0 nll_test : 1.311410 error_test : 2497 accuracy:0.750300\n",
      "2019-04-01 19:43:39,500 - <ipython-input-4-df82ab415009>[line:97]: [Epoch] 28\n",
      "2019-04-01 19:43:39,501 - <ipython-input-4-df82ab415009>[line:101]: nll_train: 0.463279 error_train : 0 nll_test : 1.299760 error_test : 2488 accuracy:0.751200\n",
      "2019-04-01 19:43:43,716 - <ipython-input-4-df82ab415009>[line:97]: [Epoch] 29\n",
      "2019-04-01 19:43:43,717 - <ipython-input-4-df82ab415009>[line:101]: nll_train: 0.446962 error_train : 0 nll_test : 1.288846 error_test : 2489 accuracy:0.751100\n",
      "2019-04-01 19:43:48,181 - <ipython-input-4-df82ab415009>[line:97]: [Epoch] 30\n",
      "2019-04-01 19:43:48,183 - <ipython-input-4-df82ab415009>[line:101]: nll_train: 0.431949 error_train : 0 nll_test : 1.278652 error_test : 2486 accuracy:0.751400\n",
      "2019-04-01 19:43:52,414 - <ipython-input-4-df82ab415009>[line:97]: [Epoch] 31\n",
      "2019-04-01 19:43:52,415 - <ipython-input-4-df82ab415009>[line:101]: nll_train: 0.418175 error_train : 0 nll_test : 1.269159 error_test : 2481 accuracy:0.751900\n",
      "2019-04-01 19:43:56,859 - <ipython-input-4-df82ab415009>[line:97]: [Epoch] 32\n",
      "2019-04-01 19:43:56,860 - <ipython-input-4-df82ab415009>[line:101]: nll_train: 0.405565 error_train : 0 nll_test : 1.260344 error_test : 2480 accuracy:0.752000\n",
      "2019-04-01 19:44:01,192 - <ipython-input-4-df82ab415009>[line:97]: [Epoch] 33\n",
      "2019-04-01 19:44:01,194 - <ipython-input-4-df82ab415009>[line:101]: nll_train: 0.394040 error_train : 0 nll_test : 1.252179 error_test : 2479 accuracy:0.752100\n",
      "2019-04-01 19:44:05,396 - <ipython-input-4-df82ab415009>[line:97]: [Epoch] 34\n",
      "2019-04-01 19:44:05,398 - <ipython-input-4-df82ab415009>[line:101]: nll_train: 0.383522 error_train : 0 nll_test : 1.244639 error_test : 2475 accuracy:0.752500\n"
     ]
    },
    {
     "name": "stderr",
     "output_type": "stream",
     "text": [
      "2019-04-01 19:44:09,787 - <ipython-input-4-df82ab415009>[line:97]: [Epoch] 35\n",
      "2019-04-01 19:44:09,788 - <ipython-input-4-df82ab415009>[line:101]: nll_train: 0.373939 error_train : 0 nll_test : 1.237688 error_test : 2472 accuracy:0.752800\n",
      "2019-04-01 19:44:14,068 - <ipython-input-4-df82ab415009>[line:97]: [Epoch] 36\n",
      "2019-04-01 19:44:14,070 - <ipython-input-4-df82ab415009>[line:101]: nll_train: 0.365216 error_train : 0 nll_test : 1.231295 error_test : 2467 accuracy:0.753300\n",
      "2019-04-01 19:44:20,021 - <ipython-input-4-df82ab415009>[line:97]: [Epoch] 37\n",
      "2019-04-01 19:44:20,023 - <ipython-input-4-df82ab415009>[line:101]: nll_train: 0.357283 error_train : 0 nll_test : 1.225427 error_test : 2467 accuracy:0.753300\n",
      "2019-04-01 19:44:26,185 - <ipython-input-4-df82ab415009>[line:97]: [Epoch] 38\n",
      "2019-04-01 19:44:26,194 - <ipython-input-4-df82ab415009>[line:101]: nll_train: 0.350080 error_train : 0 nll_test : 1.220049 error_test : 2467 accuracy:0.753300\n",
      "2019-04-01 19:44:33,824 - <ipython-input-4-df82ab415009>[line:97]: [Epoch] 39\n",
      "2019-04-01 19:44:33,826 - <ipython-input-4-df82ab415009>[line:101]: nll_train: 0.343546 error_train : 0 nll_test : 1.215129 error_test : 2464 accuracy:0.753600\n",
      "2019-04-01 19:44:40,086 - <ipython-input-4-df82ab415009>[line:97]: [Epoch] 40\n",
      "2019-04-01 19:44:40,088 - <ipython-input-4-df82ab415009>[line:101]: nll_train: 0.337622 error_train : 0 nll_test : 1.210635 error_test : 2463 accuracy:0.753700\n",
      "2019-04-01 19:44:44,722 - <ipython-input-4-df82ab415009>[line:97]: [Epoch] 41\n",
      "2019-04-01 19:44:44,723 - <ipython-input-4-df82ab415009>[line:101]: nll_train: 0.332249 error_train : 0 nll_test : 1.206537 error_test : 2462 accuracy:0.753800\n",
      "2019-04-01 19:44:49,684 - <ipython-input-4-df82ab415009>[line:97]: [Epoch] 42\n",
      "2019-04-01 19:44:49,685 - <ipython-input-4-df82ab415009>[line:101]: nll_train: 0.327379 error_train : 0 nll_test : 1.202804 error_test : 2460 accuracy:0.754000\n",
      "2019-04-01 19:44:54,744 - <ipython-input-4-df82ab415009>[line:97]: [Epoch] 43\n",
      "2019-04-01 19:44:54,745 - <ipython-input-4-df82ab415009>[line:101]: nll_train: 0.322967 error_train : 0 nll_test : 1.199407 error_test : 2461 accuracy:0.753900\n",
      "2019-04-01 19:45:00,659 - <ipython-input-4-df82ab415009>[line:97]: [Epoch] 44\n",
      "2019-04-01 19:45:00,661 - <ipython-input-4-df82ab415009>[line:101]: nll_train: 0.318972 error_train : 0 nll_test : 1.196320 error_test : 2459 accuracy:0.754100\n",
      "2019-04-01 19:45:06,781 - <ipython-input-4-df82ab415009>[line:97]: [Epoch] 45\n",
      "2019-04-01 19:45:06,782 - <ipython-input-4-df82ab415009>[line:101]: nll_train: 0.315359 error_train : 0 nll_test : 1.193516 error_test : 2458 accuracy:0.754200\n",
      "2019-04-01 19:45:13,501 - <ipython-input-4-df82ab415009>[line:97]: [Epoch] 46\n",
      "2019-04-01 19:45:13,502 - <ipython-input-4-df82ab415009>[line:101]: nll_train: 0.312092 error_train : 0 nll_test : 1.190971 error_test : 2458 accuracy:0.754200\n",
      "2019-04-01 19:45:19,704 - <ipython-input-4-df82ab415009>[line:97]: [Epoch] 47\n",
      "2019-04-01 19:45:19,705 - <ipython-input-4-df82ab415009>[line:101]: nll_train: 0.309137 error_train : 0 nll_test : 1.188664 error_test : 2458 accuracy:0.754200\n",
      "2019-04-01 19:45:25,658 - <ipython-input-4-df82ab415009>[line:97]: [Epoch] 48\n",
      "2019-04-01 19:45:25,658 - <ipython-input-4-df82ab415009>[line:101]: nll_train: 0.306466 error_train : 0 nll_test : 1.186573 error_test : 2460 accuracy:0.754000\n",
      "2019-04-01 19:45:29,726 - <ipython-input-4-df82ab415009>[line:97]: [Epoch] 49\n",
      "2019-04-01 19:45:29,727 - <ipython-input-4-df82ab415009>[line:101]: nll_train: 0.304052 error_train : 0 nll_test : 1.184680 error_test : 2459 accuracy:0.754100\n",
      "2019-04-01 19:45:34,038 - <ipython-input-4-df82ab415009>[line:97]: [Epoch] 50\n",
      "2019-04-01 19:45:34,039 - <ipython-input-4-df82ab415009>[line:101]: nll_train: 0.301871 error_train : 0 nll_test : 1.182966 error_test : 2458 accuracy:0.754200\n",
      "2019-04-01 19:45:38,007 - <ipython-input-4-df82ab415009>[line:97]: [Epoch] 51\n",
      "2019-04-01 19:45:38,008 - <ipython-input-4-df82ab415009>[line:101]: nll_train: 0.299899 error_train : 0 nll_test : 1.181415 error_test : 2459 accuracy:0.754100\n",
      "2019-04-01 19:45:42,033 - <ipython-input-4-df82ab415009>[line:97]: [Epoch] 52\n",
      "2019-04-01 19:45:42,035 - <ipython-input-4-df82ab415009>[line:101]: nll_train: 0.298118 error_train : 0 nll_test : 1.180012 error_test : 2460 accuracy:0.754000\n",
      "2019-04-01 19:45:45,993 - <ipython-input-4-df82ab415009>[line:97]: [Epoch] 53\n",
      "2019-04-01 19:45:45,994 - <ipython-input-4-df82ab415009>[line:101]: nll_train: 0.296507 error_train : 0 nll_test : 1.178744 error_test : 2461 accuracy:0.753900\n",
      "2019-04-01 19:45:50,278 - <ipython-input-4-df82ab415009>[line:97]: [Epoch] 54\n",
      "2019-04-01 19:45:50,279 - <ipython-input-4-df82ab415009>[line:101]: nll_train: 0.295051 error_train : 0 nll_test : 1.177596 error_test : 2459 accuracy:0.754100\n",
      "2019-04-01 19:45:54,208 - <ipython-input-4-df82ab415009>[line:97]: [Epoch] 55\n",
      "2019-04-01 19:45:54,209 - <ipython-input-4-df82ab415009>[line:101]: nll_train: 0.293734 error_train : 0 nll_test : 1.176559 error_test : 2459 accuracy:0.754100\n",
      "2019-04-01 19:45:58,048 - <ipython-input-4-df82ab415009>[line:97]: [Epoch] 56\n",
      "2019-04-01 19:45:58,048 - <ipython-input-4-df82ab415009>[line:101]: nll_train: 0.292544 error_train : 0 nll_test : 1.175621 error_test : 2458 accuracy:0.754200\n",
      "2019-04-01 19:46:02,649 - <ipython-input-4-df82ab415009>[line:97]: [Epoch] 57\n",
      "2019-04-01 19:46:02,650 - <ipython-input-4-df82ab415009>[line:101]: nll_train: 0.291467 error_train : 0 nll_test : 1.174774 error_test : 2458 accuracy:0.754200\n",
      "2019-04-01 19:46:06,596 - <ipython-input-4-df82ab415009>[line:97]: [Epoch] 58\n",
      "2019-04-01 19:46:06,597 - <ipython-input-4-df82ab415009>[line:101]: nll_train: 0.290492 error_train : 0 nll_test : 1.174008 error_test : 2458 accuracy:0.754200\n",
      "2019-04-01 19:46:10,473 - <ipython-input-4-df82ab415009>[line:97]: [Epoch] 59\n",
      "2019-04-01 19:46:10,474 - <ipython-input-4-df82ab415009>[line:101]: nll_train: 0.289610 error_train : 0 nll_test : 1.173315 error_test : 2459 accuracy:0.754100\n",
      "2019-04-01 19:46:14,419 - <ipython-input-4-df82ab415009>[line:97]: [Epoch] 60\n",
      "2019-04-01 19:46:14,420 - <ipython-input-4-df82ab415009>[line:101]: nll_train: 0.288812 error_train : 0 nll_test : 1.172689 error_test : 2460 accuracy:0.754000\n",
      "2019-04-01 19:46:18,374 - <ipython-input-4-df82ab415009>[line:97]: [Epoch] 61\n",
      "2019-04-01 19:46:18,375 - <ipython-input-4-df82ab415009>[line:101]: nll_train: 0.288089 error_train : 0 nll_test : 1.172123 error_test : 2459 accuracy:0.754100\n",
      "2019-04-01 19:46:22,310 - <ipython-input-4-df82ab415009>[line:97]: [Epoch] 62\n",
      "2019-04-01 19:46:22,311 - <ipython-input-4-df82ab415009>[line:101]: nll_train: 0.287434 error_train : 0 nll_test : 1.171611 error_test : 2459 accuracy:0.754100\n",
      "2019-04-01 19:46:26,207 - <ipython-input-4-df82ab415009>[line:97]: [Epoch] 63\n",
      "2019-04-01 19:46:26,208 - <ipython-input-4-df82ab415009>[line:101]: nll_train: 0.286840 error_train : 0 nll_test : 1.171148 error_test : 2458 accuracy:0.754200\n",
      "2019-04-01 19:46:30,089 - <ipython-input-4-df82ab415009>[line:97]: [Epoch] 64\n",
      "2019-04-01 19:46:30,091 - <ipython-input-4-df82ab415009>[line:101]: nll_train: 0.286302 error_train : 0 nll_test : 1.170729 error_test : 2458 accuracy:0.754200\n",
      "2019-04-01 19:46:36,022 - <ipython-input-4-df82ab415009>[line:97]: [Epoch] 65\n",
      "2019-04-01 19:46:36,023 - <ipython-input-4-df82ab415009>[line:101]: nll_train: 0.285814 error_train : 0 nll_test : 1.170350 error_test : 2458 accuracy:0.754200\n",
      "2019-04-01 19:46:41,944 - <ipython-input-4-df82ab415009>[line:97]: [Epoch] 66\n",
      "2019-04-01 19:46:41,944 - <ipython-input-4-df82ab415009>[line:101]: nll_train: 0.285371 error_train : 0 nll_test : 1.170007 error_test : 2456 accuracy:0.754400\n",
      "2019-04-01 19:46:47,980 - <ipython-input-4-df82ab415009>[line:97]: [Epoch] 67\n",
      "2019-04-01 19:46:47,981 - <ipython-input-4-df82ab415009>[line:101]: nll_train: 0.284969 error_train : 0 nll_test : 1.169696 error_test : 2456 accuracy:0.754400\n",
      "2019-04-01 19:46:55,083 - <ipython-input-4-df82ab415009>[line:97]: [Epoch] 68\n",
      "2019-04-01 19:46:55,097 - <ipython-input-4-df82ab415009>[line:101]: nll_train: 0.284604 error_train : 0 nll_test : 1.169415 error_test : 2455 accuracy:0.754500\n",
      "2019-04-01 19:47:00,533 - <ipython-input-4-df82ab415009>[line:97]: [Epoch] 69\n",
      "2019-04-01 19:47:00,534 - <ipython-input-4-df82ab415009>[line:101]: nll_train: 0.284272 error_train : 0 nll_test : 1.169160 error_test : 2455 accuracy:0.754500\n"
     ]
    },
    {
     "name": "stderr",
     "output_type": "stream",
     "text": [
      "2019-04-01 19:47:05,025 - <ipython-input-4-df82ab415009>[line:97]: [Epoch] 70\n",
      "2019-04-01 19:47:05,026 - <ipython-input-4-df82ab415009>[line:101]: nll_train: 0.283971 error_train : 0 nll_test : 1.168929 error_test : 2454 accuracy:0.754600\n",
      "2019-04-01 19:47:09,016 - <ipython-input-4-df82ab415009>[line:97]: [Epoch] 71\n",
      "2019-04-01 19:47:09,017 - <ipython-input-4-df82ab415009>[line:101]: nll_train: 0.283697 error_train : 0 nll_test : 1.168720 error_test : 2455 accuracy:0.754500\n",
      "2019-04-01 19:47:13,196 - <ipython-input-4-df82ab415009>[line:97]: [Epoch] 72\n",
      "2019-04-01 19:47:13,197 - <ipython-input-4-df82ab415009>[line:101]: nll_train: 0.283448 error_train : 0 nll_test : 1.168530 error_test : 2455 accuracy:0.754500\n",
      "2019-04-01 19:47:17,113 - <ipython-input-4-df82ab415009>[line:97]: [Epoch] 73\n",
      "2019-04-01 19:47:17,115 - <ipython-input-4-df82ab415009>[line:101]: nll_train: 0.283221 error_train : 0 nll_test : 1.168358 error_test : 2454 accuracy:0.754600\n",
      "2019-04-01 19:47:21,271 - <ipython-input-4-df82ab415009>[line:97]: [Epoch] 74\n",
      "2019-04-01 19:47:21,272 - <ipython-input-4-df82ab415009>[line:101]: nll_train: 0.283014 error_train : 0 nll_test : 1.168201 error_test : 2454 accuracy:0.754600\n",
      "2019-04-01 19:47:25,252 - <ipython-input-4-df82ab415009>[line:97]: [Epoch] 75\n",
      "2019-04-01 19:47:25,253 - <ipython-input-4-df82ab415009>[line:101]: nll_train: 0.282825 error_train : 0 nll_test : 1.168059 error_test : 2454 accuracy:0.754600\n",
      "2019-04-01 19:47:29,127 - <ipython-input-4-df82ab415009>[line:97]: [Epoch] 76\n",
      "2019-04-01 19:47:29,128 - <ipython-input-4-df82ab415009>[line:101]: nll_train: 0.282653 error_train : 0 nll_test : 1.167930 error_test : 2454 accuracy:0.754600\n",
      "2019-04-01 19:47:33,042 - <ipython-input-4-df82ab415009>[line:97]: [Epoch] 77\n",
      "2019-04-01 19:47:33,043 - <ipython-input-4-df82ab415009>[line:101]: nll_train: 0.282496 error_train : 0 nll_test : 1.167812 error_test : 2455 accuracy:0.754500\n",
      "2019-04-01 19:47:37,003 - <ipython-input-4-df82ab415009>[line:97]: [Epoch] 78\n",
      "2019-04-01 19:47:37,004 - <ipython-input-4-df82ab415009>[line:101]: nll_train: 0.282352 error_train : 0 nll_test : 1.167705 error_test : 2455 accuracy:0.754500\n",
      "2019-04-01 19:47:40,834 - <ipython-input-4-df82ab415009>[line:97]: [Epoch] 79\n",
      "2019-04-01 19:47:40,835 - <ipython-input-4-df82ab415009>[line:101]: nll_train: 0.282221 error_train : 0 nll_test : 1.167608 error_test : 2455 accuracy:0.754500\n",
      "2019-04-01 19:47:44,692 - <ipython-input-4-df82ab415009>[line:97]: [Epoch] 80\n",
      "2019-04-01 19:47:44,693 - <ipython-input-4-df82ab415009>[line:101]: nll_train: 0.282101 error_train : 0 nll_test : 1.167519 error_test : 2455 accuracy:0.754500\n",
      "2019-04-01 19:47:48,591 - <ipython-input-4-df82ab415009>[line:97]: [Epoch] 81\n",
      "2019-04-01 19:47:48,592 - <ipython-input-4-df82ab415009>[line:101]: nll_train: 0.281991 error_train : 0 nll_test : 1.167438 error_test : 2455 accuracy:0.754500\n",
      "2019-04-01 19:47:52,486 - <ipython-input-4-df82ab415009>[line:97]: [Epoch] 82\n",
      "2019-04-01 19:47:52,487 - <ipython-input-4-df82ab415009>[line:101]: nll_train: 0.281891 error_train : 0 nll_test : 1.167365 error_test : 2455 accuracy:0.754500\n",
      "2019-04-01 19:47:56,317 - <ipython-input-4-df82ab415009>[line:97]: [Epoch] 83\n",
      "2019-04-01 19:47:56,319 - <ipython-input-4-df82ab415009>[line:101]: nll_train: 0.281798 error_train : 0 nll_test : 1.167297 error_test : 2455 accuracy:0.754500\n",
      "2019-04-01 19:48:00,368 - <ipython-input-4-df82ab415009>[line:97]: [Epoch] 84\n",
      "2019-04-01 19:48:00,369 - <ipython-input-4-df82ab415009>[line:101]: nll_train: 0.281714 error_train : 0 nll_test : 1.167236 error_test : 2455 accuracy:0.754500\n",
      "2019-04-01 19:48:04,554 - <ipython-input-4-df82ab415009>[line:97]: [Epoch] 85\n",
      "2019-04-01 19:48:04,556 - <ipython-input-4-df82ab415009>[line:101]: nll_train: 0.281636 error_train : 0 nll_test : 1.167180 error_test : 2455 accuracy:0.754500\n",
      "2019-04-01 19:48:08,780 - <ipython-input-4-df82ab415009>[line:97]: [Epoch] 86\n",
      "2019-04-01 19:48:08,781 - <ipython-input-4-df82ab415009>[line:101]: nll_train: 0.281565 error_train : 0 nll_test : 1.167128 error_test : 2456 accuracy:0.754400\n",
      "2019-04-01 19:48:12,671 - <ipython-input-4-df82ab415009>[line:97]: [Epoch] 87\n",
      "2019-04-01 19:48:12,672 - <ipython-input-4-df82ab415009>[line:101]: nll_train: 0.281499 error_train : 0 nll_test : 1.167081 error_test : 2456 accuracy:0.754400\n",
      "2019-04-01 19:48:16,569 - <ipython-input-4-df82ab415009>[line:97]: [Epoch] 88\n",
      "2019-04-01 19:48:16,570 - <ipython-input-4-df82ab415009>[line:101]: nll_train: 0.281438 error_train : 0 nll_test : 1.167038 error_test : 2456 accuracy:0.754400\n",
      "2019-04-01 19:48:20,591 - <ipython-input-4-df82ab415009>[line:97]: [Epoch] 89\n",
      "2019-04-01 19:48:20,593 - <ipython-input-4-df82ab415009>[line:101]: nll_train: 0.281382 error_train : 0 nll_test : 1.166998 error_test : 2456 accuracy:0.754400\n",
      "2019-04-01 19:48:24,618 - <ipython-input-4-df82ab415009>[line:97]: [Epoch] 90\n",
      "2019-04-01 19:48:24,618 - <ipython-input-4-df82ab415009>[line:101]: nll_train: 0.281331 error_train : 0 nll_test : 1.166962 error_test : 2456 accuracy:0.754400\n",
      "2019-04-01 19:48:28,547 - <ipython-input-4-df82ab415009>[line:97]: [Epoch] 91\n",
      "2019-04-01 19:48:28,548 - <ipython-input-4-df82ab415009>[line:101]: nll_train: 0.281283 error_train : 0 nll_test : 1.166929 error_test : 2456 accuracy:0.754400\n",
      "2019-04-01 19:48:32,655 - <ipython-input-4-df82ab415009>[line:97]: [Epoch] 92\n",
      "2019-04-01 19:48:32,656 - <ipython-input-4-df82ab415009>[line:101]: nll_train: 0.281240 error_train : 0 nll_test : 1.166898 error_test : 2456 accuracy:0.754400\n",
      "2019-04-01 19:48:37,160 - <ipython-input-4-df82ab415009>[line:97]: [Epoch] 93\n",
      "2019-04-01 19:48:37,161 - <ipython-input-4-df82ab415009>[line:101]: nll_train: 0.281199 error_train : 0 nll_test : 1.166870 error_test : 2456 accuracy:0.754400\n",
      "2019-04-01 19:48:43,339 - <ipython-input-4-df82ab415009>[line:97]: [Epoch] 94\n",
      "2019-04-01 19:48:43,340 - <ipython-input-4-df82ab415009>[line:101]: nll_train: 0.281162 error_train : 0 nll_test : 1.166844 error_test : 2456 accuracy:0.754400\n",
      "2019-04-01 19:48:50,061 - <ipython-input-4-df82ab415009>[line:97]: [Epoch] 95\n",
      "2019-04-01 19:48:50,062 - <ipython-input-4-df82ab415009>[line:101]: nll_train: 0.281127 error_train : 0 nll_test : 1.166820 error_test : 2456 accuracy:0.754400\n",
      "2019-04-01 19:48:56,726 - <ipython-input-4-df82ab415009>[line:97]: [Epoch] 96\n",
      "2019-04-01 19:48:56,732 - <ipython-input-4-df82ab415009>[line:101]: nll_train: 0.281095 error_train : 0 nll_test : 1.166799 error_test : 2456 accuracy:0.754400\n",
      "2019-04-01 19:49:03,074 - <ipython-input-4-df82ab415009>[line:97]: [Epoch] 97\n",
      "2019-04-01 19:49:03,076 - <ipython-input-4-df82ab415009>[line:101]: nll_train: 0.281065 error_train : 0 nll_test : 1.166778 error_test : 2456 accuracy:0.754400\n",
      "2019-04-01 19:49:07,684 - <ipython-input-4-df82ab415009>[line:97]: [Epoch] 98\n",
      "2019-04-01 19:49:07,685 - <ipython-input-4-df82ab415009>[line:101]: nll_train: 0.281037 error_train : 0 nll_test : 1.166760 error_test : 2456 accuracy:0.754400\n",
      "2019-04-01 19:49:11,647 - <ipython-input-4-df82ab415009>[line:97]: [Epoch] 99\n",
      "2019-04-01 19:49:11,648 - <ipython-input-4-df82ab415009>[line:101]: nll_train: 0.281011 error_train : 0 nll_test : 1.166742 error_test : 2456 accuracy:0.754400\n",
      "2019-04-01 19:49:30,758 - <ipython-input-4-df82ab415009>[line:123]: final nll_train: 0.069420 error_train: 0 nll_test: 0.929169 error_test: 2434 accuracy:0.756600\n"
     ]
    }
   ],
   "source": [
    "\n",
    "arg = {'seed': 1,\n",
    "       'size': 100,\n",
    "       'vis': False,\n",
    "       'epochs': 100,\n",
    "       'iterations': 1,\n",
    "       'lr_decay': 0.95,\n",
    "       'batch_size': 100,\n",
    "       'ul_batch_size': 250,\n",
    "       'num_validation_samples': 1000,\n",
    "       'layer_sizes': '784-1200-1200-10',\n",
    "       'dataset': 'mnist',\n",
    "       'epsilon': 0.3,\n",
    "       'cost_type': 'MLE',\n",
    "       'norm_constraint': 'L2',\n",
    "       'num_power_iter': 1,\n",
    "       'lamb': 1,\n",
    "       'lr': 0.001\n",
    "      }\n",
    "train(arg)"
   ]
  },
  {
   "cell_type": "code",
   "execution_count": 6,
   "metadata": {},
   "outputs": [
    {
     "name": "stderr",
     "output_type": "stream",
     "text": [
      "2019-04-01 18:59:40,970 - <ipython-input-4-df82ab415009>[line:97]: [Epoch] 0\n",
      "2019-04-01 18:59:40,971 - <ipython-input-4-df82ab415009>[line:101]: nll_train: 1.788823 error_train : 25 nll_test : 1.971886 error_test : 5213 accuracy:0.478700\n",
      "2019-04-01 18:59:44,884 - <ipython-input-4-df82ab415009>[line:97]: [Epoch] 1\n",
      "2019-04-01 18:59:44,886 - <ipython-input-4-df82ab415009>[line:101]: nll_train: 1.501638 error_train : 9 nll_test : 1.807326 error_test : 3998 accuracy:0.600200\n",
      "2019-04-01 18:59:48,923 - <ipython-input-4-df82ab415009>[line:97]: [Epoch] 2\n",
      "2019-04-01 18:59:48,927 - <ipython-input-4-df82ab415009>[line:101]: nll_train: 1.363042 error_train : 4 nll_test : 1.735865 error_test : 3478 accuracy:0.652200\n",
      "2019-04-01 18:59:52,821 - <ipython-input-4-df82ab415009>[line:97]: [Epoch] 3\n",
      "2019-04-01 18:59:52,822 - <ipython-input-4-df82ab415009>[line:101]: nll_train: 1.287941 error_train : 1 nll_test : 1.703039 error_test : 3177 accuracy:0.682300\n",
      "2019-04-01 18:59:56,715 - <ipython-input-4-df82ab415009>[line:97]: [Epoch] 4\n",
      "2019-04-01 18:59:56,717 - <ipython-input-4-df82ab415009>[line:101]: nll_train: 1.238105 error_train : 0 nll_test : 1.684090 error_test : 2981 accuracy:0.701900\n",
      "2019-04-01 19:00:00,704 - <ipython-input-4-df82ab415009>[line:97]: [Epoch] 5\n",
      "2019-04-01 19:00:00,706 - <ipython-input-4-df82ab415009>[line:101]: nll_train: 1.197793 error_train : 0 nll_test : 1.669503 error_test : 2856 accuracy:0.714400\n",
      "2019-04-01 19:00:04,902 - <ipython-input-4-df82ab415009>[line:97]: [Epoch] 6\n",
      "2019-04-01 19:00:04,903 - <ipython-input-4-df82ab415009>[line:101]: nll_train: 1.160212 error_train : 0 nll_test : 1.655654 error_test : 2790 accuracy:0.721000\n",
      "2019-04-01 19:00:08,727 - <ipython-input-4-df82ab415009>[line:97]: [Epoch] 7\n",
      "2019-04-01 19:00:08,728 - <ipython-input-4-df82ab415009>[line:101]: nll_train: 1.122913 error_train : 0 nll_test : 1.641309 error_test : 2735 accuracy:0.726500\n",
      "2019-04-01 19:00:12,891 - <ipython-input-4-df82ab415009>[line:97]: [Epoch] 8\n",
      "2019-04-01 19:00:12,892 - <ipython-input-4-df82ab415009>[line:101]: nll_train: 1.085036 error_train : 0 nll_test : 1.626095 error_test : 2686 accuracy:0.731400\n",
      "2019-04-01 19:00:17,116 - <ipython-input-4-df82ab415009>[line:97]: [Epoch] 9\n",
      "2019-04-01 19:00:17,117 - <ipython-input-4-df82ab415009>[line:101]: nll_train: 1.046537 error_train : 0 nll_test : 1.609999 error_test : 2651 accuracy:0.734900\n",
      "2019-04-01 19:00:21,089 - <ipython-input-4-df82ab415009>[line:97]: [Epoch] 10\n",
      "2019-04-01 19:00:21,090 - <ipython-input-4-df82ab415009>[line:101]: nll_train: 1.007713 error_train : 0 nll_test : 1.593119 error_test : 2615 accuracy:0.738500\n",
      "2019-04-01 19:00:25,045 - <ipython-input-4-df82ab415009>[line:97]: [Epoch] 11\n",
      "2019-04-01 19:00:25,046 - <ipython-input-4-df82ab415009>[line:101]: nll_train: 0.968747 error_train : 0 nll_test : 1.575593 error_test : 2600 accuracy:0.740000\n",
      "2019-04-01 19:00:28,944 - <ipython-input-4-df82ab415009>[line:97]: [Epoch] 12\n",
      "2019-04-01 19:00:28,945 - <ipython-input-4-df82ab415009>[line:101]: nll_train: 0.929881 error_train : 0 nll_test : 1.557601 error_test : 2576 accuracy:0.742400\n",
      "2019-04-01 19:00:32,910 - <ipython-input-4-df82ab415009>[line:97]: [Epoch] 13\n",
      "2019-04-01 19:00:32,912 - <ipython-input-4-df82ab415009>[line:101]: nll_train: 0.891210 error_train : 0 nll_test : 1.539285 error_test : 2566 accuracy:0.743400\n",
      "2019-04-01 19:00:36,823 - <ipython-input-4-df82ab415009>[line:97]: [Epoch] 14\n",
      "2019-04-01 19:00:36,825 - <ipython-input-4-df82ab415009>[line:101]: nll_train: 0.853112 error_train : 0 nll_test : 1.520806 error_test : 2557 accuracy:0.744300\n",
      "2019-04-01 19:00:40,684 - <ipython-input-4-df82ab415009>[line:97]: [Epoch] 15\n",
      "2019-04-01 19:00:40,685 - <ipython-input-4-df82ab415009>[line:101]: nll_train: 0.815865 error_train : 0 nll_test : 1.502288 error_test : 2555 accuracy:0.744500\n",
      "2019-04-01 19:00:44,992 - <ipython-input-4-df82ab415009>[line:97]: [Epoch] 16\n",
      "2019-04-01 19:00:44,993 - <ipython-input-4-df82ab415009>[line:101]: nll_train: 0.779702 error_train : 0 nll_test : 1.483852 error_test : 2550 accuracy:0.745000\n",
      "2019-04-01 19:00:49,234 - <ipython-input-4-df82ab415009>[line:97]: [Epoch] 17\n",
      "2019-04-01 19:00:49,235 - <ipython-input-4-df82ab415009>[line:101]: nll_train: 0.744770 error_train : 0 nll_test : 1.465608 error_test : 2549 accuracy:0.745100\n",
      "2019-04-01 19:00:53,212 - <ipython-input-4-df82ab415009>[line:97]: [Epoch] 18\n",
      "2019-04-01 19:00:53,213 - <ipython-input-4-df82ab415009>[line:101]: nll_train: 0.711195 error_train : 0 nll_test : 1.447676 error_test : 2548 accuracy:0.745200\n",
      "2019-04-01 19:00:57,072 - <ipython-input-4-df82ab415009>[line:97]: [Epoch] 19\n",
      "2019-04-01 19:00:57,074 - <ipython-input-4-df82ab415009>[line:101]: nll_train: 0.679131 error_train : 0 nll_test : 1.430140 error_test : 2550 accuracy:0.745000\n",
      "2019-04-01 19:01:15,945 - <ipython-input-4-df82ab415009>[line:123]: final nll_train: 0.078513 error_train: 0 nll_test: 0.938497 error_test: 2450 accuracy:0.755000\n"
     ]
    }
   ],
   "source": [
    "\n",
    "arg = {'seed': 1,\n",
    "       'size': 100,\n",
    "       'vis': False,\n",
    "       'epochs': 20,\n",
    "       'iterations': 1,\n",
    "       'lr_decay': 0.95,\n",
    "       'batch_size': 100,\n",
    "       'ul_batch_size': 250,\n",
    "       'num_validation_samples': 1000,\n",
    "       'layer_sizes': '784-1200-1200-10',\n",
    "       'dataset': 'mnist',\n",
    "       'epsilon': 0.3,\n",
    "       'cost_type': 'MLE',\n",
    "       'norm_constraint': 'L2',\n",
    "       'num_power_iter': 1,\n",
    "       'lamb': 1,\n",
    "       'lr': 0.001\n",
    "      }\n",
    "train(arg)"
   ]
  },
  {
   "cell_type": "code",
   "execution_count": 7,
   "metadata": {},
   "outputs": [
    {
     "name": "stderr",
     "output_type": "stream",
     "text": [
      "2019-03-11 01:40:13,528 - <ipython-input-6-aee519e8df5c>[line:97]: [Epoch] 0\n",
      "2019-03-11 01:40:13,531 - <ipython-input-6-aee519e8df5c>[line:101]: nll_train: 0.127680 error_train : 0 nll_test : 0.473476 error_test : 704 accuracy:0.929600\n",
      "2019-03-11 01:41:03,025 - <ipython-input-6-aee519e8df5c>[line:97]: [Epoch] 1\n",
      "2019-03-11 01:41:03,028 - <ipython-input-6-aee519e8df5c>[line:101]: nll_train: 0.063812 error_train : 0 nll_test : 0.392298 error_test : 725 accuracy:0.927500\n",
      "2019-03-11 01:41:51,856 - <ipython-input-6-aee519e8df5c>[line:97]: [Epoch] 2\n",
      "2019-03-11 01:41:51,858 - <ipython-input-6-aee519e8df5c>[line:101]: nll_train: 0.040191 error_train : 0 nll_test : 0.344783 error_test : 697 accuracy:0.930300\n",
      "2019-03-11 01:42:37,339 - <ipython-input-6-aee519e8df5c>[line:97]: [Epoch] 3\n",
      "2019-03-11 01:42:37,341 - <ipython-input-6-aee519e8df5c>[line:101]: nll_train: 0.026402 error_train : 0 nll_test : 0.318617 error_test : 697 accuracy:0.930300\n",
      "2019-03-11 01:43:23,362 - <ipython-input-6-aee519e8df5c>[line:97]: [Epoch] 4\n",
      "2019-03-11 01:43:23,364 - <ipython-input-6-aee519e8df5c>[line:101]: nll_train: 0.019296 error_train : 0 nll_test : 0.301211 error_test : 722 accuracy:0.927800\n",
      "2019-03-11 01:44:07,465 - <ipython-input-6-aee519e8df5c>[line:97]: [Epoch] 5\n",
      "2019-03-11 01:44:07,468 - <ipython-input-6-aee519e8df5c>[line:101]: nll_train: 0.014254 error_train : 0 nll_test : 0.288666 error_test : 717 accuracy:0.928300\n",
      "2019-03-11 01:44:52,054 - <ipython-input-6-aee519e8df5c>[line:97]: [Epoch] 6\n",
      "2019-03-11 01:44:52,056 - <ipython-input-6-aee519e8df5c>[line:101]: nll_train: 0.011506 error_train : 0 nll_test : 0.278536 error_test : 704 accuracy:0.929600\n",
      "2019-03-11 01:45:37,251 - <ipython-input-6-aee519e8df5c>[line:97]: [Epoch] 7\n",
      "2019-03-11 01:45:37,254 - <ipython-input-6-aee519e8df5c>[line:101]: nll_train: 0.009144 error_train : 0 nll_test : 0.271821 error_test : 709 accuracy:0.929100\n",
      "2019-03-11 01:46:23,862 - <ipython-input-6-aee519e8df5c>[line:97]: [Epoch] 8\n",
      "2019-03-11 01:46:23,864 - <ipython-input-6-aee519e8df5c>[line:101]: nll_train: 0.007196 error_train : 0 nll_test : 0.262616 error_test : 691 accuracy:0.930900\n",
      "2019-03-11 01:47:09,732 - <ipython-input-6-aee519e8df5c>[line:97]: [Epoch] 9\n",
      "2019-03-11 01:47:09,735 - <ipython-input-6-aee519e8df5c>[line:101]: nll_train: 0.005811 error_train : 0 nll_test : 0.262042 error_test : 709 accuracy:0.929100\n",
      "2019-03-11 01:47:54,432 - <ipython-input-6-aee519e8df5c>[line:97]: [Epoch] 10\n",
      "2019-03-11 01:47:54,434 - <ipython-input-6-aee519e8df5c>[line:101]: nll_train: 0.004777 error_train : 0 nll_test : 0.255449 error_test : 703 accuracy:0.929700\n",
      "2019-03-11 01:48:43,004 - <ipython-input-6-aee519e8df5c>[line:97]: [Epoch] 11\n",
      "2019-03-11 01:48:43,007 - <ipython-input-6-aee519e8df5c>[line:101]: nll_train: 0.004115 error_train : 0 nll_test : 0.253641 error_test : 708 accuracy:0.929200\n",
      "2019-03-11 01:49:28,947 - <ipython-input-6-aee519e8df5c>[line:97]: [Epoch] 12\n",
      "2019-03-11 01:49:28,950 - <ipython-input-6-aee519e8df5c>[line:101]: nll_train: 0.003458 error_train : 0 nll_test : 0.248660 error_test : 688 accuracy:0.931200\n",
      "2019-03-11 01:50:15,463 - <ipython-input-6-aee519e8df5c>[line:97]: [Epoch] 13\n",
      "2019-03-11 01:50:15,466 - <ipython-input-6-aee519e8df5c>[line:101]: nll_train: 0.003422 error_train : 0 nll_test : 0.236677 error_test : 731 accuracy:0.926900\n",
      "2019-03-11 01:51:03,123 - <ipython-input-6-aee519e8df5c>[line:97]: [Epoch] 14\n",
      "2019-03-11 01:51:03,125 - <ipython-input-6-aee519e8df5c>[line:101]: nll_train: 0.002228 error_train : 0 nll_test : 0.232587 error_test : 711 accuracy:0.928900\n",
      "2019-03-11 01:51:53,790 - <ipython-input-6-aee519e8df5c>[line:97]: [Epoch] 15\n",
      "2019-03-11 01:51:53,792 - <ipython-input-6-aee519e8df5c>[line:101]: nll_train: 0.001865 error_train : 0 nll_test : 0.231898 error_test : 715 accuracy:0.928500\n",
      "2019-03-11 01:52:43,015 - <ipython-input-6-aee519e8df5c>[line:97]: [Epoch] 16\n",
      "2019-03-11 01:52:43,018 - <ipython-input-6-aee519e8df5c>[line:101]: nll_train: 0.001613 error_train : 0 nll_test : 0.230054 error_test : 716 accuracy:0.928400\n",
      "2019-03-11 01:53:32,167 - <ipython-input-6-aee519e8df5c>[line:97]: [Epoch] 17\n",
      "2019-03-11 01:53:32,169 - <ipython-input-6-aee519e8df5c>[line:101]: nll_train: 0.001377 error_train : 0 nll_test : 0.233527 error_test : 717 accuracy:0.928300\n",
      "2019-03-11 01:54:17,539 - <ipython-input-6-aee519e8df5c>[line:97]: [Epoch] 18\n",
      "2019-03-11 01:54:17,541 - <ipython-input-6-aee519e8df5c>[line:101]: nll_train: 0.001229 error_train : 0 nll_test : 0.233814 error_test : 726 accuracy:0.927400\n",
      "2019-03-11 01:55:05,281 - <ipython-input-6-aee519e8df5c>[line:97]: [Epoch] 19\n",
      "2019-03-11 01:55:05,283 - <ipython-input-6-aee519e8df5c>[line:101]: nll_train: 0.001071 error_train : 0 nll_test : 0.234582 error_test : 735 accuracy:0.926500\n",
      "2019-03-11 01:55:53,734 - <ipython-input-6-aee519e8df5c>[line:97]: [Epoch] 20\n",
      "2019-03-11 01:55:53,736 - <ipython-input-6-aee519e8df5c>[line:101]: nll_train: 0.000951 error_train : 0 nll_test : 0.232940 error_test : 727 accuracy:0.927300\n",
      "2019-03-11 01:56:40,143 - <ipython-input-6-aee519e8df5c>[line:97]: [Epoch] 21\n",
      "2019-03-11 01:56:40,145 - <ipython-input-6-aee519e8df5c>[line:101]: nll_train: 0.000854 error_train : 0 nll_test : 0.234841 error_test : 726 accuracy:0.927400\n",
      "2019-03-11 01:57:27,072 - <ipython-input-6-aee519e8df5c>[line:97]: [Epoch] 22\n",
      "2019-03-11 01:57:27,074 - <ipython-input-6-aee519e8df5c>[line:101]: nll_train: 0.000754 error_train : 0 nll_test : 0.234675 error_test : 730 accuracy:0.927000\n",
      "2019-03-11 01:58:14,883 - <ipython-input-6-aee519e8df5c>[line:97]: [Epoch] 23\n",
      "2019-03-11 01:58:14,885 - <ipython-input-6-aee519e8df5c>[line:101]: nll_train: 0.000632 error_train : 0 nll_test : 0.237518 error_test : 740 accuracy:0.926000\n",
      "2019-03-11 01:59:01,539 - <ipython-input-6-aee519e8df5c>[line:97]: [Epoch] 24\n",
      "2019-03-11 01:59:01,541 - <ipython-input-6-aee519e8df5c>[line:101]: nll_train: 0.000585 error_train : 0 nll_test : 0.236540 error_test : 733 accuracy:0.926700\n",
      "2019-03-11 01:59:51,996 - <ipython-input-6-aee519e8df5c>[line:97]: [Epoch] 25\n",
      "2019-03-11 01:59:51,999 - <ipython-input-6-aee519e8df5c>[line:101]: nll_train: 0.000493 error_train : 0 nll_test : 0.236336 error_test : 728 accuracy:0.927200\n",
      "2019-03-11 02:00:41,338 - <ipython-input-6-aee519e8df5c>[line:97]: [Epoch] 26\n",
      "2019-03-11 02:00:41,341 - <ipython-input-6-aee519e8df5c>[line:101]: nll_train: 0.000438 error_train : 0 nll_test : 0.238565 error_test : 738 accuracy:0.926200\n",
      "2019-03-11 02:01:26,913 - <ipython-input-6-aee519e8df5c>[line:97]: [Epoch] 27\n",
      "2019-03-11 02:01:26,915 - <ipython-input-6-aee519e8df5c>[line:101]: nll_train: 0.000394 error_train : 0 nll_test : 0.238921 error_test : 737 accuracy:0.926300\n",
      "2019-03-11 02:02:15,136 - <ipython-input-6-aee519e8df5c>[line:97]: [Epoch] 28\n",
      "2019-03-11 02:02:15,138 - <ipython-input-6-aee519e8df5c>[line:101]: nll_train: 0.000357 error_train : 0 nll_test : 0.236967 error_test : 715 accuracy:0.928500\n",
      "2019-03-11 02:03:00,929 - <ipython-input-6-aee519e8df5c>[line:97]: [Epoch] 29\n",
      "2019-03-11 02:03:00,931 - <ipython-input-6-aee519e8df5c>[line:101]: nll_train: 0.000326 error_train : 0 nll_test : 0.239646 error_test : 738 accuracy:0.926200\n",
      "2019-03-11 02:03:47,922 - <ipython-input-6-aee519e8df5c>[line:97]: [Epoch] 30\n",
      "2019-03-11 02:03:47,924 - <ipython-input-6-aee519e8df5c>[line:101]: nll_train: 0.000277 error_train : 0 nll_test : 0.241182 error_test : 736 accuracy:0.926400\n",
      "2019-03-11 02:04:34,419 - <ipython-input-6-aee519e8df5c>[line:97]: [Epoch] 31\n",
      "2019-03-11 02:04:34,421 - <ipython-input-6-aee519e8df5c>[line:101]: nll_train: 0.000253 error_train : 0 nll_test : 0.239516 error_test : 727 accuracy:0.927300\n",
      "2019-03-11 02:05:19,115 - <ipython-input-6-aee519e8df5c>[line:97]: [Epoch] 32\n",
      "2019-03-11 02:05:19,117 - <ipython-input-6-aee519e8df5c>[line:101]: nll_train: 0.000237 error_train : 0 nll_test : 0.241278 error_test : 740 accuracy:0.926000\n",
      "2019-03-11 02:06:04,257 - <ipython-input-6-aee519e8df5c>[line:97]: [Epoch] 33\n",
      "2019-03-11 02:06:04,260 - <ipython-input-6-aee519e8df5c>[line:101]: nll_train: 0.000200 error_train : 0 nll_test : 0.241613 error_test : 732 accuracy:0.926800\n",
      "2019-03-11 02:06:48,337 - <ipython-input-6-aee519e8df5c>[line:97]: [Epoch] 34\n",
      "2019-03-11 02:06:48,339 - <ipython-input-6-aee519e8df5c>[line:101]: nll_train: 0.000184 error_train : 0 nll_test : 0.241086 error_test : 715 accuracy:0.928500\n"
     ]
    },
    {
     "name": "stderr",
     "output_type": "stream",
     "text": [
      "2019-03-11 02:07:33,178 - <ipython-input-6-aee519e8df5c>[line:97]: [Epoch] 35\n",
      "2019-03-11 02:07:33,180 - <ipython-input-6-aee519e8df5c>[line:101]: nll_train: 0.000158 error_train : 0 nll_test : 0.243054 error_test : 722 accuracy:0.927800\n",
      "2019-03-11 02:08:19,538 - <ipython-input-6-aee519e8df5c>[line:97]: [Epoch] 36\n",
      "2019-03-11 02:08:19,540 - <ipython-input-6-aee519e8df5c>[line:101]: nll_train: 0.000145 error_train : 0 nll_test : 0.245175 error_test : 732 accuracy:0.926800\n",
      "2019-03-11 02:09:05,825 - <ipython-input-6-aee519e8df5c>[line:97]: [Epoch] 37\n",
      "2019-03-11 02:09:05,827 - <ipython-input-6-aee519e8df5c>[line:101]: nll_train: 0.000137 error_train : 0 nll_test : 0.244926 error_test : 728 accuracy:0.927200\n",
      "2019-03-11 02:09:52,091 - <ipython-input-6-aee519e8df5c>[line:97]: [Epoch] 38\n",
      "2019-03-11 02:09:52,093 - <ipython-input-6-aee519e8df5c>[line:101]: nll_train: 0.000116 error_train : 0 nll_test : 0.247328 error_test : 719 accuracy:0.928100\n",
      "2019-03-11 02:10:36,051 - <ipython-input-6-aee519e8df5c>[line:97]: [Epoch] 39\n",
      "2019-03-11 02:10:36,053 - <ipython-input-6-aee519e8df5c>[line:101]: nll_train: 0.000112 error_train : 0 nll_test : 0.247342 error_test : 739 accuracy:0.926100\n",
      "2019-03-11 02:11:22,638 - <ipython-input-6-aee519e8df5c>[line:97]: [Epoch] 40\n",
      "2019-03-11 02:11:22,640 - <ipython-input-6-aee519e8df5c>[line:101]: nll_train: 0.000101 error_train : 0 nll_test : 0.246717 error_test : 719 accuracy:0.928100\n",
      "2019-03-11 02:12:08,875 - <ipython-input-6-aee519e8df5c>[line:97]: [Epoch] 41\n",
      "2019-03-11 02:12:08,877 - <ipython-input-6-aee519e8df5c>[line:101]: nll_train: 0.000089 error_train : 0 nll_test : 0.250650 error_test : 738 accuracy:0.926200\n",
      "2019-03-11 02:12:53,463 - <ipython-input-6-aee519e8df5c>[line:97]: [Epoch] 42\n",
      "2019-03-11 02:12:53,465 - <ipython-input-6-aee519e8df5c>[line:101]: nll_train: 0.000085 error_train : 0 nll_test : 0.247054 error_test : 728 accuracy:0.927200\n",
      "2019-03-11 02:13:39,447 - <ipython-input-6-aee519e8df5c>[line:97]: [Epoch] 43\n",
      "2019-03-11 02:13:39,449 - <ipython-input-6-aee519e8df5c>[line:101]: nll_train: 0.000075 error_train : 0 nll_test : 0.250259 error_test : 737 accuracy:0.926300\n",
      "2019-03-11 02:14:27,699 - <ipython-input-6-aee519e8df5c>[line:97]: [Epoch] 44\n",
      "2019-03-11 02:14:27,701 - <ipython-input-6-aee519e8df5c>[line:101]: nll_train: 0.000071 error_train : 0 nll_test : 0.252404 error_test : 735 accuracy:0.926500\n",
      "2019-03-11 02:15:15,360 - <ipython-input-6-aee519e8df5c>[line:97]: [Epoch] 45\n",
      "2019-03-11 02:15:15,362 - <ipython-input-6-aee519e8df5c>[line:101]: nll_train: 0.000066 error_train : 0 nll_test : 0.251197 error_test : 734 accuracy:0.926600\n",
      "2019-03-11 02:16:02,527 - <ipython-input-6-aee519e8df5c>[line:97]: [Epoch] 46\n",
      "2019-03-11 02:16:02,529 - <ipython-input-6-aee519e8df5c>[line:101]: nll_train: 0.000060 error_train : 0 nll_test : 0.252393 error_test : 732 accuracy:0.926800\n",
      "2019-03-11 02:16:51,281 - <ipython-input-6-aee519e8df5c>[line:97]: [Epoch] 47\n",
      "2019-03-11 02:16:51,283 - <ipython-input-6-aee519e8df5c>[line:101]: nll_train: 0.000058 error_train : 0 nll_test : 0.253950 error_test : 725 accuracy:0.927500\n",
      "2019-03-11 02:17:36,748 - <ipython-input-6-aee519e8df5c>[line:97]: [Epoch] 48\n",
      "2019-03-11 02:17:36,750 - <ipython-input-6-aee519e8df5c>[line:101]: nll_train: 0.000053 error_train : 0 nll_test : 0.251736 error_test : 719 accuracy:0.928100\n",
      "2019-03-11 02:18:20,945 - <ipython-input-6-aee519e8df5c>[line:97]: [Epoch] 49\n",
      "2019-03-11 02:18:20,946 - <ipython-input-6-aee519e8df5c>[line:101]: nll_train: 0.000050 error_train : 0 nll_test : 0.253930 error_test : 733 accuracy:0.926700\n",
      "2019-03-11 02:19:08,599 - <ipython-input-6-aee519e8df5c>[line:97]: [Epoch] 50\n",
      "2019-03-11 02:19:08,601 - <ipython-input-6-aee519e8df5c>[line:101]: nll_train: 0.000045 error_train : 0 nll_test : 0.252086 error_test : 716 accuracy:0.928400\n",
      "2019-03-11 02:19:56,812 - <ipython-input-6-aee519e8df5c>[line:97]: [Epoch] 51\n",
      "2019-03-11 02:19:56,814 - <ipython-input-6-aee519e8df5c>[line:101]: nll_train: 0.000046 error_train : 0 nll_test : 0.255233 error_test : 730 accuracy:0.927000\n",
      "2019-03-11 02:20:42,855 - <ipython-input-6-aee519e8df5c>[line:97]: [Epoch] 52\n",
      "2019-03-11 02:20:42,858 - <ipython-input-6-aee519e8df5c>[line:101]: nll_train: 0.000041 error_train : 0 nll_test : 0.253351 error_test : 726 accuracy:0.927400\n",
      "2019-03-11 02:21:29,096 - <ipython-input-6-aee519e8df5c>[line:97]: [Epoch] 53\n",
      "2019-03-11 02:21:29,097 - <ipython-input-6-aee519e8df5c>[line:101]: nll_train: 0.000039 error_train : 0 nll_test : 0.255045 error_test : 725 accuracy:0.927500\n",
      "2019-03-11 02:22:15,039 - <ipython-input-6-aee519e8df5c>[line:97]: [Epoch] 54\n",
      "2019-03-11 02:22:15,041 - <ipython-input-6-aee519e8df5c>[line:101]: nll_train: 0.000037 error_train : 0 nll_test : 0.256854 error_test : 739 accuracy:0.926100\n",
      "2019-03-11 02:23:00,831 - <ipython-input-6-aee519e8df5c>[line:97]: [Epoch] 55\n",
      "2019-03-11 02:23:00,833 - <ipython-input-6-aee519e8df5c>[line:101]: nll_train: 0.000034 error_train : 0 nll_test : 0.255382 error_test : 722 accuracy:0.927800\n",
      "2019-03-11 02:23:45,488 - <ipython-input-6-aee519e8df5c>[line:97]: [Epoch] 56\n",
      "2019-03-11 02:23:45,491 - <ipython-input-6-aee519e8df5c>[line:101]: nll_train: 0.000034 error_train : 0 nll_test : 0.257299 error_test : 730 accuracy:0.927000\n",
      "2019-03-11 02:24:33,392 - <ipython-input-6-aee519e8df5c>[line:97]: [Epoch] 57\n",
      "2019-03-11 02:24:33,394 - <ipython-input-6-aee519e8df5c>[line:101]: nll_train: 0.000031 error_train : 0 nll_test : 0.259337 error_test : 725 accuracy:0.927500\n",
      "2019-03-11 02:25:20,306 - <ipython-input-6-aee519e8df5c>[line:97]: [Epoch] 58\n",
      "2019-03-11 02:25:20,308 - <ipython-input-6-aee519e8df5c>[line:101]: nll_train: 0.000031 error_train : 0 nll_test : 0.259945 error_test : 730 accuracy:0.927000\n",
      "2019-03-11 02:26:06,618 - <ipython-input-6-aee519e8df5c>[line:97]: [Epoch] 59\n",
      "2019-03-11 02:26:06,621 - <ipython-input-6-aee519e8df5c>[line:101]: nll_train: 0.000028 error_train : 0 nll_test : 0.261066 error_test : 738 accuracy:0.926200\n",
      "2019-03-11 02:26:55,579 - <ipython-input-6-aee519e8df5c>[line:97]: [Epoch] 60\n",
      "2019-03-11 02:26:55,581 - <ipython-input-6-aee519e8df5c>[line:101]: nll_train: 0.000028 error_train : 0 nll_test : 0.260320 error_test : 727 accuracy:0.927300\n",
      "2019-03-11 02:27:44,379 - <ipython-input-6-aee519e8df5c>[line:97]: [Epoch] 61\n",
      "2019-03-11 02:27:44,381 - <ipython-input-6-aee519e8df5c>[line:101]: nll_train: 0.000028 error_train : 0 nll_test : 0.259389 error_test : 728 accuracy:0.927200\n",
      "2019-03-11 02:28:29,997 - <ipython-input-6-aee519e8df5c>[line:97]: [Epoch] 62\n",
      "2019-03-11 02:28:29,999 - <ipython-input-6-aee519e8df5c>[line:101]: nll_train: 0.000026 error_train : 0 nll_test : 0.257761 error_test : 733 accuracy:0.926700\n",
      "2019-03-11 02:29:18,967 - <ipython-input-6-aee519e8df5c>[line:97]: [Epoch] 63\n",
      "2019-03-11 02:29:18,969 - <ipython-input-6-aee519e8df5c>[line:101]: nll_train: 0.000024 error_train : 0 nll_test : 0.257493 error_test : 727 accuracy:0.927300\n",
      "2019-03-11 02:30:05,730 - <ipython-input-6-aee519e8df5c>[line:97]: [Epoch] 64\n",
      "2019-03-11 02:30:05,733 - <ipython-input-6-aee519e8df5c>[line:101]: nll_train: 0.000023 error_train : 0 nll_test : 0.260330 error_test : 731 accuracy:0.926900\n",
      "2019-03-11 02:30:53,680 - <ipython-input-6-aee519e8df5c>[line:97]: [Epoch] 65\n",
      "2019-03-11 02:30:53,682 - <ipython-input-6-aee519e8df5c>[line:101]: nll_train: 0.000023 error_train : 0 nll_test : 0.263129 error_test : 728 accuracy:0.927200\n",
      "2019-03-11 02:31:38,806 - <ipython-input-6-aee519e8df5c>[line:97]: [Epoch] 66\n",
      "2019-03-11 02:31:38,808 - <ipython-input-6-aee519e8df5c>[line:101]: nll_train: 0.000022 error_train : 0 nll_test : 0.265988 error_test : 736 accuracy:0.926400\n",
      "2019-03-11 02:32:24,588 - <ipython-input-6-aee519e8df5c>[line:97]: [Epoch] 67\n",
      "2019-03-11 02:32:24,591 - <ipython-input-6-aee519e8df5c>[line:101]: nll_train: 0.000021 error_train : 0 nll_test : 0.264520 error_test : 733 accuracy:0.926700\n",
      "2019-03-11 02:33:10,878 - <ipython-input-6-aee519e8df5c>[line:97]: [Epoch] 68\n",
      "2019-03-11 02:33:10,879 - <ipython-input-6-aee519e8df5c>[line:101]: nll_train: 0.000021 error_train : 0 nll_test : 0.264419 error_test : 728 accuracy:0.927200\n",
      "2019-03-11 02:33:57,256 - <ipython-input-6-aee519e8df5c>[line:97]: [Epoch] 69\n",
      "2019-03-11 02:33:57,258 - <ipython-input-6-aee519e8df5c>[line:101]: nll_train: 0.000021 error_train : 0 nll_test : 0.267281 error_test : 738 accuracy:0.926200\n"
     ]
    },
    {
     "name": "stderr",
     "output_type": "stream",
     "text": [
      "2019-03-11 02:34:44,930 - <ipython-input-6-aee519e8df5c>[line:97]: [Epoch] 70\n",
      "2019-03-11 02:34:44,931 - <ipython-input-6-aee519e8df5c>[line:101]: nll_train: 0.000020 error_train : 0 nll_test : 0.263617 error_test : 735 accuracy:0.926500\n",
      "2019-03-11 02:35:30,961 - <ipython-input-6-aee519e8df5c>[line:97]: [Epoch] 71\n",
      "2019-03-11 02:35:30,963 - <ipython-input-6-aee519e8df5c>[line:101]: nll_train: 0.000020 error_train : 0 nll_test : 0.266969 error_test : 730 accuracy:0.927000\n",
      "2019-03-11 02:36:17,490 - <ipython-input-6-aee519e8df5c>[line:97]: [Epoch] 72\n",
      "2019-03-11 02:36:17,492 - <ipython-input-6-aee519e8df5c>[line:101]: nll_train: 0.000019 error_train : 0 nll_test : 0.265538 error_test : 725 accuracy:0.927500\n",
      "2019-03-11 02:37:03,996 - <ipython-input-6-aee519e8df5c>[line:97]: [Epoch] 73\n",
      "2019-03-11 02:37:03,998 - <ipython-input-6-aee519e8df5c>[line:101]: nll_train: 0.000018 error_train : 0 nll_test : 0.266069 error_test : 738 accuracy:0.926200\n",
      "2019-03-11 02:37:46,480 - <ipython-input-6-aee519e8df5c>[line:97]: [Epoch] 74\n",
      "2019-03-11 02:37:46,482 - <ipython-input-6-aee519e8df5c>[line:101]: nll_train: 0.000017 error_train : 0 nll_test : 0.266387 error_test : 732 accuracy:0.926800\n",
      "2019-03-11 02:38:33,349 - <ipython-input-6-aee519e8df5c>[line:97]: [Epoch] 75\n",
      "2019-03-11 02:38:33,352 - <ipython-input-6-aee519e8df5c>[line:101]: nll_train: 0.000018 error_train : 0 nll_test : 0.266626 error_test : 733 accuracy:0.926700\n",
      "2019-03-11 02:39:20,039 - <ipython-input-6-aee519e8df5c>[line:97]: [Epoch] 76\n",
      "2019-03-11 02:39:20,041 - <ipython-input-6-aee519e8df5c>[line:101]: nll_train: 0.000017 error_train : 0 nll_test : 0.267078 error_test : 728 accuracy:0.927200\n",
      "2019-03-11 02:40:05,724 - <ipython-input-6-aee519e8df5c>[line:97]: [Epoch] 77\n",
      "2019-03-11 02:40:05,726 - <ipython-input-6-aee519e8df5c>[line:101]: nll_train: 0.000016 error_train : 0 nll_test : 0.267106 error_test : 731 accuracy:0.926900\n",
      "2019-03-11 02:40:50,962 - <ipython-input-6-aee519e8df5c>[line:97]: [Epoch] 78\n",
      "2019-03-11 02:40:50,964 - <ipython-input-6-aee519e8df5c>[line:101]: nll_train: 0.000016 error_train : 0 nll_test : 0.266144 error_test : 725 accuracy:0.927500\n",
      "2019-03-11 02:41:35,117 - <ipython-input-6-aee519e8df5c>[line:97]: [Epoch] 79\n",
      "2019-03-11 02:41:35,119 - <ipython-input-6-aee519e8df5c>[line:101]: nll_train: 0.000016 error_train : 0 nll_test : 0.265374 error_test : 724 accuracy:0.927600\n",
      "2019-03-11 02:42:21,407 - <ipython-input-6-aee519e8df5c>[line:97]: [Epoch] 80\n",
      "2019-03-11 02:42:21,408 - <ipython-input-6-aee519e8df5c>[line:101]: nll_train: 0.000015 error_train : 0 nll_test : 0.267028 error_test : 742 accuracy:0.925800\n",
      "2019-03-11 02:43:08,862 - <ipython-input-6-aee519e8df5c>[line:97]: [Epoch] 81\n",
      "2019-03-11 02:43:08,863 - <ipython-input-6-aee519e8df5c>[line:101]: nll_train: 0.000016 error_train : 0 nll_test : 0.266753 error_test : 742 accuracy:0.925800\n",
      "2019-03-11 02:43:56,345 - <ipython-input-6-aee519e8df5c>[line:97]: [Epoch] 82\n",
      "2019-03-11 02:43:56,348 - <ipython-input-6-aee519e8df5c>[line:101]: nll_train: 0.000015 error_train : 0 nll_test : 0.267047 error_test : 724 accuracy:0.927600\n",
      "2019-03-11 02:44:46,741 - <ipython-input-6-aee519e8df5c>[line:97]: [Epoch] 83\n",
      "2019-03-11 02:44:46,742 - <ipython-input-6-aee519e8df5c>[line:101]: nll_train: 0.000015 error_train : 0 nll_test : 0.266640 error_test : 731 accuracy:0.926900\n",
      "2019-03-11 02:45:34,559 - <ipython-input-6-aee519e8df5c>[line:97]: [Epoch] 84\n",
      "2019-03-11 02:45:34,560 - <ipython-input-6-aee519e8df5c>[line:101]: nll_train: 0.000014 error_train : 0 nll_test : 0.266787 error_test : 732 accuracy:0.926800\n",
      "2019-03-11 02:46:18,859 - <ipython-input-6-aee519e8df5c>[line:97]: [Epoch] 85\n",
      "2019-03-11 02:46:18,861 - <ipython-input-6-aee519e8df5c>[line:101]: nll_train: 0.000015 error_train : 0 nll_test : 0.268542 error_test : 729 accuracy:0.927100\n",
      "2019-03-11 02:47:05,161 - <ipython-input-6-aee519e8df5c>[line:97]: [Epoch] 86\n",
      "2019-03-11 02:47:05,163 - <ipython-input-6-aee519e8df5c>[line:101]: nll_train: 0.000016 error_train : 0 nll_test : 0.266206 error_test : 723 accuracy:0.927700\n",
      "2019-03-11 02:47:51,951 - <ipython-input-6-aee519e8df5c>[line:97]: [Epoch] 87\n",
      "2019-03-11 02:47:51,954 - <ipython-input-6-aee519e8df5c>[line:101]: nll_train: 0.000014 error_train : 0 nll_test : 0.268093 error_test : 730 accuracy:0.927000\n",
      "2019-03-11 02:48:37,085 - <ipython-input-6-aee519e8df5c>[line:97]: [Epoch] 88\n",
      "2019-03-11 02:48:37,087 - <ipython-input-6-aee519e8df5c>[line:101]: nll_train: 0.000015 error_train : 0 nll_test : 0.268545 error_test : 733 accuracy:0.926700\n",
      "2019-03-11 02:49:24,928 - <ipython-input-6-aee519e8df5c>[line:97]: [Epoch] 89\n",
      "2019-03-11 02:49:24,930 - <ipython-input-6-aee519e8df5c>[line:101]: nll_train: 0.000015 error_train : 0 nll_test : 0.269498 error_test : 729 accuracy:0.927100\n",
      "2019-03-11 02:50:10,492 - <ipython-input-6-aee519e8df5c>[line:97]: [Epoch] 90\n",
      "2019-03-11 02:50:10,493 - <ipython-input-6-aee519e8df5c>[line:101]: nll_train: 0.000015 error_train : 0 nll_test : 0.268794 error_test : 741 accuracy:0.925900\n",
      "2019-03-11 02:50:54,374 - <ipython-input-6-aee519e8df5c>[line:97]: [Epoch] 91\n",
      "2019-03-11 02:50:54,376 - <ipython-input-6-aee519e8df5c>[line:101]: nll_train: 0.000014 error_train : 0 nll_test : 0.269755 error_test : 742 accuracy:0.925800\n",
      "2019-03-11 02:51:41,804 - <ipython-input-6-aee519e8df5c>[line:97]: [Epoch] 92\n",
      "2019-03-11 02:51:41,805 - <ipython-input-6-aee519e8df5c>[line:101]: nll_train: 0.000014 error_train : 0 nll_test : 0.268431 error_test : 733 accuracy:0.926700\n",
      "2019-03-11 02:52:31,198 - <ipython-input-6-aee519e8df5c>[line:97]: [Epoch] 93\n",
      "2019-03-11 02:52:31,201 - <ipython-input-6-aee519e8df5c>[line:101]: nll_train: 0.000014 error_train : 0 nll_test : 0.266709 error_test : 720 accuracy:0.928000\n",
      "2019-03-11 02:53:18,876 - <ipython-input-6-aee519e8df5c>[line:97]: [Epoch] 94\n",
      "2019-03-11 02:53:18,878 - <ipython-input-6-aee519e8df5c>[line:101]: nll_train: 0.000014 error_train : 0 nll_test : 0.271200 error_test : 734 accuracy:0.926600\n",
      "2019-03-11 02:54:05,078 - <ipython-input-6-aee519e8df5c>[line:97]: [Epoch] 95\n",
      "2019-03-11 02:54:05,079 - <ipython-input-6-aee519e8df5c>[line:101]: nll_train: 0.000014 error_train : 0 nll_test : 0.270265 error_test : 720 accuracy:0.928000\n",
      "2019-03-11 02:54:52,094 - <ipython-input-6-aee519e8df5c>[line:97]: [Epoch] 96\n",
      "2019-03-11 02:54:52,097 - <ipython-input-6-aee519e8df5c>[line:101]: nll_train: 0.000013 error_train : 0 nll_test : 0.269093 error_test : 728 accuracy:0.927200\n",
      "2019-03-11 02:55:37,781 - <ipython-input-6-aee519e8df5c>[line:97]: [Epoch] 97\n",
      "2019-03-11 02:55:37,784 - <ipython-input-6-aee519e8df5c>[line:101]: nll_train: 0.000012 error_train : 0 nll_test : 0.271237 error_test : 732 accuracy:0.926800\n",
      "2019-03-11 02:56:25,071 - <ipython-input-6-aee519e8df5c>[line:97]: [Epoch] 98\n",
      "2019-03-11 02:56:25,073 - <ipython-input-6-aee519e8df5c>[line:101]: nll_train: 0.000013 error_train : 0 nll_test : 0.269652 error_test : 746 accuracy:0.925400\n",
      "2019-03-11 02:57:12,062 - <ipython-input-6-aee519e8df5c>[line:97]: [Epoch] 99\n",
      "2019-03-11 02:57:12,064 - <ipython-input-6-aee519e8df5c>[line:101]: nll_train: 0.000013 error_train : 0 nll_test : 0.267974 error_test : 740 accuracy:0.926000\n",
      "2019-03-11 02:57:26,932 - <ipython-input-6-aee519e8df5c>[line:123]: final nll_train: 0.000008 error_train: 0 nll_test: 0.275022 error_test: 713 accuracy:0.928700\n"
     ]
    }
   ],
   "source": [
    "\n",
    "arg = {'seed': 1,\n",
    "       'size': 1000,\n",
    "       'vis': False,\n",
    "       'epochs': 100,\n",
    "       'iterations': 400,\n",
    "       'lr_decay': 0.95,\n",
    "       'batch_size': 100,\n",
    "       'ul_batch_size': 250,\n",
    "       'num_validation_samples': 1000,\n",
    "       'layer_sizes': '784-1200-1200-10',\n",
    "       'dataset': 'mnist',\n",
    "       'epsilon': 0.3,\n",
    "       'cost_type': 'MLE',\n",
    "       'norm_constraint': 'L2',\n",
    "       'num_power_iter': 1,\n",
    "       'lamb': 1,\n",
    "       'lr': 0.001\n",
    "      }\n",
    "train(arg)"
   ]
  },
  {
   "cell_type": "code",
   "execution_count": 8,
   "metadata": {},
   "outputs": [
    {
     "name": "stderr",
     "output_type": "stream",
     "text": [
      "2019-03-11 03:50:32,033 - <ipython-input-6-aee519e8df5c>[line:97]: [Epoch] 0\n",
      "2019-03-11 03:50:32,035 - <ipython-input-6-aee519e8df5c>[line:101]: nll_train: 0.154206 error_train : 0 nll_test : 0.265320 error_test : 283 accuracy:0.971700\n",
      "2019-03-11 03:51:51,301 - <ipython-input-6-aee519e8df5c>[line:97]: [Epoch] 1\n",
      "2019-03-11 03:51:51,303 - <ipython-input-6-aee519e8df5c>[line:101]: nll_train: 0.070784 error_train : 0 nll_test : 0.179951 error_test : 257 accuracy:0.974300\n",
      "2019-03-11 03:53:06,957 - <ipython-input-6-aee519e8df5c>[line:97]: [Epoch] 2\n",
      "2019-03-11 03:53:06,959 - <ipython-input-6-aee519e8df5c>[line:101]: nll_train: 0.039508 error_train : 0 nll_test : 0.144496 error_test : 245 accuracy:0.975500\n",
      "2019-03-11 03:54:25,682 - <ipython-input-6-aee519e8df5c>[line:97]: [Epoch] 3\n",
      "2019-03-11 03:54:25,683 - <ipython-input-6-aee519e8df5c>[line:101]: nll_train: 0.027010 error_train : 0 nll_test : 0.124050 error_test : 246 accuracy:0.975400\n",
      "2019-03-11 03:55:33,338 - <ipython-input-6-aee519e8df5c>[line:97]: [Epoch] 4\n",
      "2019-03-11 03:55:33,340 - <ipython-input-6-aee519e8df5c>[line:101]: nll_train: 0.018379 error_train : 0 nll_test : 0.109701 error_test : 236 accuracy:0.976400\n",
      "2019-03-11 03:56:36,473 - <ipython-input-6-aee519e8df5c>[line:97]: [Epoch] 5\n",
      "2019-03-11 03:56:36,474 - <ipython-input-6-aee519e8df5c>[line:101]: nll_train: 0.013992 error_train : 0 nll_test : 0.105662 error_test : 240 accuracy:0.976000\n",
      "2019-03-11 03:57:43,771 - <ipython-input-6-aee519e8df5c>[line:97]: [Epoch] 6\n",
      "2019-03-11 03:57:43,772 - <ipython-input-6-aee519e8df5c>[line:101]: nll_train: 0.011325 error_train : 0 nll_test : 0.101038 error_test : 244 accuracy:0.975600\n",
      "2019-03-11 03:58:50,279 - <ipython-input-6-aee519e8df5c>[line:97]: [Epoch] 7\n",
      "2019-03-11 03:58:50,280 - <ipython-input-6-aee519e8df5c>[line:101]: nll_train: 0.008891 error_train : 0 nll_test : 0.096767 error_test : 240 accuracy:0.976000\n",
      "2019-03-11 04:00:00,826 - <ipython-input-6-aee519e8df5c>[line:97]: [Epoch] 8\n",
      "2019-03-11 04:00:00,827 - <ipython-input-6-aee519e8df5c>[line:101]: nll_train: 0.006861 error_train : 0 nll_test : 0.094076 error_test : 247 accuracy:0.975300\n",
      "2019-03-11 04:00:57,988 - <ipython-input-6-aee519e8df5c>[line:97]: [Epoch] 9\n",
      "2019-03-11 04:00:57,990 - <ipython-input-6-aee519e8df5c>[line:101]: nll_train: 0.005773 error_train : 0 nll_test : 0.088931 error_test : 236 accuracy:0.976400\n",
      "2019-03-11 04:01:53,812 - <ipython-input-6-aee519e8df5c>[line:97]: [Epoch] 10\n",
      "2019-03-11 04:01:53,814 - <ipython-input-6-aee519e8df5c>[line:101]: nll_train: 0.004855 error_train : 0 nll_test : 0.089490 error_test : 239 accuracy:0.976100\n",
      "2019-03-11 04:02:51,980 - <ipython-input-6-aee519e8df5c>[line:97]: [Epoch] 11\n",
      "2019-03-11 04:02:51,982 - <ipython-input-6-aee519e8df5c>[line:101]: nll_train: 0.003872 error_train : 0 nll_test : 0.086456 error_test : 238 accuracy:0.976200\n",
      "2019-03-11 04:03:46,957 - <ipython-input-6-aee519e8df5c>[line:97]: [Epoch] 12\n",
      "2019-03-11 04:03:46,958 - <ipython-input-6-aee519e8df5c>[line:101]: nll_train: 0.011909 error_train : 3 nll_test : 0.097275 error_test : 270 accuracy:0.973000\n",
      "2019-03-11 04:04:40,045 - <ipython-input-6-aee519e8df5c>[line:97]: [Epoch] 13\n",
      "2019-03-11 04:04:40,047 - <ipython-input-6-aee519e8df5c>[line:101]: nll_train: 0.003586 error_train : 0 nll_test : 0.082772 error_test : 239 accuracy:0.976100\n",
      "2019-03-11 04:05:34,902 - <ipython-input-6-aee519e8df5c>[line:97]: [Epoch] 14\n",
      "2019-03-11 04:05:34,904 - <ipython-input-6-aee519e8df5c>[line:101]: nll_train: 0.002438 error_train : 0 nll_test : 0.080232 error_test : 225 accuracy:0.977500\n",
      "2019-03-11 04:06:27,304 - <ipython-input-6-aee519e8df5c>[line:97]: [Epoch] 15\n",
      "2019-03-11 04:06:27,307 - <ipython-input-6-aee519e8df5c>[line:101]: nll_train: 0.002083 error_train : 0 nll_test : 0.079873 error_test : 234 accuracy:0.976600\n",
      "2019-03-11 04:07:17,109 - <ipython-input-6-aee519e8df5c>[line:97]: [Epoch] 16\n",
      "2019-03-11 04:07:17,111 - <ipython-input-6-aee519e8df5c>[line:101]: nll_train: 0.001707 error_train : 0 nll_test : 0.077925 error_test : 233 accuracy:0.976700\n",
      "2019-03-11 04:08:07,791 - <ipython-input-6-aee519e8df5c>[line:97]: [Epoch] 17\n",
      "2019-03-11 04:08:07,793 - <ipython-input-6-aee519e8df5c>[line:101]: nll_train: 0.001477 error_train : 0 nll_test : 0.077789 error_test : 223 accuracy:0.977700\n",
      "2019-03-11 04:08:59,674 - <ipython-input-6-aee519e8df5c>[line:97]: [Epoch] 18\n",
      "2019-03-11 04:08:59,676 - <ipython-input-6-aee519e8df5c>[line:101]: nll_train: 0.001258 error_train : 0 nll_test : 0.077559 error_test : 218 accuracy:0.978200\n",
      "2019-03-11 04:09:53,641 - <ipython-input-6-aee519e8df5c>[line:97]: [Epoch] 19\n",
      "2019-03-11 04:09:53,642 - <ipython-input-6-aee519e8df5c>[line:101]: nll_train: 0.001101 error_train : 0 nll_test : 0.078540 error_test : 229 accuracy:0.977100\n",
      "2019-03-11 04:10:48,667 - <ipython-input-6-aee519e8df5c>[line:97]: [Epoch] 20\n",
      "2019-03-11 04:10:48,670 - <ipython-input-6-aee519e8df5c>[line:101]: nll_train: 0.000982 error_train : 0 nll_test : 0.079089 error_test : 239 accuracy:0.976100\n",
      "2019-03-11 04:11:42,858 - <ipython-input-6-aee519e8df5c>[line:97]: [Epoch] 21\n",
      "2019-03-11 04:11:42,861 - <ipython-input-6-aee519e8df5c>[line:101]: nll_train: 0.000862 error_train : 0 nll_test : 0.079296 error_test : 226 accuracy:0.977400\n",
      "2019-03-11 04:12:36,924 - <ipython-input-6-aee519e8df5c>[line:97]: [Epoch] 22\n",
      "2019-03-11 04:12:36,926 - <ipython-input-6-aee519e8df5c>[line:101]: nll_train: 0.000748 error_train : 0 nll_test : 0.078176 error_test : 230 accuracy:0.977000\n",
      "2019-03-11 04:13:29,305 - <ipython-input-6-aee519e8df5c>[line:97]: [Epoch] 23\n",
      "2019-03-11 04:13:29,308 - <ipython-input-6-aee519e8df5c>[line:101]: nll_train: 0.000691 error_train : 0 nll_test : 0.080830 error_test : 237 accuracy:0.976300\n",
      "2019-03-11 04:14:24,310 - <ipython-input-6-aee519e8df5c>[line:97]: [Epoch] 24\n",
      "2019-03-11 04:14:24,312 - <ipython-input-6-aee519e8df5c>[line:101]: nll_train: 0.000585 error_train : 0 nll_test : 0.079745 error_test : 236 accuracy:0.976400\n",
      "2019-03-11 04:15:19,471 - <ipython-input-6-aee519e8df5c>[line:97]: [Epoch] 25\n",
      "2019-03-11 04:15:19,472 - <ipython-input-6-aee519e8df5c>[line:101]: nll_train: 0.000522 error_train : 0 nll_test : 0.077833 error_test : 225 accuracy:0.977500\n",
      "2019-03-11 04:16:08,919 - <ipython-input-6-aee519e8df5c>[line:97]: [Epoch] 26\n",
      "2019-03-11 04:16:08,921 - <ipython-input-6-aee519e8df5c>[line:101]: nll_train: 0.000478 error_train : 0 nll_test : 0.079769 error_test : 223 accuracy:0.977700\n",
      "2019-03-11 04:16:57,547 - <ipython-input-6-aee519e8df5c>[line:97]: [Epoch] 27\n",
      "2019-03-11 04:16:57,549 - <ipython-input-6-aee519e8df5c>[line:101]: nll_train: 0.000419 error_train : 0 nll_test : 0.079692 error_test : 226 accuracy:0.977400\n",
      "2019-03-11 04:17:46,564 - <ipython-input-6-aee519e8df5c>[line:97]: [Epoch] 28\n",
      "2019-03-11 04:17:46,566 - <ipython-input-6-aee519e8df5c>[line:101]: nll_train: 0.000366 error_train : 0 nll_test : 0.079050 error_test : 228 accuracy:0.977200\n",
      "2019-03-11 04:18:36,592 - <ipython-input-6-aee519e8df5c>[line:97]: [Epoch] 29\n",
      "2019-03-11 04:18:36,593 - <ipython-input-6-aee519e8df5c>[line:101]: nll_train: 0.000339 error_train : 0 nll_test : 0.079177 error_test : 227 accuracy:0.977300\n",
      "2019-03-11 04:19:26,334 - <ipython-input-6-aee519e8df5c>[line:97]: [Epoch] 30\n",
      "2019-03-11 04:19:26,336 - <ipython-input-6-aee519e8df5c>[line:101]: nll_train: 0.000292 error_train : 0 nll_test : 0.080287 error_test : 230 accuracy:0.977000\n",
      "2019-03-11 04:20:16,151 - <ipython-input-6-aee519e8df5c>[line:97]: [Epoch] 31\n",
      "2019-03-11 04:20:16,154 - <ipython-input-6-aee519e8df5c>[line:101]: nll_train: 0.000266 error_train : 0 nll_test : 0.081930 error_test : 226 accuracy:0.977400\n",
      "2019-03-11 04:21:06,315 - <ipython-input-6-aee519e8df5c>[line:97]: [Epoch] 32\n",
      "2019-03-11 04:21:06,316 - <ipython-input-6-aee519e8df5c>[line:101]: nll_train: 0.000245 error_train : 0 nll_test : 0.080931 error_test : 228 accuracy:0.977200\n",
      "2019-03-11 04:21:57,443 - <ipython-input-6-aee519e8df5c>[line:97]: [Epoch] 33\n",
      "2019-03-11 04:21:57,444 - <ipython-input-6-aee519e8df5c>[line:101]: nll_train: 0.000214 error_train : 0 nll_test : 0.080528 error_test : 223 accuracy:0.977700\n",
      "2019-03-11 04:22:48,704 - <ipython-input-6-aee519e8df5c>[line:97]: [Epoch] 34\n",
      "2019-03-11 04:22:48,706 - <ipython-input-6-aee519e8df5c>[line:101]: nll_train: 0.000198 error_train : 0 nll_test : 0.082634 error_test : 230 accuracy:0.977000\n"
     ]
    },
    {
     "name": "stderr",
     "output_type": "stream",
     "text": [
      "2019-03-11 04:23:39,605 - <ipython-input-6-aee519e8df5c>[line:97]: [Epoch] 35\n",
      "2019-03-11 04:23:39,607 - <ipython-input-6-aee519e8df5c>[line:101]: nll_train: 0.000174 error_train : 0 nll_test : 0.082221 error_test : 222 accuracy:0.977800\n",
      "2019-03-11 04:24:29,983 - <ipython-input-6-aee519e8df5c>[line:97]: [Epoch] 36\n",
      "2019-03-11 04:24:29,985 - <ipython-input-6-aee519e8df5c>[line:101]: nll_train: 0.000154 error_train : 0 nll_test : 0.084303 error_test : 234 accuracy:0.976600\n",
      "2019-03-11 04:25:19,331 - <ipython-input-6-aee519e8df5c>[line:97]: [Epoch] 37\n",
      "2019-03-11 04:25:19,332 - <ipython-input-6-aee519e8df5c>[line:101]: nll_train: 0.000152 error_train : 0 nll_test : 0.084445 error_test : 230 accuracy:0.977000\n",
      "2019-03-11 04:26:10,681 - <ipython-input-6-aee519e8df5c>[line:97]: [Epoch] 38\n",
      "2019-03-11 04:26:10,683 - <ipython-input-6-aee519e8df5c>[line:101]: nll_train: 0.000130 error_train : 0 nll_test : 0.084206 error_test : 234 accuracy:0.976600\n",
      "2019-03-11 04:27:01,937 - <ipython-input-6-aee519e8df5c>[line:97]: [Epoch] 39\n",
      "2019-03-11 04:27:01,939 - <ipython-input-6-aee519e8df5c>[line:101]: nll_train: 0.000125 error_train : 0 nll_test : 0.084080 error_test : 232 accuracy:0.976800\n",
      "2019-03-11 04:27:52,826 - <ipython-input-6-aee519e8df5c>[line:97]: [Epoch] 40\n",
      "2019-03-11 04:27:52,829 - <ipython-input-6-aee519e8df5c>[line:101]: nll_train: 0.000113 error_train : 0 nll_test : 0.084615 error_test : 232 accuracy:0.976800\n",
      "2019-03-11 04:28:43,616 - <ipython-input-6-aee519e8df5c>[line:97]: [Epoch] 41\n",
      "2019-03-11 04:28:43,617 - <ipython-input-6-aee519e8df5c>[line:101]: nll_train: 0.000152 error_train : 0 nll_test : 0.086652 error_test : 237 accuracy:0.976300\n",
      "2019-03-11 04:29:36,689 - <ipython-input-6-aee519e8df5c>[line:97]: [Epoch] 42\n",
      "2019-03-11 04:29:36,691 - <ipython-input-6-aee519e8df5c>[line:101]: nll_train: 0.000117 error_train : 0 nll_test : 0.085177 error_test : 231 accuracy:0.976900\n",
      "2019-03-11 04:30:27,942 - <ipython-input-6-aee519e8df5c>[line:97]: [Epoch] 43\n",
      "2019-03-11 04:30:27,944 - <ipython-input-6-aee519e8df5c>[line:101]: nll_train: 0.000103 error_train : 0 nll_test : 0.084641 error_test : 228 accuracy:0.977200\n",
      "2019-03-11 04:31:17,796 - <ipython-input-6-aee519e8df5c>[line:97]: [Epoch] 44\n",
      "2019-03-11 04:31:17,798 - <ipython-input-6-aee519e8df5c>[line:101]: nll_train: 0.000096 error_train : 0 nll_test : 0.083241 error_test : 223 accuracy:0.977700\n",
      "2019-03-11 04:32:08,253 - <ipython-input-6-aee519e8df5c>[line:97]: [Epoch] 45\n",
      "2019-03-11 04:32:08,255 - <ipython-input-6-aee519e8df5c>[line:101]: nll_train: 0.000090 error_train : 0 nll_test : 0.085096 error_test : 230 accuracy:0.977000\n",
      "2019-03-11 04:32:58,411 - <ipython-input-6-aee519e8df5c>[line:97]: [Epoch] 46\n",
      "2019-03-11 04:32:58,413 - <ipython-input-6-aee519e8df5c>[line:101]: nll_train: 0.000083 error_train : 0 nll_test : 0.085781 error_test : 219 accuracy:0.978100\n",
      "2019-03-11 04:33:50,384 - <ipython-input-6-aee519e8df5c>[line:97]: [Epoch] 47\n",
      "2019-03-11 04:33:50,387 - <ipython-input-6-aee519e8df5c>[line:101]: nll_train: 0.000077 error_train : 0 nll_test : 0.085190 error_test : 226 accuracy:0.977400\n"
     ]
    },
    {
     "ename": "KeyboardInterrupt",
     "evalue": "",
     "output_type": "error",
     "traceback": [
      "\u001b[0;31m---------------------------------------------------------------------------\u001b[0m",
      "\u001b[0;31mKeyboardInterrupt\u001b[0m                         Traceback (most recent call last)",
      "\u001b[0;32m<ipython-input-8-9e4f144709e4>\u001b[0m in \u001b[0;36m<module>\u001b[0;34m()\u001b[0m\n\u001b[1;32m     18\u001b[0m        \u001b[0;34m'lr'\u001b[0m\u001b[0;34m:\u001b[0m \u001b[0;36m0.001\u001b[0m\u001b[0;34m\u001b[0m\u001b[0m\n\u001b[1;32m     19\u001b[0m       }\n\u001b[0;32m---> 20\u001b[0;31m \u001b[0mtrain\u001b[0m\u001b[0;34m(\u001b[0m\u001b[0marg\u001b[0m\u001b[0;34m)\u001b[0m\u001b[0;34m\u001b[0m\u001b[0m\n\u001b[0m",
      "\u001b[0;32m<ipython-input-6-aee519e8df5c>\u001b[0m in \u001b[0;36mtrain\u001b[0;34m(args)\u001b[0m\n\u001b[1;32m     88\u001b[0m \u001b[0;34m\u001b[0m\u001b[0m\n\u001b[1;32m     89\u001b[0m         \u001b[0msum_nll_train\u001b[0m \u001b[0;34m=\u001b[0m \u001b[0mnumpy\u001b[0m\u001b[0;34m.\u001b[0m\u001b[0msum\u001b[0m\u001b[0;34m(\u001b[0m\u001b[0mnumpy\u001b[0m\u001b[0;34m.\u001b[0m\u001b[0marray\u001b[0m\u001b[0;34m(\u001b[0m\u001b[0;34m[\u001b[0m\u001b[0mf_nll_train\u001b[0m\u001b[0;34m(\u001b[0m\u001b[0mi\u001b[0m\u001b[0;34m)\u001b[0m \u001b[0;32mfor\u001b[0m \u001b[0mi\u001b[0m \u001b[0;32min\u001b[0m \u001b[0mrange\u001b[0m\u001b[0;34m(\u001b[0m\u001b[0mn_train\u001b[0m \u001b[0;34m//\u001b[0m \u001b[0mbatch_size\u001b[0m\u001b[0;34m)\u001b[0m\u001b[0;34m]\u001b[0m\u001b[0;34m)\u001b[0m\u001b[0;34m)\u001b[0m \u001b[0;34m*\u001b[0m \u001b[0mbatch_size\u001b[0m\u001b[0;34m\u001b[0m\u001b[0m\n\u001b[0;32m---> 90\u001b[0;31m         \u001b[0msum_error_train\u001b[0m \u001b[0;34m=\u001b[0m \u001b[0mnumpy\u001b[0m\u001b[0;34m.\u001b[0m\u001b[0msum\u001b[0m\u001b[0;34m(\u001b[0m\u001b[0mnumpy\u001b[0m\u001b[0;34m.\u001b[0m\u001b[0marray\u001b[0m\u001b[0;34m(\u001b[0m\u001b[0;34m[\u001b[0m\u001b[0mf_error_train\u001b[0m\u001b[0;34m(\u001b[0m\u001b[0mi\u001b[0m\u001b[0;34m)\u001b[0m \u001b[0;32mfor\u001b[0m \u001b[0mi\u001b[0m \u001b[0;32min\u001b[0m \u001b[0mrange\u001b[0m\u001b[0;34m(\u001b[0m\u001b[0mn_train\u001b[0m \u001b[0;34m//\u001b[0m \u001b[0mbatch_size\u001b[0m\u001b[0;34m)\u001b[0m\u001b[0;34m]\u001b[0m\u001b[0;34m)\u001b[0m\u001b[0;34m)\u001b[0m\u001b[0;34m\u001b[0m\u001b[0m\n\u001b[0m\u001b[1;32m     91\u001b[0m         \u001b[0msum_nll_test\u001b[0m \u001b[0;34m=\u001b[0m \u001b[0mnumpy\u001b[0m\u001b[0;34m.\u001b[0m\u001b[0msum\u001b[0m\u001b[0;34m(\u001b[0m\u001b[0mnumpy\u001b[0m\u001b[0;34m.\u001b[0m\u001b[0marray\u001b[0m\u001b[0;34m(\u001b[0m\u001b[0;34m[\u001b[0m\u001b[0mf_nll_test\u001b[0m\u001b[0;34m(\u001b[0m\u001b[0mi\u001b[0m\u001b[0;34m)\u001b[0m \u001b[0;32mfor\u001b[0m \u001b[0mi\u001b[0m \u001b[0;32min\u001b[0m \u001b[0mrange\u001b[0m\u001b[0;34m(\u001b[0m\u001b[0mn_test\u001b[0m \u001b[0;34m//\u001b[0m \u001b[0mbatch_size\u001b[0m\u001b[0;34m)\u001b[0m\u001b[0;34m]\u001b[0m\u001b[0;34m)\u001b[0m\u001b[0;34m)\u001b[0m \u001b[0;34m*\u001b[0m \u001b[0mbatch_size\u001b[0m\u001b[0;34m\u001b[0m\u001b[0m\n\u001b[1;32m     92\u001b[0m         \u001b[0msum_error_test\u001b[0m \u001b[0;34m=\u001b[0m \u001b[0mnumpy\u001b[0m\u001b[0;34m.\u001b[0m\u001b[0msum\u001b[0m\u001b[0;34m(\u001b[0m\u001b[0mnumpy\u001b[0m\u001b[0;34m.\u001b[0m\u001b[0marray\u001b[0m\u001b[0;34m(\u001b[0m\u001b[0;34m[\u001b[0m\u001b[0mf_error_test\u001b[0m\u001b[0;34m(\u001b[0m\u001b[0mi\u001b[0m\u001b[0;34m)\u001b[0m \u001b[0;32mfor\u001b[0m \u001b[0mi\u001b[0m \u001b[0;32min\u001b[0m \u001b[0mrange\u001b[0m\u001b[0;34m(\u001b[0m\u001b[0mn_test\u001b[0m \u001b[0;34m//\u001b[0m \u001b[0mbatch_size\u001b[0m\u001b[0;34m)\u001b[0m\u001b[0;34m]\u001b[0m\u001b[0;34m)\u001b[0m\u001b[0;34m)\u001b[0m\u001b[0;34m\u001b[0m\u001b[0m\n",
      "\u001b[0;32m<ipython-input-6-aee519e8df5c>\u001b[0m in \u001b[0;36m<listcomp>\u001b[0;34m(.0)\u001b[0m\n\u001b[1;32m     88\u001b[0m \u001b[0;34m\u001b[0m\u001b[0m\n\u001b[1;32m     89\u001b[0m         \u001b[0msum_nll_train\u001b[0m \u001b[0;34m=\u001b[0m \u001b[0mnumpy\u001b[0m\u001b[0;34m.\u001b[0m\u001b[0msum\u001b[0m\u001b[0;34m(\u001b[0m\u001b[0mnumpy\u001b[0m\u001b[0;34m.\u001b[0m\u001b[0marray\u001b[0m\u001b[0;34m(\u001b[0m\u001b[0;34m[\u001b[0m\u001b[0mf_nll_train\u001b[0m\u001b[0;34m(\u001b[0m\u001b[0mi\u001b[0m\u001b[0;34m)\u001b[0m \u001b[0;32mfor\u001b[0m \u001b[0mi\u001b[0m \u001b[0;32min\u001b[0m \u001b[0mrange\u001b[0m\u001b[0;34m(\u001b[0m\u001b[0mn_train\u001b[0m \u001b[0;34m//\u001b[0m \u001b[0mbatch_size\u001b[0m\u001b[0;34m)\u001b[0m\u001b[0;34m]\u001b[0m\u001b[0;34m)\u001b[0m\u001b[0;34m)\u001b[0m \u001b[0;34m*\u001b[0m \u001b[0mbatch_size\u001b[0m\u001b[0;34m\u001b[0m\u001b[0m\n\u001b[0;32m---> 90\u001b[0;31m         \u001b[0msum_error_train\u001b[0m \u001b[0;34m=\u001b[0m \u001b[0mnumpy\u001b[0m\u001b[0;34m.\u001b[0m\u001b[0msum\u001b[0m\u001b[0;34m(\u001b[0m\u001b[0mnumpy\u001b[0m\u001b[0;34m.\u001b[0m\u001b[0marray\u001b[0m\u001b[0;34m(\u001b[0m\u001b[0;34m[\u001b[0m\u001b[0mf_error_train\u001b[0m\u001b[0;34m(\u001b[0m\u001b[0mi\u001b[0m\u001b[0;34m)\u001b[0m \u001b[0;32mfor\u001b[0m \u001b[0mi\u001b[0m \u001b[0;32min\u001b[0m \u001b[0mrange\u001b[0m\u001b[0;34m(\u001b[0m\u001b[0mn_train\u001b[0m \u001b[0;34m//\u001b[0m \u001b[0mbatch_size\u001b[0m\u001b[0;34m)\u001b[0m\u001b[0;34m]\u001b[0m\u001b[0;34m)\u001b[0m\u001b[0;34m)\u001b[0m\u001b[0;34m\u001b[0m\u001b[0m\n\u001b[0m\u001b[1;32m     91\u001b[0m         \u001b[0msum_nll_test\u001b[0m \u001b[0;34m=\u001b[0m \u001b[0mnumpy\u001b[0m\u001b[0;34m.\u001b[0m\u001b[0msum\u001b[0m\u001b[0;34m(\u001b[0m\u001b[0mnumpy\u001b[0m\u001b[0;34m.\u001b[0m\u001b[0marray\u001b[0m\u001b[0;34m(\u001b[0m\u001b[0;34m[\u001b[0m\u001b[0mf_nll_test\u001b[0m\u001b[0;34m(\u001b[0m\u001b[0mi\u001b[0m\u001b[0;34m)\u001b[0m \u001b[0;32mfor\u001b[0m \u001b[0mi\u001b[0m \u001b[0;32min\u001b[0m \u001b[0mrange\u001b[0m\u001b[0;34m(\u001b[0m\u001b[0mn_test\u001b[0m \u001b[0;34m//\u001b[0m \u001b[0mbatch_size\u001b[0m\u001b[0;34m)\u001b[0m\u001b[0;34m]\u001b[0m\u001b[0;34m)\u001b[0m\u001b[0;34m)\u001b[0m \u001b[0;34m*\u001b[0m \u001b[0mbatch_size\u001b[0m\u001b[0;34m\u001b[0m\u001b[0m\n\u001b[1;32m     92\u001b[0m         \u001b[0msum_error_test\u001b[0m \u001b[0;34m=\u001b[0m \u001b[0mnumpy\u001b[0m\u001b[0;34m.\u001b[0m\u001b[0msum\u001b[0m\u001b[0;34m(\u001b[0m\u001b[0mnumpy\u001b[0m\u001b[0;34m.\u001b[0m\u001b[0marray\u001b[0m\u001b[0;34m(\u001b[0m\u001b[0;34m[\u001b[0m\u001b[0mf_error_test\u001b[0m\u001b[0;34m(\u001b[0m\u001b[0mi\u001b[0m\u001b[0;34m)\u001b[0m \u001b[0;32mfor\u001b[0m \u001b[0mi\u001b[0m \u001b[0;32min\u001b[0m \u001b[0mrange\u001b[0m\u001b[0;34m(\u001b[0m\u001b[0mn_test\u001b[0m \u001b[0;34m//\u001b[0m \u001b[0mbatch_size\u001b[0m\u001b[0;34m)\u001b[0m\u001b[0;34m]\u001b[0m\u001b[0;34m)\u001b[0m\u001b[0;34m)\u001b[0m\u001b[0;34m\u001b[0m\u001b[0m\n",
      "\u001b[0;32m~/software/dllib3/lib/python3.6/site-packages/theano/compile/function_module.py\u001b[0m in \u001b[0;36m__call__\u001b[0;34m(self, *args, **kwargs)\u001b[0m\n\u001b[1;32m    593\u001b[0m         \u001b[0mt0_fn\u001b[0m \u001b[0;34m=\u001b[0m \u001b[0mtime\u001b[0m\u001b[0;34m.\u001b[0m\u001b[0mtime\u001b[0m\u001b[0;34m(\u001b[0m\u001b[0;34m)\u001b[0m\u001b[0;34m\u001b[0m\u001b[0m\n\u001b[1;32m    594\u001b[0m         \u001b[0;32mtry\u001b[0m\u001b[0;34m:\u001b[0m\u001b[0;34m\u001b[0m\u001b[0m\n\u001b[0;32m--> 595\u001b[0;31m             \u001b[0moutputs\u001b[0m \u001b[0;34m=\u001b[0m \u001b[0mself\u001b[0m\u001b[0;34m.\u001b[0m\u001b[0mfn\u001b[0m\u001b[0;34m(\u001b[0m\u001b[0;34m)\u001b[0m\u001b[0;34m\u001b[0m\u001b[0m\n\u001b[0m\u001b[1;32m    596\u001b[0m         \u001b[0;32mexcept\u001b[0m \u001b[0mException\u001b[0m\u001b[0;34m:\u001b[0m\u001b[0;34m\u001b[0m\u001b[0m\n\u001b[1;32m    597\u001b[0m             \u001b[0;32mif\u001b[0m \u001b[0mhasattr\u001b[0m\u001b[0;34m(\u001b[0m\u001b[0mself\u001b[0m\u001b[0;34m.\u001b[0m\u001b[0mfn\u001b[0m\u001b[0;34m,\u001b[0m \u001b[0;34m'position_of_error'\u001b[0m\u001b[0;34m)\u001b[0m\u001b[0;34m:\u001b[0m\u001b[0;34m\u001b[0m\u001b[0m\n",
      "\u001b[0;32m~/software/dllib3/lib/python3.6/site-packages/theano/gof/op.py\u001b[0m in \u001b[0;36mrval\u001b[0;34m(p, i, o, n)\u001b[0m\n\u001b[1;32m    766\u001b[0m             \u001b[0;31m# default arguments are stored in the closure of `rval`\u001b[0m\u001b[0;34m\u001b[0m\u001b[0;34m\u001b[0m\u001b[0m\n\u001b[1;32m    767\u001b[0m             \u001b[0;32mdef\u001b[0m \u001b[0mrval\u001b[0m\u001b[0;34m(\u001b[0m\u001b[0mp\u001b[0m\u001b[0;34m=\u001b[0m\u001b[0mp\u001b[0m\u001b[0;34m,\u001b[0m \u001b[0mi\u001b[0m\u001b[0;34m=\u001b[0m\u001b[0mnode_input_storage\u001b[0m\u001b[0;34m,\u001b[0m \u001b[0mo\u001b[0m\u001b[0;34m=\u001b[0m\u001b[0mnode_output_storage\u001b[0m\u001b[0;34m,\u001b[0m \u001b[0mn\u001b[0m\u001b[0;34m=\u001b[0m\u001b[0mnode\u001b[0m\u001b[0;34m)\u001b[0m\u001b[0;34m:\u001b[0m\u001b[0;34m\u001b[0m\u001b[0m\n\u001b[0;32m--> 768\u001b[0;31m                 \u001b[0mr\u001b[0m \u001b[0;34m=\u001b[0m \u001b[0mp\u001b[0m\u001b[0;34m(\u001b[0m\u001b[0mn\u001b[0m\u001b[0;34m,\u001b[0m \u001b[0;34m[\u001b[0m\u001b[0mx\u001b[0m\u001b[0;34m[\u001b[0m\u001b[0;36m0\u001b[0m\u001b[0;34m]\u001b[0m \u001b[0;32mfor\u001b[0m \u001b[0mx\u001b[0m \u001b[0;32min\u001b[0m \u001b[0mi\u001b[0m\u001b[0;34m]\u001b[0m\u001b[0;34m,\u001b[0m \u001b[0mo\u001b[0m\u001b[0;34m)\u001b[0m\u001b[0;34m\u001b[0m\u001b[0m\n\u001b[0m\u001b[1;32m    769\u001b[0m                 \u001b[0;32mfor\u001b[0m \u001b[0mo\u001b[0m \u001b[0;32min\u001b[0m \u001b[0mnode\u001b[0m\u001b[0;34m.\u001b[0m\u001b[0moutputs\u001b[0m\u001b[0;34m:\u001b[0m\u001b[0;34m\u001b[0m\u001b[0m\n\u001b[1;32m    770\u001b[0m                     \u001b[0mcompute_map\u001b[0m\u001b[0;34m[\u001b[0m\u001b[0mo\u001b[0m\u001b[0;34m]\u001b[0m\u001b[0;34m[\u001b[0m\u001b[0;36m0\u001b[0m\u001b[0;34m]\u001b[0m \u001b[0;34m=\u001b[0m \u001b[0;32mTrue\u001b[0m\u001b[0;34m\u001b[0m\u001b[0m\n",
      "\u001b[0;32m~/software/dllib3/lib/python3.6/site-packages/theano/tensor/blas.py\u001b[0m in \u001b[0;36mperform\u001b[0;34m(self, node, inp, out)\u001b[0m\n\u001b[1;32m   1611\u001b[0m         \u001b[0mz\u001b[0m\u001b[0;34m,\u001b[0m \u001b[0;34m=\u001b[0m \u001b[0mout\u001b[0m\u001b[0;34m\u001b[0m\u001b[0m\n\u001b[1;32m   1612\u001b[0m         \u001b[0;32mtry\u001b[0m\u001b[0;34m:\u001b[0m\u001b[0;34m\u001b[0m\u001b[0m\n\u001b[0;32m-> 1613\u001b[0;31m             \u001b[0mz\u001b[0m\u001b[0;34m[\u001b[0m\u001b[0;36m0\u001b[0m\u001b[0;34m]\u001b[0m \u001b[0;34m=\u001b[0m \u001b[0mnumpy\u001b[0m\u001b[0;34m.\u001b[0m\u001b[0masarray\u001b[0m\u001b[0;34m(\u001b[0m\u001b[0mnumpy\u001b[0m\u001b[0;34m.\u001b[0m\u001b[0mdot\u001b[0m\u001b[0;34m(\u001b[0m\u001b[0mx\u001b[0m\u001b[0;34m,\u001b[0m \u001b[0my\u001b[0m\u001b[0;34m)\u001b[0m\u001b[0;34m)\u001b[0m\u001b[0;34m\u001b[0m\u001b[0m\n\u001b[0m\u001b[1;32m   1614\u001b[0m         \u001b[0;32mexcept\u001b[0m \u001b[0mValueError\u001b[0m \u001b[0;32mas\u001b[0m \u001b[0me\u001b[0m\u001b[0;34m:\u001b[0m\u001b[0;34m\u001b[0m\u001b[0m\n\u001b[1;32m   1615\u001b[0m             \u001b[0;31m# The error raised by numpy has no shape information, we mean to\u001b[0m\u001b[0;34m\u001b[0m\u001b[0;34m\u001b[0m\u001b[0m\n",
      "\u001b[0;31mKeyboardInterrupt\u001b[0m: "
     ]
    }
   ],
   "source": [
    "\n",
    "arg = {'seed': 1,\n",
    "       'size': 10000,\n",
    "       'vis': False,\n",
    "       'epochs': 100,\n",
    "       'iterations': 400,\n",
    "       'lr_decay': 0.95,\n",
    "       'batch_size': 100,\n",
    "       'ul_batch_size': 250,\n",
    "       'num_validation_samples': 1000,\n",
    "       'layer_sizes': '784-1200-1200-10',\n",
    "       'dataset': 'mnist',\n",
    "       'epsilon': 0.3,\n",
    "       'cost_type': 'MLE',\n",
    "       'norm_constraint': 'L2',\n",
    "       'num_power_iter': 1,\n",
    "       'lamb': 1,\n",
    "       'lr': 0.001\n",
    "      }\n",
    "train(arg)"
   ]
  },
  {
   "cell_type": "code",
   "execution_count": null,
   "metadata": {},
   "outputs": [],
   "source": [
    "\n",
    "arg = {'seed': 1,\n",
    "       'size': 50000,\n",
    "       'vis': False,\n",
    "       'epochs': 100,\n",
    "       'iterations': 400,\n",
    "       'lr_decay': 0.95,\n",
    "       'batch_size': 100,\n",
    "       'ul_batch_size': 250,\n",
    "       'num_validation_samples': 1000,\n",
    "       'layer_sizes': '784-1200-1200-10',\n",
    "       'dataset': 'mnist',\n",
    "       'epsilon': 0.3,\n",
    "       'cost_type': 'MLE',\n",
    "       'norm_constraint': 'L2',\n",
    "       'num_power_iter': 1,\n",
    "       'lamb': 1,\n",
    "       'lr': 0.001\n",
    "      }\n",
    "train(arg)"
   ]
  }
 ],
 "metadata": {
  "kernelspec": {
   "display_name": "Python 3",
   "language": "python",
   "name": "python3"
  },
  "language_info": {
   "codemirror_mode": {
    "name": "ipython",
    "version": 3
   },
   "file_extension": ".py",
   "mimetype": "text/x-python",
   "name": "python",
   "nbconvert_exporter": "python",
   "pygments_lexer": "ipython3",
   "version": "3.6.4"
  }
 },
 "nbformat": 4,
 "nbformat_minor": 2
}
