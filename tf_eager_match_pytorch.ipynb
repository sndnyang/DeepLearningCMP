{
 "cells": [
  {
   "cell_type": "code",
   "execution_count": 1,
   "metadata": {},
   "outputs": [],
   "source": [
    "import os\n",
    "\n",
    "import numpy as np\n",
    "import tensorflow as tf\n",
    "tf.enable_eager_execution()\n",
    "\n",
    "\n",
    "os.environ[\"TF_CPP_MIN_LOG_LEVEL\"] = '2'\n",
    "os.environ[\"CUDA_DEVICE_ORDER\"] = \"PCI_BUS_ID\"\n",
    "os.environ['CUDA_VISIBLE_DEVICES'] = \"\"\n",
    "\n",
    "tf_config = tf.ConfigProto()\n",
    "tf_config.gpu_options.allow_growth = True\n",
    "tf_config.gpu_options.per_process_gpu_memory_fraction = 0.3"
   ]
  },
  {
   "cell_type": "code",
   "execution_count": 2,
   "metadata": {},
   "outputs": [],
   "source": [
    "%load_ext autoreload\n",
    "%autoreload 2\n",
    "\n",
    "\n",
    "import margin_loss\n",
    "from mnist import data_provider as mnist\n",
    "from mnist import mnist_config\n",
    "from mnist import mnist_model"
   ]
  },
  {
   "cell_type": "code",
   "execution_count": 3,
   "metadata": {},
   "outputs": [
    {
     "name": "stdout",
     "output_type": "stream",
     "text": [
      "(32, 1, 5, 5) 12.210585\n",
      "(64, 32, 5, 5) -0.29181427\n",
      "(512, 3136) 9.986719\n",
      "(10, 512) -1.8749985\n"
     ]
    }
   ],
   "source": [
    "config = mnist_config.ConfigDict()\n",
    "dataset = mnist.MNIST(\n",
    "    data_dir=\"/home/xyang2/project/data/dataset/mnist\",\n",
    "    subset=\"train\",\n",
    "    batch_size=256,\n",
    "    is_training=False)\n",
    "model = mnist_model.MNISTNetwork(config)"
   ]
  },
  {
   "cell_type": "code",
   "execution_count": 4,
   "metadata": {},
   "outputs": [
    {
     "data": {
      "text/plain": [
       "25744.127"
      ]
     },
     "execution_count": 4,
     "metadata": {},
     "output_type": "execute_result"
    }
   ],
   "source": [
    "images, labels, num_examples, num_classes = (dataset.images, dataset.labels, dataset.num_examples, dataset.num_classes)\n",
    "images, labels = dataset.get_next()\n",
    "images.numpy().sum()"
   ]
  },
  {
   "cell_type": "markdown",
   "metadata": {},
   "source": [
    "# tensorflow (eager)"
   ]
  },
  {
   "cell_type": "code",
   "execution_count": 5,
   "metadata": {},
   "outputs": [],
   "source": [
    "def weight_init_tf(shape):\n",
    "    fan_in = 0\n",
    "    if len(shape) == 4:\n",
    "        fan_in = shape[1] * shape[2] * shape[3]\n",
    "    if len(shape) == 2:\n",
    "        fan_in = shape[1]\n",
    "        print(shape)\n",
    "    if fan_in:\n",
    "        s = 1.0 * np.sqrt(6.0 / fan_in)\n",
    "        transpose = np.random.uniform(-s, s, shape).astype(\"float32\")\n",
    "    if len(shape) == 2:\n",
    "        transpose = transpose.T\n",
    "    if len(shape) == 4:\n",
    "        transpose = np.transpose(transpose, axes=(2, 3, 1, 0))\n",
    "    return transpose"
   ]
  },
  {
   "cell_type": "code",
   "execution_count": 6,
   "metadata": {},
   "outputs": [
    {
     "name": "stdout",
     "output_type": "stream",
     "text": [
      "(256, 28, 28, 2)\n"
     ]
    },
    {
     "data": {
      "text/plain": [
       "-58702.617"
      ]
     },
     "execution_count": 6,
     "metadata": {},
     "output_type": "execute_result"
    }
   ],
   "source": [
    "tf.set_random_seed(1)\n",
    "np.random.seed(2)\n",
    "conv_layer = tf.layers.Conv2D(kernel_size=5, filters=2, strides=(1, 1), padding=\"same\",\n",
    "                                          activation=None, use_bias=False, \n",
    "                              kernel_initializer=tf.constant_initializer((weight_init_tf((2, 1, 5, 5)))))\n",
    "tf_h = conv_layer(images)\n",
    "print(tf_h.shape)\n",
    "tf_h.numpy().sum()"
   ]
  },
  {
   "cell_type": "code",
   "execution_count": 7,
   "metadata": {
    "scrolled": true
   },
   "outputs": [
    {
     "data": {
      "text/plain": [
       "-2.2851927"
      ]
     },
     "execution_count": 7,
     "metadata": {},
     "output_type": "execute_result"
    }
   ],
   "source": [
    "conv_layer.weights[0].numpy().sum()"
   ]
  },
  {
   "cell_type": "code",
   "execution_count": 8,
   "metadata": {},
   "outputs": [
    {
     "name": "stdout",
     "output_type": "stream",
     "text": [
      "(10, 784)\n",
      "-372.48087\n"
     ]
    },
    {
     "data": {
      "text/plain": [
       "[<tf.Variable 'dense/kernel:0' shape=(784, 10) dtype=float32, numpy=\n",
       " array([[-0.01451812,  0.0238486 , -0.0420277 , ..., -0.01036794,\n",
       "         -0.03331389,  0.01813593],\n",
       "        [ 0.03854876, -0.02185452,  0.01421322, ..., -0.00674237,\n",
       "         -0.02058679,  0.02875962],\n",
       "        [-0.08746176,  0.06254676,  0.0796543 , ...,  0.01677754,\n",
       "          0.04565297, -0.03981096],\n",
       "        ...,\n",
       "        [ 0.08314659, -0.05625169,  0.03469209, ..., -0.02271525,\n",
       "          0.08669829, -0.05285747],\n",
       "        [-0.03143757,  0.08221023, -0.0618306 , ...,  0.0015496 ,\n",
       "         -0.00324916, -0.00451572],\n",
       "        [ 0.08441833,  0.0423306 ,  0.0196766 , ...,  0.03165539,\n",
       "          0.05910492,  0.07916736]], dtype=float32)>,\n",
       " <tf.Variable 'dense/bias:0' shape=(10,) dtype=float32, numpy=array([0., 0., 0., 0., 0., 0., 0., 0., 0., 0.], dtype=float32)>]"
      ]
     },
     "execution_count": 8,
     "metadata": {},
     "output_type": "execute_result"
    }
   ],
   "source": [
    "np.random.seed(1)\n",
    "tf.set_random_seed(1)\n",
    "fc_layer = tf.layers.Dense(10, activation=None, kernel_initializer=tf.constant_initializer(weight_init_tf((10, 784))))\n",
    "tf_h = fc_layer(tf.reshape(images, [256, 784]))\n",
    "print(tf_h.numpy().sum())\n",
    "fc_layer.weights"
   ]
  },
  {
   "cell_type": "code",
   "execution_count": 9,
   "metadata": {},
   "outputs": [
    {
     "name": "stdout",
     "output_type": "stream",
     "text": [
      "(10, 784)\n",
      "-372.48087\n"
     ]
    },
    {
     "data": {
      "text/plain": [
       "(784, 10)"
      ]
     },
     "execution_count": 9,
     "metadata": {},
     "output_type": "execute_result"
    }
   ],
   "source": [
    "np.random.seed(1)\n",
    "tf.set_random_seed(1)\n",
    "fc_layer = tf.layers.Dense(10, activation=None, kernel_initializer=tf.constant_initializer(weight_init_tf((10, 784))))\n",
    "tf_h = fc_layer(tf.reshape(images, [256, 784]))\n",
    "print(tf_h.numpy().sum())\n",
    "fc_layer.weights[0].numpy().shape"
   ]
  },
  {
   "cell_type": "code",
   "execution_count": 10,
   "metadata": {},
   "outputs": [],
   "source": [
    "tf_prob_vector = tf.nn.softmax(tf_h)"
   ]
  },
  {
   "cell_type": "markdown",
   "metadata": {},
   "source": [
    "# pytorch\n"
   ]
  },
  {
   "cell_type": "code",
   "execution_count": 11,
   "metadata": {},
   "outputs": [],
   "source": [
    "import torch\n",
    "import torch.nn as nn\n",
    "import torch.nn.functional as nfunc\n",
    "from torch.nn.parameter import Parameter"
   ]
  },
  {
   "cell_type": "code",
   "execution_count": 12,
   "metadata": {},
   "outputs": [
    {
     "name": "stdout",
     "output_type": "stream",
     "text": [
      "numpy value 25744.127\n",
      "25744.130859375  compare to tensorflow's value 25744.127\n",
      "torch.Size([256, 1, 28, 28])\n"
     ]
    },
    {
     "ename": "NameError",
     "evalue": "name 'x' is not defined",
     "output_type": "error",
     "traceback": [
      "\u001b[0;31m---------------------------------------------------------------------------\u001b[0m",
      "\u001b[0;31mNameError\u001b[0m                                 Traceback (most recent call last)",
      "\u001b[0;32m<ipython-input-12-edb7f18da082>\u001b[0m in \u001b[0;36m<module>\u001b[0;34m()\u001b[0m\n\u001b[1;32m      5\u001b[0m \u001b[0mprint\u001b[0m\u001b[0;34m(\u001b[0m\u001b[0mtorch_x\u001b[0m\u001b[0;34m.\u001b[0m\u001b[0msum\u001b[0m\u001b[0;34m(\u001b[0m\u001b[0;34m)\u001b[0m\u001b[0;34m.\u001b[0m\u001b[0mitem\u001b[0m\u001b[0;34m(\u001b[0m\u001b[0;34m)\u001b[0m\u001b[0;34m,\u001b[0m \u001b[0;34m\" compare to tensorflow's value\"\u001b[0m\u001b[0;34m,\u001b[0m \u001b[0;36m25744.127\u001b[0m\u001b[0;34m)\u001b[0m\u001b[0;34m\u001b[0m\u001b[0m\n\u001b[1;32m      6\u001b[0m \u001b[0mprint\u001b[0m\u001b[0;34m(\u001b[0m\u001b[0mtorch_x\u001b[0m\u001b[0;34m.\u001b[0m\u001b[0mshape\u001b[0m\u001b[0;34m)\u001b[0m\u001b[0;34m\u001b[0m\u001b[0m\n\u001b[0;32m----> 7\u001b[0;31m \u001b[0mprint\u001b[0m\u001b[0;34m(\u001b[0m\u001b[0;34m\"convert back to numpy\"\u001b[0m\u001b[0;34m,\u001b[0m \u001b[0mx\u001b[0m\u001b[0;34m.\u001b[0m\u001b[0mnumpy\u001b[0m\u001b[0;34m(\u001b[0m\u001b[0;34m)\u001b[0m\u001b[0;34m.\u001b[0m\u001b[0msum\u001b[0m\u001b[0;34m(\u001b[0m\u001b[0;34m)\u001b[0m\u001b[0;34m)\u001b[0m\u001b[0;34m\u001b[0m\u001b[0m\n\u001b[0m",
      "\u001b[0;31mNameError\u001b[0m: name 'x' is not defined"
     ]
    }
   ],
   "source": [
    "# convert tensor from tensorflow to tensor of pytorch\n",
    "torch_x = images.numpy()\n",
    "print(\"numpy value\", torch_x.sum())\n",
    "torch_x = torch.from_numpy(torch_x).permute(0, 3, 1, 2).contiguous()\n",
    "print(torch_x.sum().item(), \" compare to tensorflow's value\", 25744.127)\n",
    "print(torch_x.shape)\n",
    "print(\"convert back to numpy\", x.numpy().sum())"
   ]
  },
  {
   "cell_type": "code",
   "execution_count": 13,
   "metadata": {},
   "outputs": [],
   "source": [
    "def weights_init_kaiming(m):\n",
    "    \"\"\"\n",
    "    initialize normal distribution weight matrix\n",
    "    and set bias to 0\n",
    "    :param m:\n",
    "    :return:\n",
    "    \"\"\"\n",
    "    class_name = m.__class__.__name__\n",
    "    fan_in = 0\n",
    "    if class_name.find('Conv') != -1:\n",
    "        shape = m.weight.data.shape\n",
    "        print(shape)\n",
    "        fan_in = shape[1] * shape[2] * shape[3]\n",
    "    if class_name.find('Linear') != -1:\n",
    "        shape = m.weight.data.shape\n",
    "        fan_in = shape[1]\n",
    "        print(shape)\n",
    "    if fan_in:\n",
    "        s = 1.0 * np.sqrt(6.0 / fan_in)\n",
    "        transpose = np.random.uniform(-s, s, m.weight.data.shape).astype(\"float32\")\n",
    "        tensor = torch.from_numpy(transpose)\n",
    "        m.weight = Parameter(tensor, requires_grad=True)\n",
    "        if m.bias is not None:\n",
    "            m.bias.data.zero_()\n",
    "    if class_name.find('BatchNorm') != -1:\n",
    "        transpose = np.ones(m.weight.data.shape).astype(\"float32\")\n",
    "        tensor = torch.from_numpy(transpose)\n",
    "        m.weight = Parameter(tensor, requires_grad=True)\n",
    "        if m.bias is not None:\n",
    "            m.bias.data.zero_()"
   ]
  },
  {
   "cell_type": "code",
   "execution_count": 14,
   "metadata": {},
   "outputs": [
    {
     "name": "stdout",
     "output_type": "stream",
     "text": [
      "torch.Size([2, 1, 5, 5])\n",
      "torch.Size([256, 2, 28, 28])\n"
     ]
    },
    {
     "data": {
      "text/plain": [
       "tensor(-41546.7070, grad_fn=<SumBackward0>)"
      ]
     },
     "execution_count": 14,
     "metadata": {},
     "output_type": "execute_result"
    }
   ],
   "source": [
    "np.random.seed(1)\n",
    "layer = nn.Conv2d(1, 2, kernel_size=5, stride=(1, 1), padding=2, bias=False)\n",
    "layer.apply(weights_init_kaiming)\n",
    "torch_h = layer(torch_x)\n",
    "print(torch_h.shape)\n",
    "torch_h.sum()"
   ]
  },
  {
   "cell_type": "code",
   "execution_count": 15,
   "metadata": {},
   "outputs": [
    {
     "data": {
      "text/plain": [
       "Parameter containing:\n",
       "tensor([[[[-0.0813,  0.2159, -0.4898, -0.1937, -0.3461],\n",
       "          [-0.3994, -0.3074, -0.1513, -0.1011,  0.0380],\n",
       "          [-0.0792,  0.1815, -0.2896,  0.3705, -0.4631],\n",
       "          [ 0.1670, -0.0810,  0.0575, -0.3523, -0.2958],\n",
       "          [ 0.2947,  0.4588, -0.1828,  0.1884,  0.3688]]],\n",
       "\n",
       "\n",
       "        [[[ 0.3866, -0.4066, -0.4516, -0.3235,  0.3705],\n",
       "          [-0.3935, -0.0773,  0.4486,  0.0325,  0.1880],\n",
       "          [-0.1808,  0.1827,  0.3279, -0.4720,  0.2451],\n",
       "          [ 0.4790,  0.2432, -0.2151,  0.2834, -0.3888],\n",
       "          [-0.0511,  0.4003, -0.2022, -0.2079, -0.3625]]]],\n",
       "       requires_grad=True)"
      ]
     },
     "execution_count": 15,
     "metadata": {},
     "output_type": "execute_result"
    }
   ],
   "source": [
    "layer.weight"
   ]
  },
  {
   "cell_type": "code",
   "execution_count": 16,
   "metadata": {},
   "outputs": [
    {
     "name": "stdout",
     "output_type": "stream",
     "text": [
      "torch.Size([2, 1, 5, 5])\n",
      "torch.Size([256, 2, 28, 28])\n",
      "-58702.6015625 compare to tensorflow's result -58702.617\n"
     ]
    }
   ],
   "source": [
    "np.random.seed(2)\n",
    "layer = nn.Conv2d(1, 2, kernel_size=5, stride=(1, 1), padding=2, bias=False)\n",
    "layer.apply(weights_init_kaiming)\n",
    "torch_h = layer(torch_x)\n",
    "print(torch_h.shape)\n",
    "print(torch_h.sum().item(), \"compare to tensorflow's result\", -58702.617)"
   ]
  },
  {
   "cell_type": "code",
   "execution_count": 17,
   "metadata": {},
   "outputs": [
    {
     "data": {
      "text/plain": [
       "Parameter containing:\n",
       "tensor([[[[-6.2712e-02, -4.6450e-01,  4.8659e-02, -6.3371e-02, -7.8023e-02],\n",
       "          [-1.6624e-01, -2.8938e-01,  1.1686e-01, -1.9630e-01, -2.2846e-01],\n",
       "          [ 1.1869e-01,  2.8553e-02, -3.5804e-01,  1.3304e-02, -3.0918e-01],\n",
       "          [ 2.7957e-01,  3.4682e-01, -5.6467e-03,  3.3956e-01, -4.1186e-01],\n",
       "          [ 5.1401e-03, -4.2593e-01, -7.0425e-02, -3.9532e-01, -3.6531e-01]]],\n",
       "\n",
       "\n",
       "        [[[ 9.4791e-02, -2.6845e-01, -3.8511e-01, -2.7404e-01, -1.4714e-01],\n",
       "          [-3.1562e-02, -2.9223e-01,  1.3757e-01, -1.6588e-02,  5.1309e-03],\n",
       "          [-1.1082e-01,  2.8770e-01,  7.8388e-02, -3.3088e-01,  1.9670e-01],\n",
       "          [ 4.5517e-01,  8.1922e-06,  3.8165e-01, -1.5519e-01,  6.5788e-02],\n",
       "          [-7.0990e-02, -6.1975e-02,  2.7097e-01,  3.4885e-02,  4.4457e-01]]]],\n",
       "       requires_grad=True)"
      ]
     },
     "execution_count": 17,
     "metadata": {},
     "output_type": "execute_result"
    }
   ],
   "source": [
    "layer.weight"
   ]
  },
  {
   "cell_type": "code",
   "execution_count": 18,
   "metadata": {},
   "outputs": [
    {
     "name": "stdout",
     "output_type": "stream",
     "text": [
      "torch.Size([10, 784])\n",
      "torch.Size([256, 10])\n",
      "-372.48089599609375 compare to tensorflow's result -372.48087\n"
     ]
    }
   ],
   "source": [
    "np.random.seed(1)\n",
    "layer = nn.Linear(784, 10)\n",
    "layer.apply(weights_init_kaiming)\n",
    "\n",
    "torch_h = layer(torch_x.view(256, -1))\n",
    "print(torch_h.shape)\n",
    "print(torch_h.sum().item(), \"compare to tensorflow's result\", -372.48087)"
   ]
  },
  {
   "cell_type": "code",
   "execution_count": 19,
   "metadata": {},
   "outputs": [
    {
     "data": {
      "text/plain": [
       "Parameter containing:\n",
       "tensor([[-0.0145,  0.0385, -0.0875,  ...,  0.0831, -0.0314,  0.0844],\n",
       "        [ 0.0238, -0.0219,  0.0625,  ..., -0.0563,  0.0822,  0.0423],\n",
       "        [-0.0420,  0.0142,  0.0797,  ...,  0.0347, -0.0618,  0.0197],\n",
       "        ...,\n",
       "        [-0.0104, -0.0067,  0.0168,  ..., -0.0227,  0.0015,  0.0317],\n",
       "        [-0.0333, -0.0206,  0.0457,  ...,  0.0867, -0.0032,  0.0591],\n",
       "        [ 0.0181,  0.0288, -0.0398,  ..., -0.0529, -0.0045,  0.0792]],\n",
       "       requires_grad=True)"
      ]
     },
     "execution_count": 19,
     "metadata": {},
     "output_type": "execute_result"
    }
   ],
   "source": [
    "layer.weight"
   ]
  },
  {
   "cell_type": "code",
   "execution_count": 20,
   "metadata": {},
   "outputs": [
    {
     "data": {
      "text/plain": [
       "Parameter containing:\n",
       "tensor([0., 0., 0., 0., 0., 0., 0., 0., 0., 0.], requires_grad=True)"
      ]
     },
     "execution_count": 20,
     "metadata": {},
     "output_type": "execute_result"
    }
   ],
   "source": [
    "layer.bias"
   ]
  },
  {
   "cell_type": "code",
   "execution_count": 21,
   "metadata": {},
   "outputs": [],
   "source": [
    "torch_prob_vector = nfunc.softmax(torch_h, dim=1)"
   ]
  },
  {
   "cell_type": "code",
   "execution_count": 22,
   "metadata": {},
   "outputs": [
    {
     "data": {
      "text/plain": [
       "tensor([[0.1658, 0.0800, 0.0848,  ..., 0.1385, 0.0740, 0.1402],\n",
       "        [0.2034, 0.0764, 0.1040,  ..., 0.1530, 0.0461, 0.1414],\n",
       "        [0.1279, 0.1226, 0.0992,  ..., 0.1597, 0.0540, 0.0869],\n",
       "        ...,\n",
       "        [0.1864, 0.1094, 0.1290,  ..., 0.1949, 0.0775, 0.0750],\n",
       "        [0.0786, 0.1713, 0.0787,  ..., 0.1446, 0.0352, 0.0759],\n",
       "        [0.0851, 0.1684, 0.0963,  ..., 0.2776, 0.0361, 0.0498]],\n",
       "       grad_fn=<SoftmaxBackward>)"
      ]
     },
     "execution_count": 22,
     "metadata": {},
     "output_type": "execute_result"
    }
   ],
   "source": [
    "torch_prob_vector"
   ]
  },
  {
   "cell_type": "code",
   "execution_count": 23,
   "metadata": {},
   "outputs": [
    {
     "data": {
      "text/plain": [
       "<tf.Tensor: id=128, shape=(256, 10), dtype=float32, numpy=\n",
       "array([[0.16578935, 0.07995356, 0.08477649, ..., 0.1385049 , 0.07403749,\n",
       "        0.140184  ],\n",
       "       [0.20340426, 0.07643472, 0.10398174, ..., 0.15296923, 0.04614347,\n",
       "        0.14144777],\n",
       "       [0.12792914, 0.12255355, 0.09924566, ..., 0.15965919, 0.05399203,\n",
       "        0.08688193],\n",
       "       ...,\n",
       "       [0.18636437, 0.10938627, 0.12896058, ..., 0.19488415, 0.0774812 ,\n",
       "        0.0749742 ],\n",
       "       [0.07856708, 0.17134057, 0.07866888, ..., 0.1446415 , 0.03522116,\n",
       "        0.0759176 ],\n",
       "       [0.08513853, 0.16843319, 0.0963325 , ..., 0.27759305, 0.03611426,\n",
       "        0.04978047]], dtype=float32)>"
      ]
     },
     "execution_count": 23,
     "metadata": {},
     "output_type": "execute_result"
    }
   ],
   "source": [
    "tf_prob_vector"
   ]
  },
  {
   "cell_type": "code",
   "execution_count": null,
   "metadata": {},
   "outputs": [],
   "source": []
  }
 ],
 "metadata": {
  "kernelspec": {
   "display_name": "Python 3",
   "language": "python",
   "name": "python3"
  },
  "language_info": {
   "codemirror_mode": {
    "name": "ipython",
    "version": 3
   },
   "file_extension": ".py",
   "mimetype": "text/x-python",
   "name": "python",
   "nbconvert_exporter": "python",
   "pygments_lexer": "ipython3",
   "version": "3.6.4"
  }
 },
 "nbformat": 4,
 "nbformat_minor": 2
}
